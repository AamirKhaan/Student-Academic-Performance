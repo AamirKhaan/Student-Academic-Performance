{
 "cells": [
  {
   "cell_type": "markdown",
   "id": "a8c15835",
   "metadata": {},
   "source": [
    "<a href=\"https://colab.research.google.com/github/AamirKhaan/Student-Academic-Performance/blob/master/04_Feature_Engineering.ipynb\" target=\"_parent\"><img src=\"https://colab.research.google.com/assets/colab-badge.svg\" alt=\"Open In Colab\"/></a>"
   ]
  },
  {
   "cell_type": "markdown",
   "id": "ffe4ac41",
   "metadata": {},
   "source": [
    "<h1 style=\"background-color:Aqua; padding:20px; border-radius:10px\">Feature Engineering</h1>"
   ]
  },
  {
   "cell_type": "markdown",
   "id": "cec55afc",
   "metadata": {},
   "source": [
    "## Overview"
   ]
  },
  {
   "cell_type": "markdown",
   "id": "e9a3eb38",
   "metadata": {},
   "source": [
    "<div style=\"background-color:Gainsboro; padding:20px; text-align:justify; font-weight: bold\">\n",
    "    <p>In this section we will </p>\n",
    "    <ol>\n",
    "        <li>Import Categorical Data</li>\n",
    "        <li>Perform Feature Engineering (on required categories)</li>\n",
    "        <li>Apply Feature Engineering</li>\n",
    "        <li>Save Modified Data</li>\n",
    "    </ol>\n",
    "</div>"
   ]
  },
  {
   "cell_type": "markdown",
   "id": "2523b32a",
   "metadata": {},
   "source": [
    "### Standard Imports"
   ]
  },
  {
   "cell_type": "code",
   "execution_count": 1,
   "id": "73fdff66",
   "metadata": {},
   "outputs": [],
   "source": [
    "import numpy as np\n",
    "import pandas as pd\n",
    "import seaborn as sns\n",
    "import matplotlib.pyplot as plt"
   ]
  },
  {
   "cell_type": "code",
   "execution_count": 2,
   "id": "48dfd00d",
   "metadata": {},
   "outputs": [
    {
     "name": "stdout",
     "output_type": "stream",
     "text": [
      "Pretty printing has been turned OFF\n"
     ]
    }
   ],
   "source": [
    "# Jupyter Noteboook Configurations (personal prefrences)\n",
    "# Ignore warnings\n",
    "import warnings\n",
    "warnings.filterwarnings('ignore')\n",
    "# Disable pretty\n",
    "%pprint\n",
    "%matplotlib inline\n",
    "\n",
    "pd.set_option('display.max_columns', None)\n",
    "sns.set() "
   ]
  },
  {
   "cell_type": "code",
   "execution_count": 3,
   "id": "051a7a73",
   "metadata": {},
   "outputs": [],
   "source": [
    "# Global parameters for figure\n",
    "plt.rcParams[\"figure.figsize\"] = [10.00, 8.00]\n",
    "plt.rcParams[\"figure.dpi\"] = 100\n",
    "plt.rcParams[\"figure.autolayout\"] = True"
   ]
  },
  {
   "cell_type": "markdown",
   "id": "052e6699",
   "metadata": {},
   "source": [
    "### 1. Import Categorical Data"
   ]
  },
  {
   "cell_type": "code",
   "execution_count": 4,
   "id": "0cbc11e4",
   "metadata": {},
   "outputs": [],
   "source": [
    "CATEGORICAL_FEATURES = ['gender', 'nationality','place_of_birth', 'stage_id', 'grade_id', 'section_id', 'topic', \n",
    "                        'semester', 'relation', 'parent_answering_survey', 'parent_school_satisfaction', \n",
    "                        'student_absence_days','class']"
   ]
  },
  {
   "cell_type": "code",
   "execution_count": 5,
   "id": "6533d84e",
   "metadata": {},
   "outputs": [],
   "source": [
    "# Import the Student's data from local storage\n",
    "# ! Dont' run the cell in colab\n",
    "categorical_df = pd.read_csv('./data/xAPI-Edu-Data_cleaned.csv', usecols = CATEGORICAL_FEATURES)"
   ]
  },
  {
   "cell_type": "code",
   "execution_count": 6,
   "id": "fdc1a2bd",
   "metadata": {},
   "outputs": [],
   "source": [
    "# Import the Student's data from github storage\n",
    "# Run only in colab\n",
    "url = 'https://raw.githubusercontent.com/AamirKhaan/Student-Academic-Performance/main/data/xAPI-Edu-Data_cleaned.csv'\n",
    "categorical_df = pd.read_csv(url, usecols = CATEGORICAL_FEATURES )"
   ]
  },
  {
   "cell_type": "code",
   "execution_count": 7,
   "id": "87f2deca",
   "metadata": {},
   "outputs": [
    {
     "data": {
      "text/html": [
       "<div>\n",
       "<style scoped>\n",
       "    .dataframe tbody tr th:only-of-type {\n",
       "        vertical-align: middle;\n",
       "    }\n",
       "\n",
       "    .dataframe tbody tr th {\n",
       "        vertical-align: top;\n",
       "    }\n",
       "\n",
       "    .dataframe thead th {\n",
       "        text-align: right;\n",
       "    }\n",
       "</style>\n",
       "<table border=\"1\" class=\"dataframe\">\n",
       "  <thead>\n",
       "    <tr style=\"text-align: right;\">\n",
       "      <th></th>\n",
       "      <th>gender</th>\n",
       "      <th>nationality</th>\n",
       "      <th>place_of_birth</th>\n",
       "      <th>stage_id</th>\n",
       "      <th>grade_id</th>\n",
       "      <th>section_id</th>\n",
       "      <th>topic</th>\n",
       "      <th>semester</th>\n",
       "      <th>relation</th>\n",
       "      <th>parent_answering_survey</th>\n",
       "      <th>parent_school_satisfaction</th>\n",
       "      <th>student_absence_days</th>\n",
       "      <th>class</th>\n",
       "    </tr>\n",
       "  </thead>\n",
       "  <tbody>\n",
       "    <tr>\n",
       "      <th>0</th>\n",
       "      <td>M</td>\n",
       "      <td>Kuwait</td>\n",
       "      <td>Kuwait</td>\n",
       "      <td>LowerLevel</td>\n",
       "      <td>G-04</td>\n",
       "      <td>A</td>\n",
       "      <td>IT</td>\n",
       "      <td>F</td>\n",
       "      <td>Father</td>\n",
       "      <td>Yes</td>\n",
       "      <td>Good</td>\n",
       "      <td>Under-7</td>\n",
       "      <td>M</td>\n",
       "    </tr>\n",
       "    <tr>\n",
       "      <th>1</th>\n",
       "      <td>M</td>\n",
       "      <td>Kuwait</td>\n",
       "      <td>Kuwait</td>\n",
       "      <td>LowerLevel</td>\n",
       "      <td>G-04</td>\n",
       "      <td>A</td>\n",
       "      <td>IT</td>\n",
       "      <td>F</td>\n",
       "      <td>Father</td>\n",
       "      <td>Yes</td>\n",
       "      <td>Good</td>\n",
       "      <td>Under-7</td>\n",
       "      <td>M</td>\n",
       "    </tr>\n",
       "    <tr>\n",
       "      <th>2</th>\n",
       "      <td>M</td>\n",
       "      <td>Kuwait</td>\n",
       "      <td>Kuwait</td>\n",
       "      <td>LowerLevel</td>\n",
       "      <td>G-04</td>\n",
       "      <td>A</td>\n",
       "      <td>IT</td>\n",
       "      <td>F</td>\n",
       "      <td>Father</td>\n",
       "      <td>No</td>\n",
       "      <td>Bad</td>\n",
       "      <td>Above-7</td>\n",
       "      <td>L</td>\n",
       "    </tr>\n",
       "    <tr>\n",
       "      <th>3</th>\n",
       "      <td>M</td>\n",
       "      <td>Kuwait</td>\n",
       "      <td>Kuwait</td>\n",
       "      <td>LowerLevel</td>\n",
       "      <td>G-04</td>\n",
       "      <td>A</td>\n",
       "      <td>IT</td>\n",
       "      <td>F</td>\n",
       "      <td>Father</td>\n",
       "      <td>No</td>\n",
       "      <td>Bad</td>\n",
       "      <td>Above-7</td>\n",
       "      <td>L</td>\n",
       "    </tr>\n",
       "    <tr>\n",
       "      <th>4</th>\n",
       "      <td>M</td>\n",
       "      <td>Kuwait</td>\n",
       "      <td>Kuwait</td>\n",
       "      <td>LowerLevel</td>\n",
       "      <td>G-04</td>\n",
       "      <td>A</td>\n",
       "      <td>IT</td>\n",
       "      <td>F</td>\n",
       "      <td>Father</td>\n",
       "      <td>No</td>\n",
       "      <td>Bad</td>\n",
       "      <td>Above-7</td>\n",
       "      <td>M</td>\n",
       "    </tr>\n",
       "  </tbody>\n",
       "</table>\n",
       "</div>"
      ],
      "text/plain": [
       "  gender nationality place_of_birth    stage_id grade_id section_id topic  \\\n",
       "0      M      Kuwait         Kuwait  LowerLevel     G-04          A    IT   \n",
       "1      M      Kuwait         Kuwait  LowerLevel     G-04          A    IT   \n",
       "2      M      Kuwait         Kuwait  LowerLevel     G-04          A    IT   \n",
       "3      M      Kuwait         Kuwait  LowerLevel     G-04          A    IT   \n",
       "4      M      Kuwait         Kuwait  LowerLevel     G-04          A    IT   \n",
       "\n",
       "  semester relation parent_answering_survey parent_school_satisfaction  \\\n",
       "0        F   Father                     Yes                       Good   \n",
       "1        F   Father                     Yes                       Good   \n",
       "2        F   Father                      No                        Bad   \n",
       "3        F   Father                      No                        Bad   \n",
       "4        F   Father                      No                        Bad   \n",
       "\n",
       "  student_absence_days class  \n",
       "0              Under-7     M  \n",
       "1              Under-7     M  \n",
       "2              Above-7     L  \n",
       "3              Above-7     L  \n",
       "4              Above-7     M  "
      ]
     },
     "execution_count": 7,
     "metadata": {},
     "output_type": "execute_result"
    }
   ],
   "source": [
    "# Cheack the data is properly loaded\n",
    "categorical_df.head()"
   ]
  },
  {
   "cell_type": "code",
   "execution_count": 8,
   "id": "37e1205a",
   "metadata": {},
   "outputs": [
    {
     "data": {
      "text/plain": [
       "gender                        category\n",
       "nationality                   category\n",
       "place_of_birth                category\n",
       "stage_id                      category\n",
       "grade_id                      category\n",
       "section_id                    category\n",
       "topic                         category\n",
       "semester                      category\n",
       "relation                      category\n",
       "parent_answering_survey       category\n",
       "parent_school_satisfaction    category\n",
       "student_absence_days          category\n",
       "class                         category\n",
       "dtype: object"
      ]
     },
     "execution_count": 8,
     "metadata": {},
     "output_type": "execute_result"
    }
   ],
   "source": [
    "# Convert Data Type to Categories for efficent memory utilization\n",
    "for feature in categorical_df.columns:\n",
    "    categorical_df[feature] = categorical_df[feature].astype('category')\n",
    "categorical_df.dtypes"
   ]
  },
  {
   "cell_type": "code",
   "execution_count": 9,
   "id": "81e3d969",
   "metadata": {},
   "outputs": [],
   "source": [
    "NOMINAL_FEATURES = ['nationality','place_of_birth', 'section_id', 'topic']\n",
    "ORDINAL_FEATURES = ['stage_id', 'grade_id']"
   ]
  },
  {
   "cell_type": "code",
   "execution_count": 10,
   "id": "eed92081",
   "metadata": {},
   "outputs": [],
   "source": [
    "nominal_df = categorical_df[NOMINAL_FEATURES]\n",
    "ordinal_df = categorical_df[ORDINAL_FEATURES]"
   ]
  },
  {
   "cell_type": "markdown",
   "id": "2b888d87",
   "metadata": {},
   "source": [
    "### 2. Perform Feature Engineering"
   ]
  },
  {
   "cell_type": "markdown",
   "id": "66a5ed08",
   "metadata": {},
   "source": [
    "<div style=\"background-color:Gainsboro; padding:20px; text-align:justify; font-size:120%\">\n",
    "As a result of visual anaylsis of categorical data it was obvious that <strong>'nationality'</strong>, <strong>'place_of_birth'</strong> and <strong>topic</strong> require feature engineering to reduce the high cardinalty and rare lables.\n",
    "</div>"
   ]
  },
  {
   "cell_type": "markdown",
   "id": "ad335ca2",
   "metadata": {},
   "source": [
    "#### 2.1 Nominal "
   ]
  },
  {
   "cell_type": "markdown",
   "id": "3eb04feb",
   "metadata": {},
   "source": [
    "#### nationality and place_of_birth"
   ]
  },
  {
   "cell_type": "code",
   "execution_count": 11,
   "id": "2d8ef0b9",
   "metadata": {},
   "outputs": [],
   "source": [
    "nationality_df = pd.DataFrame(nominal_df['nationality'].value_counts()).reset_index()\n",
    "place_of_birth_df = pd.DataFrame(nominal_df['place_of_birth'].value_counts()).reset_index()"
   ]
  },
  {
   "cell_type": "code",
   "execution_count": 12,
   "id": "06fc3929",
   "metadata": {},
   "outputs": [
    {
     "data": {
      "text/html": [
       "<div>\n",
       "<style scoped>\n",
       "    .dataframe tbody tr th:only-of-type {\n",
       "        vertical-align: middle;\n",
       "    }\n",
       "\n",
       "    .dataframe tbody tr th {\n",
       "        vertical-align: top;\n",
       "    }\n",
       "\n",
       "    .dataframe thead th {\n",
       "        text-align: right;\n",
       "    }\n",
       "</style>\n",
       "<table border=\"1\" class=\"dataframe\">\n",
       "  <thead>\n",
       "    <tr style=\"text-align: right;\">\n",
       "      <th></th>\n",
       "      <th>index</th>\n",
       "      <th>nationality</th>\n",
       "      <th>place_of_birth</th>\n",
       "      <th>nationality %</th>\n",
       "      <th>place_of_birth %</th>\n",
       "    </tr>\n",
       "  </thead>\n",
       "  <tbody>\n",
       "    <tr>\n",
       "      <th>0</th>\n",
       "      <td>Kuwait</td>\n",
       "      <td>179</td>\n",
       "      <td>180</td>\n",
       "      <td>37.447699</td>\n",
       "      <td>37.656904</td>\n",
       "    </tr>\n",
       "    <tr>\n",
       "      <th>1</th>\n",
       "      <td>Jordan</td>\n",
       "      <td>170</td>\n",
       "      <td>174</td>\n",
       "      <td>35.564854</td>\n",
       "      <td>36.401674</td>\n",
       "    </tr>\n",
       "    <tr>\n",
       "      <th>2</th>\n",
       "      <td>Palestine</td>\n",
       "      <td>28</td>\n",
       "      <td>10</td>\n",
       "      <td>5.857741</td>\n",
       "      <td>2.092050</td>\n",
       "    </tr>\n",
       "    <tr>\n",
       "      <th>3</th>\n",
       "      <td>Iraq</td>\n",
       "      <td>22</td>\n",
       "      <td>22</td>\n",
       "      <td>4.602510</td>\n",
       "      <td>4.602510</td>\n",
       "    </tr>\n",
       "    <tr>\n",
       "      <th>4</th>\n",
       "      <td>Lebanon</td>\n",
       "      <td>17</td>\n",
       "      <td>19</td>\n",
       "      <td>3.556485</td>\n",
       "      <td>3.974895</td>\n",
       "    </tr>\n",
       "    <tr>\n",
       "      <th>5</th>\n",
       "      <td>Tunis</td>\n",
       "      <td>12</td>\n",
       "      <td>9</td>\n",
       "      <td>2.510460</td>\n",
       "      <td>1.882845</td>\n",
       "    </tr>\n",
       "    <tr>\n",
       "      <th>6</th>\n",
       "      <td>SaudiArabia</td>\n",
       "      <td>11</td>\n",
       "      <td>16</td>\n",
       "      <td>2.301255</td>\n",
       "      <td>3.347280</td>\n",
       "    </tr>\n",
       "    <tr>\n",
       "      <th>7</th>\n",
       "      <td>Egypt</td>\n",
       "      <td>9</td>\n",
       "      <td>9</td>\n",
       "      <td>1.882845</td>\n",
       "      <td>1.882845</td>\n",
       "    </tr>\n",
       "    <tr>\n",
       "      <th>8</th>\n",
       "      <td>Syria</td>\n",
       "      <td>7</td>\n",
       "      <td>6</td>\n",
       "      <td>1.464435</td>\n",
       "      <td>1.255230</td>\n",
       "    </tr>\n",
       "    <tr>\n",
       "      <th>9</th>\n",
       "      <td>Iran</td>\n",
       "      <td>6</td>\n",
       "      <td>6</td>\n",
       "      <td>1.255230</td>\n",
       "      <td>1.255230</td>\n",
       "    </tr>\n",
       "    <tr>\n",
       "      <th>10</th>\n",
       "      <td>Libya</td>\n",
       "      <td>6</td>\n",
       "      <td>6</td>\n",
       "      <td>1.255230</td>\n",
       "      <td>1.255230</td>\n",
       "    </tr>\n",
       "    <tr>\n",
       "      <th>11</th>\n",
       "      <td>USA</td>\n",
       "      <td>6</td>\n",
       "      <td>16</td>\n",
       "      <td>1.255230</td>\n",
       "      <td>3.347280</td>\n",
       "    </tr>\n",
       "    <tr>\n",
       "      <th>12</th>\n",
       "      <td>Morocco</td>\n",
       "      <td>4</td>\n",
       "      <td>4</td>\n",
       "      <td>0.836820</td>\n",
       "      <td>0.836820</td>\n",
       "    </tr>\n",
       "    <tr>\n",
       "      <th>13</th>\n",
       "      <td>Venezuela</td>\n",
       "      <td>1</td>\n",
       "      <td>1</td>\n",
       "      <td>0.209205</td>\n",
       "      <td>0.209205</td>\n",
       "    </tr>\n",
       "  </tbody>\n",
       "</table>\n",
       "</div>"
      ],
      "text/plain": [
       "          index  nationality  place_of_birth  nationality %  place_of_birth %\n",
       "0        Kuwait          179             180      37.447699         37.656904\n",
       "1        Jordan          170             174      35.564854         36.401674\n",
       "2     Palestine           28              10       5.857741          2.092050\n",
       "3          Iraq           22              22       4.602510          4.602510\n",
       "4       Lebanon           17              19       3.556485          3.974895\n",
       "5         Tunis           12               9       2.510460          1.882845\n",
       "6   SaudiArabia           11              16       2.301255          3.347280\n",
       "7         Egypt            9               9       1.882845          1.882845\n",
       "8         Syria            7               6       1.464435          1.255230\n",
       "9          Iran            6               6       1.255230          1.255230\n",
       "10        Libya            6               6       1.255230          1.255230\n",
       "11          USA            6              16       1.255230          3.347280\n",
       "12      Morocco            4               4       0.836820          0.836820\n",
       "13    Venezuela            1               1       0.209205          0.209205"
      ]
     },
     "execution_count": 12,
     "metadata": {},
     "output_type": "execute_result"
    }
   ],
   "source": [
    "# Comparing the nationality and place of birth together\n",
    "geographical_df = nationality_df.merge(place_of_birth_df, how='left', on='index')\n",
    "geographical_df.columns = ['index','nationality', 'place_of_birth']\n",
    "geographical_df['nationality %'] = (geographical_df['nationality']/geographical_df['nationality'].sum())*100\n",
    "geographical_df['place_of_birth %'] = (geographical_df['place_of_birth']/geographical_df['place_of_birth'].sum())*100\n",
    "geographical_df"
   ]
  },
  {
   "cell_type": "code",
   "execution_count": 13,
   "id": "b24d9bd3",
   "metadata": {},
   "outputs": [
    {
     "data": {
      "image/png": "[encoded data removed]",
      "text/plain": [
       "<Figure size 900x600 with 1 Axes>"
      ]
     },
     "metadata": {},
     "output_type": "display_data"
    }
   ],
   "source": [
    "labels = list(geographical_df['index'])[::-1]\n",
    "counts_nationality= list(geographical_df['nationality'])[::-1]\n",
    "counts_place_of_birth=list(geographical_df['place_of_birth'])[::-1]\n",
    "\n",
    "y = np.arange(len(labels))  # the label locations\n",
    "width = 0.5  # the width of the bars\n",
    "\n",
    "fig, ax = plt.subplots(figsize=(9, 6))\n",
    "rects1 = ax.barh(y - width/2, counts_nationality, width, label='Nationality')\n",
    "rects2 = ax.barh(y + width/2, counts_place_of_birth, width, label='Place of Birth')\n",
    "\n",
    "# Add some text for labels, title and custom x-axis tick labels, etc.\n",
    "ax.set_ylabel('Countries')\n",
    "ax.set_title(\"'nationality' & 'place_of_birth'\")\n",
    "ax.set_yticks(y, labels)\n",
    "ax.legend(loc=4)\n",
    "\n",
    "ax.bar_label(rects1, padding=5)\n",
    "ax.bar_label(rects2, padding=5)\n",
    "\n",
    "fig.tight_layout()\n",
    "\n",
    "plt.show()"
   ]
  },
  {
   "cell_type": "markdown",
   "id": "297fcdfb",
   "metadata": {},
   "source": [
    "<div style=\"background-color:Gainsboro; padding:20px; text-align:justify; font-size: 120%\">\n",
    "Visualizing <strong>'nationality'</strong> and <strong>'placeof_birth'</strong> side by side shows similarties in the two features.\n",
    "</div>"
   ]
  },
  {
   "cell_type": "code",
   "execution_count": 14,
   "id": "63d9f302",
   "metadata": {},
   "outputs": [
    {
     "data": {
      "text/html": [
       "<div>\n",
       "<style scoped>\n",
       "    .dataframe tbody tr th:only-of-type {\n",
       "        vertical-align: middle;\n",
       "    }\n",
       "\n",
       "    .dataframe tbody tr th {\n",
       "        vertical-align: top;\n",
       "    }\n",
       "\n",
       "    .dataframe thead th {\n",
       "        text-align: right;\n",
       "    }\n",
       "</style>\n",
       "<table border=\"1\" class=\"dataframe\">\n",
       "  <thead>\n",
       "    <tr style=\"text-align: right;\">\n",
       "      <th></th>\n",
       "      <th>index</th>\n",
       "      <th>nationality</th>\n",
       "      <th>place_of_birth</th>\n",
       "      <th>nationality %</th>\n",
       "      <th>place_of_birth %</th>\n",
       "    </tr>\n",
       "  </thead>\n",
       "  <tbody>\n",
       "    <tr>\n",
       "      <th>0</th>\n",
       "      <td>Kuwait</td>\n",
       "      <td>179</td>\n",
       "      <td>180</td>\n",
       "      <td>37.447699</td>\n",
       "      <td>37.656904</td>\n",
       "    </tr>\n",
       "    <tr>\n",
       "      <th>1</th>\n",
       "      <td>Jordan</td>\n",
       "      <td>170</td>\n",
       "      <td>174</td>\n",
       "      <td>35.564854</td>\n",
       "      <td>36.401674</td>\n",
       "    </tr>\n",
       "    <tr>\n",
       "      <th>2</th>\n",
       "      <td>Palestine</td>\n",
       "      <td>28</td>\n",
       "      <td>10</td>\n",
       "      <td>5.857741</td>\n",
       "      <td>2.092050</td>\n",
       "    </tr>\n",
       "    <tr>\n",
       "      <th>3</th>\n",
       "      <td>Iraq</td>\n",
       "      <td>22</td>\n",
       "      <td>22</td>\n",
       "      <td>4.602510</td>\n",
       "      <td>4.602510</td>\n",
       "    </tr>\n",
       "    <tr>\n",
       "      <th>4</th>\n",
       "      <td>Lebanon</td>\n",
       "      <td>17</td>\n",
       "      <td>19</td>\n",
       "      <td>3.556485</td>\n",
       "      <td>3.974895</td>\n",
       "    </tr>\n",
       "    <tr>\n",
       "      <th>5</th>\n",
       "      <td>Tunis</td>\n",
       "      <td>12</td>\n",
       "      <td>9</td>\n",
       "      <td>2.510460</td>\n",
       "      <td>1.882845</td>\n",
       "    </tr>\n",
       "    <tr>\n",
       "      <th>6</th>\n",
       "      <td>SaudiArabia</td>\n",
       "      <td>11</td>\n",
       "      <td>16</td>\n",
       "      <td>2.301255</td>\n",
       "      <td>3.347280</td>\n",
       "    </tr>\n",
       "    <tr>\n",
       "      <th>7</th>\n",
       "      <td>Egypt</td>\n",
       "      <td>9</td>\n",
       "      <td>9</td>\n",
       "      <td>1.882845</td>\n",
       "      <td>1.882845</td>\n",
       "    </tr>\n",
       "    <tr>\n",
       "      <th>8</th>\n",
       "      <td>Syria</td>\n",
       "      <td>7</td>\n",
       "      <td>6</td>\n",
       "      <td>1.464435</td>\n",
       "      <td>1.255230</td>\n",
       "    </tr>\n",
       "    <tr>\n",
       "      <th>9</th>\n",
       "      <td>Iran</td>\n",
       "      <td>6</td>\n",
       "      <td>6</td>\n",
       "      <td>1.255230</td>\n",
       "      <td>1.255230</td>\n",
       "    </tr>\n",
       "    <tr>\n",
       "      <th>10</th>\n",
       "      <td>Libya</td>\n",
       "      <td>6</td>\n",
       "      <td>6</td>\n",
       "      <td>1.255230</td>\n",
       "      <td>1.255230</td>\n",
       "    </tr>\n",
       "    <tr>\n",
       "      <th>11</th>\n",
       "      <td>USA</td>\n",
       "      <td>6</td>\n",
       "      <td>16</td>\n",
       "      <td>1.255230</td>\n",
       "      <td>3.347280</td>\n",
       "    </tr>\n",
       "    <tr>\n",
       "      <th>12</th>\n",
       "      <td>Morocco</td>\n",
       "      <td>4</td>\n",
       "      <td>4</td>\n",
       "      <td>0.836820</td>\n",
       "      <td>0.836820</td>\n",
       "    </tr>\n",
       "    <tr>\n",
       "      <th>13</th>\n",
       "      <td>Venezuela</td>\n",
       "      <td>1</td>\n",
       "      <td>1</td>\n",
       "      <td>0.209205</td>\n",
       "      <td>0.209205</td>\n",
       "    </tr>\n",
       "  </tbody>\n",
       "</table>\n",
       "</div>"
      ],
      "text/plain": [
       "          index  nationality  place_of_birth  nationality %  place_of_birth %\n",
       "0        Kuwait          179             180      37.447699         37.656904\n",
       "1        Jordan          170             174      35.564854         36.401674\n",
       "2     Palestine           28              10       5.857741          2.092050\n",
       "3          Iraq           22              22       4.602510          4.602510\n",
       "4       Lebanon           17              19       3.556485          3.974895\n",
       "5         Tunis           12               9       2.510460          1.882845\n",
       "6   SaudiArabia           11              16       2.301255          3.347280\n",
       "7         Egypt            9               9       1.882845          1.882845\n",
       "8         Syria            7               6       1.464435          1.255230\n",
       "9          Iran            6               6       1.255230          1.255230\n",
       "10        Libya            6               6       1.255230          1.255230\n",
       "11          USA            6              16       1.255230          3.347280\n",
       "12      Morocco            4               4       0.836820          0.836820\n",
       "13    Venezuela            1               1       0.209205          0.209205"
      ]
     },
     "execution_count": 14,
     "metadata": {},
     "output_type": "execute_result"
    }
   ],
   "source": [
    "geographical_df"
   ]
  },
  {
   "cell_type": "markdown",
   "id": "d9801ea4",
   "metadata": {},
   "source": [
    "<div style=\"background-color:Gainsboro; padding:20px; text-align:justify; font-size: 120%\">\n",
    "Combining <strong>'nationality'</strong> and <strong>'placeof_birth'</strong> together in a dataframe we can calculate the percentage of each label in the categories.\n",
    "</div>"
   ]
  },
  {
   "cell_type": "code",
   "execution_count": 15,
   "id": "20b9d355",
   "metadata": {},
   "outputs": [
    {
     "data": {
      "text/html": [
       "<div>\n",
       "<style scoped>\n",
       "    .dataframe tbody tr th:only-of-type {\n",
       "        vertical-align: middle;\n",
       "    }\n",
       "\n",
       "    .dataframe tbody tr th {\n",
       "        vertical-align: top;\n",
       "    }\n",
       "\n",
       "    .dataframe thead th {\n",
       "        text-align: right;\n",
       "    }\n",
       "</style>\n",
       "<table border=\"1\" class=\"dataframe\">\n",
       "  <thead>\n",
       "    <tr style=\"text-align: right;\">\n",
       "      <th></th>\n",
       "      <th>index</th>\n",
       "      <th>labels</th>\n",
       "    </tr>\n",
       "  </thead>\n",
       "  <tbody>\n",
       "    <tr>\n",
       "      <th>0</th>\n",
       "      <td>Kuwait</td>\n",
       "      <td>Kuwait</td>\n",
       "    </tr>\n",
       "    <tr>\n",
       "      <th>1</th>\n",
       "      <td>Jordan</td>\n",
       "      <td>Jordan</td>\n",
       "    </tr>\n",
       "    <tr>\n",
       "      <th>2</th>\n",
       "      <td>Palestine</td>\n",
       "      <td>Others</td>\n",
       "    </tr>\n",
       "    <tr>\n",
       "      <th>3</th>\n",
       "      <td>Iraq</td>\n",
       "      <td>Others</td>\n",
       "    </tr>\n",
       "    <tr>\n",
       "      <th>4</th>\n",
       "      <td>Lebanon</td>\n",
       "      <td>Others</td>\n",
       "    </tr>\n",
       "    <tr>\n",
       "      <th>5</th>\n",
       "      <td>Tunis</td>\n",
       "      <td>Others</td>\n",
       "    </tr>\n",
       "    <tr>\n",
       "      <th>6</th>\n",
       "      <td>SaudiArabia</td>\n",
       "      <td>Others</td>\n",
       "    </tr>\n",
       "    <tr>\n",
       "      <th>7</th>\n",
       "      <td>Egypt</td>\n",
       "      <td>Others</td>\n",
       "    </tr>\n",
       "    <tr>\n",
       "      <th>8</th>\n",
       "      <td>Syria</td>\n",
       "      <td>Others</td>\n",
       "    </tr>\n",
       "    <tr>\n",
       "      <th>9</th>\n",
       "      <td>Iran</td>\n",
       "      <td>Others</td>\n",
       "    </tr>\n",
       "    <tr>\n",
       "      <th>10</th>\n",
       "      <td>Libya</td>\n",
       "      <td>Others</td>\n",
       "    </tr>\n",
       "    <tr>\n",
       "      <th>11</th>\n",
       "      <td>USA</td>\n",
       "      <td>Others</td>\n",
       "    </tr>\n",
       "    <tr>\n",
       "      <th>12</th>\n",
       "      <td>Morocco</td>\n",
       "      <td>Others</td>\n",
       "    </tr>\n",
       "    <tr>\n",
       "      <th>13</th>\n",
       "      <td>Venezuela</td>\n",
       "      <td>Others</td>\n",
       "    </tr>\n",
       "  </tbody>\n",
       "</table>\n",
       "</div>"
      ],
      "text/plain": [
       "          index  labels\n",
       "0        Kuwait  Kuwait\n",
       "1        Jordan  Jordan\n",
       "2     Palestine  Others\n",
       "3          Iraq  Others\n",
       "4       Lebanon  Others\n",
       "5         Tunis  Others\n",
       "6   SaudiArabia  Others\n",
       "7         Egypt  Others\n",
       "8         Syria  Others\n",
       "9          Iran  Others\n",
       "10        Libya  Others\n",
       "11          USA  Others\n",
       "12      Morocco  Others\n",
       "13    Venezuela  Others"
      ]
     },
     "execution_count": 15,
     "metadata": {},
     "output_type": "execute_result"
    }
   ],
   "source": [
    "country_map = { 'Kuwait':'Kuwait', 'Lebanon':'Others', 'Egypt' : 'Others', 'SaudiArabia':'Others', 'USA':'Others',\n",
    "    'Jordan':'Jordan', 'Venezuela':'Others', 'Iran':'Others', 'Tunis':'Others', 'Morocco':'Others', 'Syria':'Others',\n",
    "    'Palestine':'Others', 'Iraq':'Others', 'Libya':'Others' }\n",
    "\n",
    "geographical_df['labels']= geographical_df['index'].map(country_map)\n",
    "geographical_df[['index', 'labels']]"
   ]
  },
  {
   "cell_type": "code",
   "execution_count": 16,
   "id": "b793d8b8",
   "metadata": {},
   "outputs": [],
   "source": [
    "nominal_df['modified_nationality']= nominal_df['nationality'].map(country_map)\n",
    "nominal_df['modified_place_of_birth']= nominal_df['place_of_birth'].map(country_map)"
   ]
  },
  {
   "cell_type": "code",
   "execution_count": 17,
   "id": "103a4f88",
   "metadata": {},
   "outputs": [
    {
     "data": {
      "image/png": "[encoded data removed]",
      "text/plain": [
       "<Figure size 700x400 with 2 Axes>"
      ]
     },
     "metadata": {},
     "output_type": "display_data"
    }
   ],
   "source": [
    "plt.rcParams[\"figure.figsize\"] = [7.00, 4.00]\n",
    "\n",
    "fig, axs = plt.subplots(2)\n",
    "\n",
    "sns.countplot(ax=axs[0], y='modified_place_of_birth', data=nominal_df, order=['Kuwait','Jordan','Others'])\n",
    "sns.countplot(ax=axs[1], y='modified_nationality', data=nominal_df,order=['Kuwait','Jordan','Others']);\n",
    "\n",
    "#sns.countplot(y='eng_place_of_birth', data=nominal_df);"
   ]
  },
  {
   "cell_type": "markdown",
   "id": "da38d58d",
   "metadata": {},
   "source": [
    "<div style=\"background-color:Gainsboro; padding:20px; text-align:justify; font-size: 120%\">\n",
    "Grouping the low percentage labels together creates a balance, as evident from the histogram above.\n",
    "</div>"
   ]
  },
  {
   "cell_type": "markdown",
   "id": "a6722e2f",
   "metadata": {},
   "source": [
    "#### topic"
   ]
  },
  {
   "cell_type": "code",
   "execution_count": 18,
   "id": "8c1384e5",
   "metadata": {},
   "outputs": [
    {
     "data": {
      "text/html": [
       "<div>\n",
       "<style scoped>\n",
       "    .dataframe tbody tr th:only-of-type {\n",
       "        vertical-align: middle;\n",
       "    }\n",
       "\n",
       "    .dataframe tbody tr th {\n",
       "        vertical-align: top;\n",
       "    }\n",
       "\n",
       "    .dataframe thead th {\n",
       "        text-align: right;\n",
       "    }\n",
       "</style>\n",
       "<table border=\"1\" class=\"dataframe\">\n",
       "  <thead>\n",
       "    <tr style=\"text-align: right;\">\n",
       "      <th></th>\n",
       "      <th>index</th>\n",
       "      <th>topic</th>\n",
       "      <th>%</th>\n",
       "    </tr>\n",
       "  </thead>\n",
       "  <tbody>\n",
       "    <tr>\n",
       "      <th>0</th>\n",
       "      <td>IT</td>\n",
       "      <td>95</td>\n",
       "      <td>19.874477</td>\n",
       "    </tr>\n",
       "    <tr>\n",
       "      <th>1</th>\n",
       "      <td>French</td>\n",
       "      <td>63</td>\n",
       "      <td>13.179916</td>\n",
       "    </tr>\n",
       "    <tr>\n",
       "      <th>2</th>\n",
       "      <td>Arabic</td>\n",
       "      <td>59</td>\n",
       "      <td>12.343096</td>\n",
       "    </tr>\n",
       "    <tr>\n",
       "      <th>3</th>\n",
       "      <td>Science</td>\n",
       "      <td>51</td>\n",
       "      <td>10.669456</td>\n",
       "    </tr>\n",
       "    <tr>\n",
       "      <th>4</th>\n",
       "      <td>English</td>\n",
       "      <td>45</td>\n",
       "      <td>9.414226</td>\n",
       "    </tr>\n",
       "    <tr>\n",
       "      <th>5</th>\n",
       "      <td>Biology</td>\n",
       "      <td>30</td>\n",
       "      <td>6.276151</td>\n",
       "    </tr>\n",
       "    <tr>\n",
       "      <th>6</th>\n",
       "      <td>Spanish</td>\n",
       "      <td>25</td>\n",
       "      <td>5.230126</td>\n",
       "    </tr>\n",
       "    <tr>\n",
       "      <th>7</th>\n",
       "      <td>Chemistry</td>\n",
       "      <td>24</td>\n",
       "      <td>5.020921</td>\n",
       "    </tr>\n",
       "    <tr>\n",
       "      <th>8</th>\n",
       "      <td>Geology</td>\n",
       "      <td>24</td>\n",
       "      <td>5.020921</td>\n",
       "    </tr>\n",
       "    <tr>\n",
       "      <th>9</th>\n",
       "      <td>Quran</td>\n",
       "      <td>22</td>\n",
       "      <td>4.602510</td>\n",
       "    </tr>\n",
       "    <tr>\n",
       "      <th>10</th>\n",
       "      <td>Math</td>\n",
       "      <td>21</td>\n",
       "      <td>4.393305</td>\n",
       "    </tr>\n",
       "    <tr>\n",
       "      <th>11</th>\n",
       "      <td>History</td>\n",
       "      <td>19</td>\n",
       "      <td>3.974895</td>\n",
       "    </tr>\n",
       "  </tbody>\n",
       "</table>\n",
       "</div>"
      ],
      "text/plain": [
       "        index  topic          %\n",
       "0          IT     95  19.874477\n",
       "1      French     63  13.179916\n",
       "2      Arabic     59  12.343096\n",
       "3     Science     51  10.669456\n",
       "4     English     45   9.414226\n",
       "5     Biology     30   6.276151\n",
       "6     Spanish     25   5.230126\n",
       "7   Chemistry     24   5.020921\n",
       "8     Geology     24   5.020921\n",
       "9       Quran     22   4.602510\n",
       "10       Math     21   4.393305\n",
       "11    History     19   3.974895"
      ]
     },
     "execution_count": 18,
     "metadata": {},
     "output_type": "execute_result"
    }
   ],
   "source": [
    "topic_df = pd.DataFrame(nominal_df['topic'].value_counts()).reset_index()\n",
    "topic_df['%'] = (topic_df['topic']/topic_df['topic'].sum())*100\n",
    "topic_df"
   ]
  },
  {
   "cell_type": "code",
   "execution_count": 19,
   "id": "dfe988ec",
   "metadata": {},
   "outputs": [
    {
     "data": {
      "image/png": "[encoded data removed]",
      "text/plain": [
       "<Figure size 800x400 with 1 Axes>"
      ]
     },
     "metadata": {},
     "output_type": "display_data"
    }
   ],
   "source": [
    "labels = list(topic_df['index'])[::-1]\n",
    "counts_topic= list(topic_df['topic'])[::-1]\n",
    "\n",
    "y = np.arange(len(labels))  # the label locations\n",
    "width = 0.5  # the width of the bars\n",
    "\n",
    "fig, ax = plt.subplots(figsize=(8, 4))\n",
    "rects1 = ax.barh(y - width/2, counts_topic, width, label='Topics')\n",
    "\n",
    "# Add some text for labels, title and custom x-axis tick labels, etc.\n",
    "ax.set_ylabel('Topics')\n",
    "ax.set_title(\"Topics\")\n",
    "ax.set_yticks(y, labels)\n",
    "ax.legend(loc=4)\n",
    "\n",
    "ax.bar_label(rects1, padding=2)\n",
    "\n",
    "fig.tight_layout()\n",
    "\n",
    "plt.show()"
   ]
  },
  {
   "cell_type": "code",
   "execution_count": 20,
   "id": "b3287d1c",
   "metadata": {},
   "outputs": [
    {
     "data": {
      "text/html": [
       "<div>\n",
       "<style scoped>\n",
       "    .dataframe tbody tr th:only-of-type {\n",
       "        vertical-align: middle;\n",
       "    }\n",
       "\n",
       "    .dataframe tbody tr th {\n",
       "        vertical-align: top;\n",
       "    }\n",
       "\n",
       "    .dataframe thead th {\n",
       "        text-align: right;\n",
       "    }\n",
       "</style>\n",
       "<table border=\"1\" class=\"dataframe\">\n",
       "  <thead>\n",
       "    <tr style=\"text-align: right;\">\n",
       "      <th></th>\n",
       "      <th>index</th>\n",
       "      <th>topic</th>\n",
       "      <th>%</th>\n",
       "      <th>labels</th>\n",
       "    </tr>\n",
       "  </thead>\n",
       "  <tbody>\n",
       "    <tr>\n",
       "      <th>0</th>\n",
       "      <td>IT</td>\n",
       "      <td>95</td>\n",
       "      <td>19.874477</td>\n",
       "      <td>IT</td>\n",
       "    </tr>\n",
       "    <tr>\n",
       "      <th>1</th>\n",
       "      <td>French</td>\n",
       "      <td>63</td>\n",
       "      <td>13.179916</td>\n",
       "      <td>Language</td>\n",
       "    </tr>\n",
       "    <tr>\n",
       "      <th>2</th>\n",
       "      <td>Arabic</td>\n",
       "      <td>59</td>\n",
       "      <td>12.343096</td>\n",
       "      <td>Language</td>\n",
       "    </tr>\n",
       "    <tr>\n",
       "      <th>3</th>\n",
       "      <td>Science</td>\n",
       "      <td>51</td>\n",
       "      <td>10.669456</td>\n",
       "      <td>Sciences</td>\n",
       "    </tr>\n",
       "    <tr>\n",
       "      <th>4</th>\n",
       "      <td>English</td>\n",
       "      <td>45</td>\n",
       "      <td>9.414226</td>\n",
       "      <td>Language</td>\n",
       "    </tr>\n",
       "    <tr>\n",
       "      <th>5</th>\n",
       "      <td>Biology</td>\n",
       "      <td>30</td>\n",
       "      <td>6.276151</td>\n",
       "      <td>Sciences</td>\n",
       "    </tr>\n",
       "    <tr>\n",
       "      <th>6</th>\n",
       "      <td>Spanish</td>\n",
       "      <td>25</td>\n",
       "      <td>5.230126</td>\n",
       "      <td>Language</td>\n",
       "    </tr>\n",
       "    <tr>\n",
       "      <th>7</th>\n",
       "      <td>Chemistry</td>\n",
       "      <td>24</td>\n",
       "      <td>5.020921</td>\n",
       "      <td>Sciences</td>\n",
       "    </tr>\n",
       "    <tr>\n",
       "      <th>8</th>\n",
       "      <td>Geology</td>\n",
       "      <td>24</td>\n",
       "      <td>5.020921</td>\n",
       "      <td>Sciences</td>\n",
       "    </tr>\n",
       "    <tr>\n",
       "      <th>9</th>\n",
       "      <td>Quran</td>\n",
       "      <td>22</td>\n",
       "      <td>4.602510</td>\n",
       "      <td>Humanities</td>\n",
       "    </tr>\n",
       "    <tr>\n",
       "      <th>10</th>\n",
       "      <td>Math</td>\n",
       "      <td>21</td>\n",
       "      <td>4.393305</td>\n",
       "      <td>Sciences</td>\n",
       "    </tr>\n",
       "    <tr>\n",
       "      <th>11</th>\n",
       "      <td>History</td>\n",
       "      <td>19</td>\n",
       "      <td>3.974895</td>\n",
       "      <td>Humanities</td>\n",
       "    </tr>\n",
       "  </tbody>\n",
       "</table>\n",
       "</div>"
      ],
      "text/plain": [
       "        index  topic          %      labels\n",
       "0          IT     95  19.874477          IT\n",
       "1      French     63  13.179916    Language\n",
       "2      Arabic     59  12.343096    Language\n",
       "3     Science     51  10.669456    Sciences\n",
       "4     English     45   9.414226    Language\n",
       "5     Biology     30   6.276151    Sciences\n",
       "6     Spanish     25   5.230126    Language\n",
       "7   Chemistry     24   5.020921    Sciences\n",
       "8     Geology     24   5.020921    Sciences\n",
       "9       Quran     22   4.602510  Humanities\n",
       "10       Math     21   4.393305    Sciences\n",
       "11    History     19   3.974895  Humanities"
      ]
     },
     "execution_count": 20,
     "metadata": {},
     "output_type": "execute_result"
    }
   ],
   "source": [
    "topics_map = { 'IT':'IT', 'French':'Language', 'Arabic':'Language', 'Spanish':'Language', 'English':'Language',\n",
    "    'Science':'Sciences', 'Biology':'Sciences', 'Chemistry':'Sciences', 'Geology':'Sciences', 'Math':'Sciences',\n",
    "    'Quran':'Humanities', 'History':'Humanities' }\n",
    "\n",
    "topic_df['labels']= topic_df['index'].map(topics_map)\n",
    "topic_df"
   ]
  },
  {
   "cell_type": "code",
   "execution_count": 21,
   "id": "7e573434",
   "metadata": {},
   "outputs": [],
   "source": [
    "nominal_df['modified_topic']= nominal_df['topic'].map(topics_map)"
   ]
  },
  {
   "cell_type": "code",
   "execution_count": 22,
   "id": "fb786bd1",
   "metadata": {},
   "outputs": [
    {
     "data": {
      "image/png": "[encoded data removed]",
      "text/plain": [
       "<Figure size 800x200 with 1 Axes>"
      ]
     },
     "metadata": {},
     "output_type": "display_data"
    }
   ],
   "source": [
    "plt.rcParams[\"figure.figsize\"] = [8.00, 2.00]\n",
    "fig, axs = plt.subplots()\n",
    "sns.countplot( y='modified_topic', data=nominal_df);"
   ]
  },
  {
   "cell_type": "markdown",
   "id": "b61ab1ee",
   "metadata": {},
   "source": [
    "<div style=\"background-color:Gainsboro; padding:20px; text-align:justify; font-size: 120%\">\n",
    "In the <strong>'topic'</strong> we logically combined the topics togather to eleminate the presence of rear labels.\n",
    "</div>"
   ]
  },
  {
   "cell_type": "markdown",
   "id": "0247d0b5",
   "metadata": {},
   "source": [
    "#### 2.2 Ordinal "
   ]
  },
  {
   "cell_type": "markdown",
   "id": "2d8fde8e",
   "metadata": {},
   "source": [
    "#### grade_id"
   ]
  },
  {
   "cell_type": "code",
   "execution_count": 23,
   "id": "6c8d9535",
   "metadata": {},
   "outputs": [
    {
     "data": {
      "text/html": [
       "<div>\n",
       "<style scoped>\n",
       "    .dataframe tbody tr th:only-of-type {\n",
       "        vertical-align: middle;\n",
       "    }\n",
       "\n",
       "    .dataframe tbody tr th {\n",
       "        vertical-align: top;\n",
       "    }\n",
       "\n",
       "    .dataframe thead th {\n",
       "        text-align: right;\n",
       "    }\n",
       "</style>\n",
       "<table border=\"1\" class=\"dataframe\">\n",
       "  <thead>\n",
       "    <tr style=\"text-align: right;\">\n",
       "      <th></th>\n",
       "      <th>index</th>\n",
       "      <th>grade_id</th>\n",
       "    </tr>\n",
       "  </thead>\n",
       "  <tbody>\n",
       "    <tr>\n",
       "      <th>0</th>\n",
       "      <td>G-02</td>\n",
       "      <td>145</td>\n",
       "    </tr>\n",
       "    <tr>\n",
       "      <th>1</th>\n",
       "      <td>G-08</td>\n",
       "      <td>116</td>\n",
       "    </tr>\n",
       "    <tr>\n",
       "      <th>2</th>\n",
       "      <td>G-07</td>\n",
       "      <td>101</td>\n",
       "    </tr>\n",
       "    <tr>\n",
       "      <th>3</th>\n",
       "      <td>G-04</td>\n",
       "      <td>48</td>\n",
       "    </tr>\n",
       "    <tr>\n",
       "      <th>4</th>\n",
       "      <td>G-06</td>\n",
       "      <td>32</td>\n",
       "    </tr>\n",
       "    <tr>\n",
       "      <th>5</th>\n",
       "      <td>G-11</td>\n",
       "      <td>13</td>\n",
       "    </tr>\n",
       "    <tr>\n",
       "      <th>6</th>\n",
       "      <td>G-12</td>\n",
       "      <td>11</td>\n",
       "    </tr>\n",
       "    <tr>\n",
       "      <th>7</th>\n",
       "      <td>G-09</td>\n",
       "      <td>5</td>\n",
       "    </tr>\n",
       "    <tr>\n",
       "      <th>8</th>\n",
       "      <td>G-10</td>\n",
       "      <td>4</td>\n",
       "    </tr>\n",
       "    <tr>\n",
       "      <th>9</th>\n",
       "      <td>G-05</td>\n",
       "      <td>3</td>\n",
       "    </tr>\n",
       "  </tbody>\n",
       "</table>\n",
       "</div>"
      ],
      "text/plain": [
       "  index  grade_id\n",
       "0  G-02       145\n",
       "1  G-08       116\n",
       "2  G-07       101\n",
       "3  G-04        48\n",
       "4  G-06        32\n",
       "5  G-11        13\n",
       "6  G-12        11\n",
       "7  G-09         5\n",
       "8  G-10         4\n",
       "9  G-05         3"
      ]
     },
     "execution_count": 23,
     "metadata": {},
     "output_type": "execute_result"
    }
   ],
   "source": [
    "grade_id_df = pd.DataFrame(categorical_df['grade_id'].value_counts()).reset_index()\n",
    "grade_id_df"
   ]
  },
  {
   "cell_type": "code",
   "execution_count": 24,
   "id": "f81fc680",
   "metadata": {},
   "outputs": [
    {
     "data": {
      "image/png": "[encoded data removed]",
      "text/plain": [
       "<Figure size 800x400 with 1 Axes>"
      ]
     },
     "metadata": {},
     "output_type": "display_data"
    }
   ],
   "source": [
    "labels = list(grade_id_df['index'])[::-1]\n",
    "counts_topic= list(grade_id_df['grade_id'])[::-1]\n",
    "\n",
    "y = np.arange(len(labels))  # the label locations\n",
    "width = 0.5  # the width of the bars\n",
    "\n",
    "fig, ax = plt.subplots(figsize=(8, 4))\n",
    "rects1 = ax.barh(y - width/2, counts_topic, width, label='Grade IDs')\n",
    "\n",
    "# Add some text for labels, title and custom x-axis tick labels, etc.\n",
    "ax.set_ylabel('Grade IDs')\n",
    "ax.set_title(\"Grade IDs\")\n",
    "ax.set_yticks(y, labels)\n",
    "ax.legend(loc=4)\n",
    "\n",
    "ax.bar_label(rects1, padding=2)\n",
    "\n",
    "fig.tight_layout()\n",
    "\n",
    "plt.show()"
   ]
  },
  {
   "cell_type": "code",
   "execution_count": 25,
   "id": "02a12d7c",
   "metadata": {},
   "outputs": [
    {
     "data": {
      "text/html": [
       "<div>\n",
       "<style scoped>\n",
       "    .dataframe tbody tr th:only-of-type {\n",
       "        vertical-align: middle;\n",
       "    }\n",
       "\n",
       "    .dataframe tbody tr th {\n",
       "        vertical-align: top;\n",
       "    }\n",
       "\n",
       "    .dataframe thead th {\n",
       "        text-align: right;\n",
       "    }\n",
       "</style>\n",
       "<table border=\"1\" class=\"dataframe\">\n",
       "  <thead>\n",
       "    <tr style=\"text-align: right;\">\n",
       "      <th></th>\n",
       "      <th>index</th>\n",
       "      <th>grade_id</th>\n",
       "      <th>grade_labels</th>\n",
       "    </tr>\n",
       "  </thead>\n",
       "  <tbody>\n",
       "    <tr>\n",
       "      <th>0</th>\n",
       "      <td>G-02</td>\n",
       "      <td>145</td>\n",
       "      <td>Lower</td>\n",
       "    </tr>\n",
       "    <tr>\n",
       "      <th>1</th>\n",
       "      <td>G-08</td>\n",
       "      <td>116</td>\n",
       "      <td>Higher</td>\n",
       "    </tr>\n",
       "    <tr>\n",
       "      <th>2</th>\n",
       "      <td>G-07</td>\n",
       "      <td>101</td>\n",
       "      <td>Higher</td>\n",
       "    </tr>\n",
       "    <tr>\n",
       "      <th>3</th>\n",
       "      <td>G-04</td>\n",
       "      <td>48</td>\n",
       "      <td>Lower</td>\n",
       "    </tr>\n",
       "    <tr>\n",
       "      <th>4</th>\n",
       "      <td>G-06</td>\n",
       "      <td>32</td>\n",
       "      <td>Lower</td>\n",
       "    </tr>\n",
       "    <tr>\n",
       "      <th>5</th>\n",
       "      <td>G-11</td>\n",
       "      <td>13</td>\n",
       "      <td>Higher</td>\n",
       "    </tr>\n",
       "    <tr>\n",
       "      <th>6</th>\n",
       "      <td>G-12</td>\n",
       "      <td>11</td>\n",
       "      <td>Higher</td>\n",
       "    </tr>\n",
       "    <tr>\n",
       "      <th>7</th>\n",
       "      <td>G-09</td>\n",
       "      <td>5</td>\n",
       "      <td>Higher</td>\n",
       "    </tr>\n",
       "    <tr>\n",
       "      <th>8</th>\n",
       "      <td>G-10</td>\n",
       "      <td>4</td>\n",
       "      <td>Higher</td>\n",
       "    </tr>\n",
       "    <tr>\n",
       "      <th>9</th>\n",
       "      <td>G-05</td>\n",
       "      <td>3</td>\n",
       "      <td>Lower</td>\n",
       "    </tr>\n",
       "  </tbody>\n",
       "</table>\n",
       "</div>"
      ],
      "text/plain": [
       "  index  grade_id grade_labels\n",
       "0  G-02       145        Lower\n",
       "1  G-08       116       Higher\n",
       "2  G-07       101       Higher\n",
       "3  G-04        48        Lower\n",
       "4  G-06        32        Lower\n",
       "5  G-11        13       Higher\n",
       "6  G-12        11       Higher\n",
       "7  G-09         5       Higher\n",
       "8  G-10         4       Higher\n",
       "9  G-05         3        Lower"
      ]
     },
     "execution_count": 25,
     "metadata": {},
     "output_type": "execute_result"
    }
   ],
   "source": [
    "grade_map = { 'G-02':'Lower', 'G-04':'Lower', 'G-05':'Lower', 'G-06':'Lower',\n",
    "    'G-07':'Higher', 'G-08':'Higher', 'G-09':'Higher', 'G-10':'Higher', 'G-11':'Higher', 'G-12':'Higher' }\n",
    "\n",
    "grade_id_df['grade_labels']= grade_id_df['index'].map(grade_map)\n",
    "grade_id_df"
   ]
  },
  {
   "cell_type": "code",
   "execution_count": 26,
   "id": "5c7661d3",
   "metadata": {},
   "outputs": [
    {
     "data": {
      "text/html": [
       "<div>\n",
       "<style scoped>\n",
       "    .dataframe tbody tr th:only-of-type {\n",
       "        vertical-align: middle;\n",
       "    }\n",
       "\n",
       "    .dataframe tbody tr th {\n",
       "        vertical-align: top;\n",
       "    }\n",
       "\n",
       "    .dataframe thead th {\n",
       "        text-align: right;\n",
       "    }\n",
       "</style>\n",
       "<table border=\"1\" class=\"dataframe\">\n",
       "  <thead>\n",
       "    <tr style=\"text-align: right;\">\n",
       "      <th></th>\n",
       "      <th>stage_id</th>\n",
       "      <th>grade_id</th>\n",
       "      <th>modified_grade_id</th>\n",
       "    </tr>\n",
       "  </thead>\n",
       "  <tbody>\n",
       "    <tr>\n",
       "      <th>0</th>\n",
       "      <td>LowerLevel</td>\n",
       "      <td>G-04</td>\n",
       "      <td>Lower</td>\n",
       "    </tr>\n",
       "    <tr>\n",
       "      <th>1</th>\n",
       "      <td>LowerLevel</td>\n",
       "      <td>G-04</td>\n",
       "      <td>Lower</td>\n",
       "    </tr>\n",
       "    <tr>\n",
       "      <th>2</th>\n",
       "      <td>LowerLevel</td>\n",
       "      <td>G-04</td>\n",
       "      <td>Lower</td>\n",
       "    </tr>\n",
       "    <tr>\n",
       "      <th>3</th>\n",
       "      <td>LowerLevel</td>\n",
       "      <td>G-04</td>\n",
       "      <td>Lower</td>\n",
       "    </tr>\n",
       "    <tr>\n",
       "      <th>4</th>\n",
       "      <td>LowerLevel</td>\n",
       "      <td>G-04</td>\n",
       "      <td>Lower</td>\n",
       "    </tr>\n",
       "  </tbody>\n",
       "</table>\n",
       "</div>"
      ],
      "text/plain": [
       "     stage_id grade_id modified_grade_id\n",
       "0  LowerLevel     G-04             Lower\n",
       "1  LowerLevel     G-04             Lower\n",
       "2  LowerLevel     G-04             Lower\n",
       "3  LowerLevel     G-04             Lower\n",
       "4  LowerLevel     G-04             Lower"
      ]
     },
     "execution_count": 26,
     "metadata": {},
     "output_type": "execute_result"
    }
   ],
   "source": [
    "ordinal_df['modified_grade_id']= ordinal_df['grade_id'].map(grade_map)\n",
    "ordinal_df.head()"
   ]
  },
  {
   "cell_type": "code",
   "execution_count": 27,
   "id": "0f66709c",
   "metadata": {},
   "outputs": [
    {
     "data": {
      "image/png": "[encoded data removed]",
      "text/plain": [
       "<Figure size 800x200 with 1 Axes>"
      ]
     },
     "metadata": {},
     "output_type": "display_data"
    }
   ],
   "source": [
    "plt.rcParams[\"figure.figsize\"] = [8.00, 2.00]\n",
    "\n",
    "fig, axs = plt.subplots()\n",
    "\n",
    "sns.countplot(y='modified_grade_id', data=ordinal_df, order=['Higher','Lower']);\n"
   ]
  },
  {
   "cell_type": "markdown",
   "id": "1a318b26",
   "metadata": {},
   "source": [
    "<div style=\"background-color:Gainsboro; padding:20px; text-align:justify; font-size: 120%\">\n",
    "<strong>'grade_id'</strong> falls under the ordinal category. In order to simplify, grades are gouped as Lower (1-6) and Higher (7-12) gardes. Now it is a binary category.\n",
    "</div>"
   ]
  },
  {
   "cell_type": "markdown",
   "id": "ad214d1c",
   "metadata": {},
   "source": [
    "### 3. Apply Feature Engineering"
   ]
  },
  {
   "cell_type": "code",
   "execution_count": 28,
   "id": "fb047bd6",
   "metadata": {},
   "outputs": [],
   "source": [
    "modified_df = pd.read_csv('./data/xAPI-Edu-Data_cleaned.csv')"
   ]
  },
  {
   "cell_type": "code",
   "execution_count": 29,
   "id": "bb47ac45",
   "metadata": {},
   "outputs": [],
   "source": [
    "modified_df[\"nationality\"].replace(country_map, inplace=True)"
   ]
  },
  {
   "cell_type": "code",
   "execution_count": 30,
   "id": "ef4bbc52",
   "metadata": {},
   "outputs": [],
   "source": [
    "modified_df[\"place_of_birth\"].replace(country_map, inplace=True)"
   ]
  },
  {
   "cell_type": "code",
   "execution_count": 31,
   "id": "0d2df01d",
   "metadata": {},
   "outputs": [],
   "source": [
    "modified_df[\"topic\"].replace(topics_map, inplace=True)"
   ]
  },
  {
   "cell_type": "code",
   "execution_count": 32,
   "id": "c2d194f4",
   "metadata": {},
   "outputs": [],
   "source": [
    "modified_df[\"grade_id\"].replace(grade_map, inplace=True)"
   ]
  },
  {
   "cell_type": "markdown",
   "id": "58341368",
   "metadata": {},
   "source": [
    "### 4. Save Modified Data"
   ]
  },
  {
   "cell_type": "code",
   "execution_count": 33,
   "id": "d8b8f77c",
   "metadata": {},
   "outputs": [],
   "source": [
    "# The cell will run on local stograge only.\n",
    "modified_df.to_csv('./data/xAPI-Edu-Data_modified.csv',index=False)"
   ]
  },
  {
   "cell_type": "markdown",
   "id": "e70f349d",
   "metadata": {},
   "source": [
    "## Observations"
   ]
  },
  {
   "cell_type": "markdown",
   "id": "9fb5984b",
   "metadata": {},
   "source": [
    "Carrying the work forward from the visualizing stage it is observed that:    \n",
    "\n",
    "1. The Binary catregories don't need any further processing.   \n",
    "2. In Nomial and Ordinal categories, Feature Engineering is required to reduce the number of rare labels, labels that are close to 5% in propotion. The features that can be Engineered are:    \n",
    "    a. **'nationality'**    \n",
    "    b. **'place_of_birth'**    \n",
    "    c. **'topic'**    \n",
    "    d. **grade_id**\n"
   ]
  },
  {
   "cell_type": "markdown",
   "id": "f5fd9cbd",
   "metadata": {},
   "source": [
    "## Conclusion"
   ]
  },
  {
   "cell_type": "markdown",
   "id": "a0b5779b",
   "metadata": {},
   "source": [
    "Based on the obervations:\n",
    "\n",
    "1. **'nationality'** and **'place_of_birth'** labels are grouped as **Kuwait**, **Jordan** and **Others**.\n",
    "2. **'topic'** labels are logically grouped as **IT**, **Languages**, **Sciences** and **Humanities** subject groups \n",
    "3. **'grade_id'** labesl are grouped as **Lower** and **Higher**, making this a binary feature.   \n",
    "4. The feature enginnering changes were first observed and analyzed graphically and in tabular format.\n",
    "5. Then the changes were implimented on the dataset.\n",
    "6. The modified dataset is saved as _**xAPI-Edu-Data_modified.csv**_ file. "
   ]
  },
  {
   "cell_type": "code",
   "execution_count": null,
   "id": "9741e508",
   "metadata": {},
   "outputs": [],
   "source": []
  }
 ],
 "metadata": {
  "kernelspec": {
   "display_name": "Python 3",
   "language": "python",
   "name": "python3"
  },
  "language_info": {
   "codemirror_mode": {
    "name": "ipython",
    "version": 3
   },
   "file_extension": ".py",
   "mimetype": "text/x-python",
   "name": "python",
   "nbconvert_exporter": "python",
   "pygments_lexer": "ipython3",
   "version": "3.8.12"
  }
 },
 "nbformat": 4,
 "nbformat_minor": 5
}
