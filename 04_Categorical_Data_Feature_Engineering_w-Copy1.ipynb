{
 "cells": [
  {
   "cell_type": "markdown",
   "id": "a8c15835",
   "metadata": {},
   "source": [
    "<a href=\"https://colab.research.google.com/github/AamirKhaan/Student-Academic-Performance/blob/master/02_Categorical_Data_Visulaization.ipynb\" target=\"_parent\"><img src=\"https://colab.research.google.com/assets/colab-badge.svg\" alt=\"Open In Colab\"/></a>"
   ]
  },
  {
   "cell_type": "markdown",
   "id": "ffe4ac41",
   "metadata": {},
   "source": [
    "<h1 style=\"background-color:Aqua; padding:20px; border-radius:10px\">Categorical Data Feature Engineering</h1>"
   ]
  },
  {
   "cell_type": "markdown",
   "id": "cec55afc",
   "metadata": {},
   "source": [
    "## Overview"
   ]
  },
  {
   "cell_type": "markdown",
   "id": "e9a3eb38",
   "metadata": {},
   "source": [
    "<div style=\"background-color:Gainsboro; padding:20px; text-align:justify; font-weight: bold\">\n",
    "    <p>In this section we will </p>\n",
    "    <ol>\n",
    "        <li>Import Categorical Data.</li>\n",
    "        <li>Perform Feature Engineering (on required categories).</li>\n",
    "        <li>Encode Categorical Input Features (for Feature Ranking).</li>\n",
    "        <li>Encode Target Output.</li>\n",
    "    </ol>\n",
    "</div>"
   ]
  },
  {
   "cell_type": "markdown",
   "id": "2523b32a",
   "metadata": {},
   "source": [
    "### Standard Imports"
   ]
  },
  {
   "cell_type": "code",
   "execution_count": 1,
   "id": "73fdff66",
   "metadata": {},
   "outputs": [],
   "source": [
    "import numpy as np\n",
    "import pandas as pd\n",
    "import seaborn as sns\n",
    "import matplotlib.pyplot as plt"
   ]
  },
  {
   "cell_type": "code",
   "execution_count": 2,
   "id": "48dfd00d",
   "metadata": {},
   "outputs": [
    {
     "name": "stdout",
     "output_type": "stream",
     "text": [
      "Pretty printing has been turned OFF\n"
     ]
    }
   ],
   "source": [
    "# Jupyter Noteboook Configurations (personal prefrences)\n",
    "# Ignore warnings\n",
    "import warnings\n",
    "warnings.filterwarnings('ignore')\n",
    "\n",
    "# Disable pretty\n",
    "%pprint\n",
    "\n",
    "%matplotlib inline\n",
    "\n",
    "pd.set_option('display.max_columns', None)\n",
    "sns.set() "
   ]
  },
  {
   "cell_type": "code",
   "execution_count": 3,
   "id": "051a7a73",
   "metadata": {},
   "outputs": [],
   "source": [
    "# Global parameters for figure\n",
    "plt.rcParams[\"figure.figsize\"] = [10.00, 8.00]\n",
    "plt.rcParams[\"figure.dpi\"] = 100\n",
    "plt.rcParams[\"figure.autolayout\"] = True"
   ]
  },
  {
   "cell_type": "markdown",
   "id": "052e6699",
   "metadata": {},
   "source": [
    "### 1. Import Categorical Data"
   ]
  },
  {
   "cell_type": "code",
   "execution_count": 4,
   "id": "54d04883",
   "metadata": {},
   "outputs": [],
   "source": [
    "CATEGORICAL_FEATURES = ['gender', 'nationality','place_of_birth', 'stage_id', 'grade_id', 'section_id', 'topic', \n",
    "                        'semester', 'relation', 'parent_answering_survey', 'parent_school_satisfaction', \n",
    "                        'student_absence_days','class']"
   ]
  },
  {
   "cell_type": "code",
   "execution_count": 5,
   "id": "6533d84e",
   "metadata": {},
   "outputs": [],
   "source": [
    "# Import the Student's data from local storage\n",
    "# ! Dont' run the cell in colab\n",
    "categorical_df = pd.read_csv('./data/xAPI-Edu-Data_cleaned.csv', usecols = CATEGORICAL_FEATURES)"
   ]
  },
  {
   "cell_type": "code",
   "execution_count": 6,
   "id": "fdc1a2bd",
   "metadata": {},
   "outputs": [],
   "source": [
    "# Import the Student's data from github storage\n",
    "# Run only in colab\n",
    "#url = 'https://raw.githubusercontent.com/AamirKhaan/Student-Academic-Performance/main/data/xAPI-Edu-Data_cleaned.csv'\n",
    "#categorical_df = pd.read_csv(url, usecols = CATEGORICAL_FEATURES )"
   ]
  },
  {
   "cell_type": "code",
   "execution_count": 7,
   "id": "87f2deca",
   "metadata": {},
   "outputs": [
    {
     "data": {
      "text/html": [
       "<div>\n",
       "<style scoped>\n",
       "    .dataframe tbody tr th:only-of-type {\n",
       "        vertical-align: middle;\n",
       "    }\n",
       "\n",
       "    .dataframe tbody tr th {\n",
       "        vertical-align: top;\n",
       "    }\n",
       "\n",
       "    .dataframe thead th {\n",
       "        text-align: right;\n",
       "    }\n",
       "</style>\n",
       "<table border=\"1\" class=\"dataframe\">\n",
       "  <thead>\n",
       "    <tr style=\"text-align: right;\">\n",
       "      <th></th>\n",
       "      <th>gender</th>\n",
       "      <th>nationality</th>\n",
       "      <th>place_of_birth</th>\n",
       "      <th>stage_id</th>\n",
       "      <th>grade_id</th>\n",
       "      <th>section_id</th>\n",
       "      <th>topic</th>\n",
       "      <th>semester</th>\n",
       "      <th>relation</th>\n",
       "      <th>parent_answering_survey</th>\n",
       "      <th>parent_school_satisfaction</th>\n",
       "      <th>student_absence_days</th>\n",
       "      <th>class</th>\n",
       "    </tr>\n",
       "  </thead>\n",
       "  <tbody>\n",
       "    <tr>\n",
       "      <th>0</th>\n",
       "      <td>M</td>\n",
       "      <td>Kuwait</td>\n",
       "      <td>Kuwait</td>\n",
       "      <td>LowerLevel</td>\n",
       "      <td>G-04</td>\n",
       "      <td>A</td>\n",
       "      <td>IT</td>\n",
       "      <td>F</td>\n",
       "      <td>Father</td>\n",
       "      <td>Yes</td>\n",
       "      <td>Good</td>\n",
       "      <td>Under-7</td>\n",
       "      <td>M</td>\n",
       "    </tr>\n",
       "    <tr>\n",
       "      <th>1</th>\n",
       "      <td>M</td>\n",
       "      <td>Kuwait</td>\n",
       "      <td>Kuwait</td>\n",
       "      <td>LowerLevel</td>\n",
       "      <td>G-04</td>\n",
       "      <td>A</td>\n",
       "      <td>IT</td>\n",
       "      <td>F</td>\n",
       "      <td>Father</td>\n",
       "      <td>Yes</td>\n",
       "      <td>Good</td>\n",
       "      <td>Under-7</td>\n",
       "      <td>M</td>\n",
       "    </tr>\n",
       "    <tr>\n",
       "      <th>2</th>\n",
       "      <td>M</td>\n",
       "      <td>Kuwait</td>\n",
       "      <td>Kuwait</td>\n",
       "      <td>LowerLevel</td>\n",
       "      <td>G-04</td>\n",
       "      <td>A</td>\n",
       "      <td>IT</td>\n",
       "      <td>F</td>\n",
       "      <td>Father</td>\n",
       "      <td>No</td>\n",
       "      <td>Bad</td>\n",
       "      <td>Above-7</td>\n",
       "      <td>L</td>\n",
       "    </tr>\n",
       "    <tr>\n",
       "      <th>3</th>\n",
       "      <td>M</td>\n",
       "      <td>Kuwait</td>\n",
       "      <td>Kuwait</td>\n",
       "      <td>LowerLevel</td>\n",
       "      <td>G-04</td>\n",
       "      <td>A</td>\n",
       "      <td>IT</td>\n",
       "      <td>F</td>\n",
       "      <td>Father</td>\n",
       "      <td>No</td>\n",
       "      <td>Bad</td>\n",
       "      <td>Above-7</td>\n",
       "      <td>L</td>\n",
       "    </tr>\n",
       "    <tr>\n",
       "      <th>4</th>\n",
       "      <td>M</td>\n",
       "      <td>Kuwait</td>\n",
       "      <td>Kuwait</td>\n",
       "      <td>LowerLevel</td>\n",
       "      <td>G-04</td>\n",
       "      <td>A</td>\n",
       "      <td>IT</td>\n",
       "      <td>F</td>\n",
       "      <td>Father</td>\n",
       "      <td>No</td>\n",
       "      <td>Bad</td>\n",
       "      <td>Above-7</td>\n",
       "      <td>M</td>\n",
       "    </tr>\n",
       "  </tbody>\n",
       "</table>\n",
       "</div>"
      ],
      "text/plain": [
       "  gender nationality place_of_birth    stage_id grade_id section_id topic  \\\n",
       "0      M      Kuwait         Kuwait  LowerLevel     G-04          A    IT   \n",
       "1      M      Kuwait         Kuwait  LowerLevel     G-04          A    IT   \n",
       "2      M      Kuwait         Kuwait  LowerLevel     G-04          A    IT   \n",
       "3      M      Kuwait         Kuwait  LowerLevel     G-04          A    IT   \n",
       "4      M      Kuwait         Kuwait  LowerLevel     G-04          A    IT   \n",
       "\n",
       "  semester relation parent_answering_survey parent_school_satisfaction  \\\n",
       "0        F   Father                     Yes                       Good   \n",
       "1        F   Father                     Yes                       Good   \n",
       "2        F   Father                      No                        Bad   \n",
       "3        F   Father                      No                        Bad   \n",
       "4        F   Father                      No                        Bad   \n",
       "\n",
       "  student_absence_days class  \n",
       "0              Under-7     M  \n",
       "1              Under-7     M  \n",
       "2              Above-7     L  \n",
       "3              Above-7     L  \n",
       "4              Above-7     M  "
      ]
     },
     "execution_count": 7,
     "metadata": {},
     "output_type": "execute_result"
    }
   ],
   "source": [
    "# Cheack the data is properly loaded\n",
    "categorical_df.head()"
   ]
  },
  {
   "cell_type": "code",
   "execution_count": 8,
   "id": "93558306",
   "metadata": {},
   "outputs": [
    {
     "data": {
      "text/plain": [
       "gender                        category\n",
       "nationality                   category\n",
       "place_of_birth                category\n",
       "stage_id                      category\n",
       "grade_id                      category\n",
       "section_id                    category\n",
       "topic                         category\n",
       "semester                      category\n",
       "relation                      category\n",
       "parent_answering_survey       category\n",
       "parent_school_satisfaction    category\n",
       "student_absence_days          category\n",
       "class                         category\n",
       "dtype: object"
      ]
     },
     "execution_count": 8,
     "metadata": {},
     "output_type": "execute_result"
    }
   ],
   "source": [
    "# Convert Data Type to Categories for efficent memory utilization\n",
    "for feature in categorical_df.columns:\n",
    "    categorical_df[feature] = categorical_df[feature].astype('category')\n",
    "categorical_df.dtypes"
   ]
  },
  {
   "cell_type": "code",
   "execution_count": 9,
   "id": "44f64c61",
   "metadata": {},
   "outputs": [],
   "source": [
    "NOMINAL_FEATURES = ['nationality','place_of_birth', 'section_id', 'topic']\n",
    "ORDINAL_FEATURES = ['stage_id', 'grade_id']"
   ]
  },
  {
   "cell_type": "code",
   "execution_count": 11,
   "id": "9dccab6a",
   "metadata": {},
   "outputs": [],
   "source": [
    "nominal_df = categorical_df[NOMINAL_FEATURES]\n",
    "ordinal_df = categorical_df[ORDINAL_FEATURES]"
   ]
  },
  {
   "cell_type": "markdown",
   "id": "2b888d87",
   "metadata": {},
   "source": [
    "### 2. Perform Feature Engineering"
   ]
  },
  {
   "cell_type": "markdown",
   "id": "66a5ed08",
   "metadata": {},
   "source": [
    "<div style=\"background-color:Gainsboro; padding:20px; text-align:justify\">\n",
    "As a result of visual anaylsis of categorical data it was obvious that <strong>'nationality'</strong>,  and <strong>'place_of_birth'</strong> require feature engineering to reduce the high cardinalty and rare lables.\n",
    "</div>"
   ]
  },
  {
   "cell_type": "markdown",
   "id": "8dd9469b",
   "metadata": {},
   "source": [
    "### 2.1 Nominal "
   ]
  },
  {
   "cell_type": "markdown",
   "id": "3eb04feb",
   "metadata": {},
   "source": [
    "#### nationality and place_of_birth"
   ]
  },
  {
   "cell_type": "code",
   "execution_count": 12,
   "id": "2d8ef0b9",
   "metadata": {},
   "outputs": [],
   "source": [
    "nationality_df = pd.DataFrame(nominal_df['nationality'].value_counts()).reset_index()\n",
    "place_of_birth_df = pd.DataFrame(nominal_df['place_of_birth'].value_counts()).reset_index()"
   ]
  },
  {
   "cell_type": "code",
   "execution_count": 13,
   "id": "74bea830",
   "metadata": {},
   "outputs": [
    {
     "data": {
      "text/html": [
       "<div>\n",
       "<style scoped>\n",
       "    .dataframe tbody tr th:only-of-type {\n",
       "        vertical-align: middle;\n",
       "    }\n",
       "\n",
       "    .dataframe tbody tr th {\n",
       "        vertical-align: top;\n",
       "    }\n",
       "\n",
       "    .dataframe thead th {\n",
       "        text-align: right;\n",
       "    }\n",
       "</style>\n",
       "<table border=\"1\" class=\"dataframe\">\n",
       "  <thead>\n",
       "    <tr style=\"text-align: right;\">\n",
       "      <th></th>\n",
       "      <th>index</th>\n",
       "      <th>nationality</th>\n",
       "      <th>place_of_birth</th>\n",
       "      <th>nationality %</th>\n",
       "      <th>place_of_birth %</th>\n",
       "    </tr>\n",
       "  </thead>\n",
       "  <tbody>\n",
       "    <tr>\n",
       "      <th>0</th>\n",
       "      <td>Kuwait</td>\n",
       "      <td>179</td>\n",
       "      <td>180</td>\n",
       "      <td>37.447699</td>\n",
       "      <td>37.656904</td>\n",
       "    </tr>\n",
       "    <tr>\n",
       "      <th>1</th>\n",
       "      <td>Jordan</td>\n",
       "      <td>170</td>\n",
       "      <td>174</td>\n",
       "      <td>35.564854</td>\n",
       "      <td>36.401674</td>\n",
       "    </tr>\n",
       "    <tr>\n",
       "      <th>2</th>\n",
       "      <td>Palestine</td>\n",
       "      <td>28</td>\n",
       "      <td>10</td>\n",
       "      <td>5.857741</td>\n",
       "      <td>2.092050</td>\n",
       "    </tr>\n",
       "    <tr>\n",
       "      <th>3</th>\n",
       "      <td>Iraq</td>\n",
       "      <td>22</td>\n",
       "      <td>22</td>\n",
       "      <td>4.602510</td>\n",
       "      <td>4.602510</td>\n",
       "    </tr>\n",
       "    <tr>\n",
       "      <th>4</th>\n",
       "      <td>Lebanon</td>\n",
       "      <td>17</td>\n",
       "      <td>19</td>\n",
       "      <td>3.556485</td>\n",
       "      <td>3.974895</td>\n",
       "    </tr>\n",
       "    <tr>\n",
       "      <th>5</th>\n",
       "      <td>Tunis</td>\n",
       "      <td>12</td>\n",
       "      <td>9</td>\n",
       "      <td>2.510460</td>\n",
       "      <td>1.882845</td>\n",
       "    </tr>\n",
       "    <tr>\n",
       "      <th>6</th>\n",
       "      <td>SaudiArabia</td>\n",
       "      <td>11</td>\n",
       "      <td>16</td>\n",
       "      <td>2.301255</td>\n",
       "      <td>3.347280</td>\n",
       "    </tr>\n",
       "    <tr>\n",
       "      <th>7</th>\n",
       "      <td>Egypt</td>\n",
       "      <td>9</td>\n",
       "      <td>9</td>\n",
       "      <td>1.882845</td>\n",
       "      <td>1.882845</td>\n",
       "    </tr>\n",
       "    <tr>\n",
       "      <th>8</th>\n",
       "      <td>Syria</td>\n",
       "      <td>7</td>\n",
       "      <td>6</td>\n",
       "      <td>1.464435</td>\n",
       "      <td>1.255230</td>\n",
       "    </tr>\n",
       "    <tr>\n",
       "      <th>9</th>\n",
       "      <td>Iran</td>\n",
       "      <td>6</td>\n",
       "      <td>6</td>\n",
       "      <td>1.255230</td>\n",
       "      <td>1.255230</td>\n",
       "    </tr>\n",
       "    <tr>\n",
       "      <th>10</th>\n",
       "      <td>Libya</td>\n",
       "      <td>6</td>\n",
       "      <td>6</td>\n",
       "      <td>1.255230</td>\n",
       "      <td>1.255230</td>\n",
       "    </tr>\n",
       "    <tr>\n",
       "      <th>11</th>\n",
       "      <td>USA</td>\n",
       "      <td>6</td>\n",
       "      <td>16</td>\n",
       "      <td>1.255230</td>\n",
       "      <td>3.347280</td>\n",
       "    </tr>\n",
       "    <tr>\n",
       "      <th>12</th>\n",
       "      <td>Morocco</td>\n",
       "      <td>4</td>\n",
       "      <td>4</td>\n",
       "      <td>0.836820</td>\n",
       "      <td>0.836820</td>\n",
       "    </tr>\n",
       "    <tr>\n",
       "      <th>13</th>\n",
       "      <td>Venezuela</td>\n",
       "      <td>1</td>\n",
       "      <td>1</td>\n",
       "      <td>0.209205</td>\n",
       "      <td>0.209205</td>\n",
       "    </tr>\n",
       "  </tbody>\n",
       "</table>\n",
       "</div>"
      ],
      "text/plain": [
       "          index  nationality  place_of_birth  nationality %  place_of_birth %\n",
       "0        Kuwait          179             180      37.447699         37.656904\n",
       "1        Jordan          170             174      35.564854         36.401674\n",
       "2     Palestine           28              10       5.857741          2.092050\n",
       "3          Iraq           22              22       4.602510          4.602510\n",
       "4       Lebanon           17              19       3.556485          3.974895\n",
       "5         Tunis           12               9       2.510460          1.882845\n",
       "6   SaudiArabia           11              16       2.301255          3.347280\n",
       "7         Egypt            9               9       1.882845          1.882845\n",
       "8         Syria            7               6       1.464435          1.255230\n",
       "9          Iran            6               6       1.255230          1.255230\n",
       "10        Libya            6               6       1.255230          1.255230\n",
       "11          USA            6              16       1.255230          3.347280\n",
       "12      Morocco            4               4       0.836820          0.836820\n",
       "13    Venezuela            1               1       0.209205          0.209205"
      ]
     },
     "execution_count": 13,
     "metadata": {},
     "output_type": "execute_result"
    }
   ],
   "source": [
    "# Comparing the nationality and place of birth together\n",
    "geographical_df = nationality_df.merge(place_of_birth_df, how='left', on='index')\n",
    "geographical_df.columns = ['index','nationality', 'place_of_birth']\n",
    "geographical_df['nationality %'] = (geographical_df['nationality']/geographical_df['nationality'].sum())*100\n",
    "geographical_df['place_of_birth %'] = (geographical_df['place_of_birth']/geographical_df['place_of_birth'].sum())*100\n",
    "geographical_df"
   ]
  },
  {
   "cell_type": "code",
   "execution_count": 14,
   "id": "929dbcc7",
   "metadata": {},
   "outputs": [
    {
     "data": {
      "image/png": "[encoded data removed]",
      "text/plain": [
       "<Figure size 900x600 with 1 Axes>"
      ]
     },
     "metadata": {},
     "output_type": "display_data"
    }
   ],
   "source": [
    "labels = list(geographical_df['index'])[::-1]\n",
    "counts_nationality= list(geographical_df['nationality'])[::-1]\n",
    "counts_place_of_birth=list(geographical_df['place_of_birth'])[::-1]\n",
    "\n",
    "y = np.arange(len(labels))  # the label locations\n",
    "width = 0.5  # the width of the bars\n",
    "\n",
    "fig, ax = plt.subplots(figsize=(9, 6))\n",
    "rects1 = ax.barh(y - width/2, counts_nationality, width, label='Nationality')\n",
    "rects2 = ax.barh(y + width/2, counts_place_of_birth, width, label='Place of Birth')\n",
    "\n",
    "# Add some text for labels, title and custom x-axis tick labels, etc.\n",
    "ax.set_ylabel('Countries')\n",
    "ax.set_title(\"'nationality' & 'place_of_birth'\")\n",
    "ax.set_yticks(y, labels)\n",
    "ax.legend(loc=4)\n",
    "\n",
    "ax.bar_label(rects1, padding=5)\n",
    "ax.bar_label(rects2, padding=5)\n",
    "\n",
    "fig.tight_layout()\n",
    "\n",
    "plt.show()"
   ]
  },
  {
   "cell_type": "code",
   "execution_count": null,
   "id": "21418a20",
   "metadata": {},
   "outputs": [],
   "source": [
    "## TODO Feature Engineering"
   ]
  },
  {
   "cell_type": "code",
   "execution_count": 15,
   "id": "4e0a6eb1",
   "metadata": {},
   "outputs": [
    {
     "data": {
      "text/html": [
       "<div>\n",
       "<style scoped>\n",
       "    .dataframe tbody tr th:only-of-type {\n",
       "        vertical-align: middle;\n",
       "    }\n",
       "\n",
       "    .dataframe tbody tr th {\n",
       "        vertical-align: top;\n",
       "    }\n",
       "\n",
       "    .dataframe thead th {\n",
       "        text-align: right;\n",
       "    }\n",
       "</style>\n",
       "<table border=\"1\" class=\"dataframe\">\n",
       "  <thead>\n",
       "    <tr style=\"text-align: right;\">\n",
       "      <th></th>\n",
       "      <th>index</th>\n",
       "      <th>nationality</th>\n",
       "      <th>place_of_birth</th>\n",
       "      <th>nationality %</th>\n",
       "      <th>place_of_birth %</th>\n",
       "    </tr>\n",
       "  </thead>\n",
       "  <tbody>\n",
       "    <tr>\n",
       "      <th>0</th>\n",
       "      <td>Kuwait</td>\n",
       "      <td>179</td>\n",
       "      <td>180</td>\n",
       "      <td>37.447699</td>\n",
       "      <td>37.656904</td>\n",
       "    </tr>\n",
       "    <tr>\n",
       "      <th>1</th>\n",
       "      <td>Jordan</td>\n",
       "      <td>170</td>\n",
       "      <td>174</td>\n",
       "      <td>35.564854</td>\n",
       "      <td>36.401674</td>\n",
       "    </tr>\n",
       "    <tr>\n",
       "      <th>2</th>\n",
       "      <td>Palestine</td>\n",
       "      <td>28</td>\n",
       "      <td>10</td>\n",
       "      <td>5.857741</td>\n",
       "      <td>2.092050</td>\n",
       "    </tr>\n",
       "    <tr>\n",
       "      <th>3</th>\n",
       "      <td>Iraq</td>\n",
       "      <td>22</td>\n",
       "      <td>22</td>\n",
       "      <td>4.602510</td>\n",
       "      <td>4.602510</td>\n",
       "    </tr>\n",
       "    <tr>\n",
       "      <th>4</th>\n",
       "      <td>Lebanon</td>\n",
       "      <td>17</td>\n",
       "      <td>19</td>\n",
       "      <td>3.556485</td>\n",
       "      <td>3.974895</td>\n",
       "    </tr>\n",
       "    <tr>\n",
       "      <th>5</th>\n",
       "      <td>Tunis</td>\n",
       "      <td>12</td>\n",
       "      <td>9</td>\n",
       "      <td>2.510460</td>\n",
       "      <td>1.882845</td>\n",
       "    </tr>\n",
       "    <tr>\n",
       "      <th>6</th>\n",
       "      <td>SaudiArabia</td>\n",
       "      <td>11</td>\n",
       "      <td>16</td>\n",
       "      <td>2.301255</td>\n",
       "      <td>3.347280</td>\n",
       "    </tr>\n",
       "    <tr>\n",
       "      <th>7</th>\n",
       "      <td>Egypt</td>\n",
       "      <td>9</td>\n",
       "      <td>9</td>\n",
       "      <td>1.882845</td>\n",
       "      <td>1.882845</td>\n",
       "    </tr>\n",
       "    <tr>\n",
       "      <th>8</th>\n",
       "      <td>Syria</td>\n",
       "      <td>7</td>\n",
       "      <td>6</td>\n",
       "      <td>1.464435</td>\n",
       "      <td>1.255230</td>\n",
       "    </tr>\n",
       "    <tr>\n",
       "      <th>9</th>\n",
       "      <td>Iran</td>\n",
       "      <td>6</td>\n",
       "      <td>6</td>\n",
       "      <td>1.255230</td>\n",
       "      <td>1.255230</td>\n",
       "    </tr>\n",
       "    <tr>\n",
       "      <th>10</th>\n",
       "      <td>Libya</td>\n",
       "      <td>6</td>\n",
       "      <td>6</td>\n",
       "      <td>1.255230</td>\n",
       "      <td>1.255230</td>\n",
       "    </tr>\n",
       "    <tr>\n",
       "      <th>11</th>\n",
       "      <td>USA</td>\n",
       "      <td>6</td>\n",
       "      <td>16</td>\n",
       "      <td>1.255230</td>\n",
       "      <td>3.347280</td>\n",
       "    </tr>\n",
       "    <tr>\n",
       "      <th>12</th>\n",
       "      <td>Morocco</td>\n",
       "      <td>4</td>\n",
       "      <td>4</td>\n",
       "      <td>0.836820</td>\n",
       "      <td>0.836820</td>\n",
       "    </tr>\n",
       "    <tr>\n",
       "      <th>13</th>\n",
       "      <td>Venezuela</td>\n",
       "      <td>1</td>\n",
       "      <td>1</td>\n",
       "      <td>0.209205</td>\n",
       "      <td>0.209205</td>\n",
       "    </tr>\n",
       "  </tbody>\n",
       "</table>\n",
       "</div>"
      ],
      "text/plain": [
       "          index  nationality  place_of_birth  nationality %  place_of_birth %\n",
       "0        Kuwait          179             180      37.447699         37.656904\n",
       "1        Jordan          170             174      35.564854         36.401674\n",
       "2     Palestine           28              10       5.857741          2.092050\n",
       "3          Iraq           22              22       4.602510          4.602510\n",
       "4       Lebanon           17              19       3.556485          3.974895\n",
       "5         Tunis           12               9       2.510460          1.882845\n",
       "6   SaudiArabia           11              16       2.301255          3.347280\n",
       "7         Egypt            9               9       1.882845          1.882845\n",
       "8         Syria            7               6       1.464435          1.255230\n",
       "9          Iran            6               6       1.255230          1.255230\n",
       "10        Libya            6               6       1.255230          1.255230\n",
       "11          USA            6              16       1.255230          3.347280\n",
       "12      Morocco            4               4       0.836820          0.836820\n",
       "13    Venezuela            1               1       0.209205          0.209205"
      ]
     },
     "execution_count": 15,
     "metadata": {},
     "output_type": "execute_result"
    }
   ],
   "source": [
    "geographical_df"
   ]
  },
  {
   "cell_type": "code",
   "execution_count": 16,
   "id": "2b7bfe8f",
   "metadata": {},
   "outputs": [
    {
     "data": {
      "text/html": [
       "<div>\n",
       "<style scoped>\n",
       "    .dataframe tbody tr th:only-of-type {\n",
       "        vertical-align: middle;\n",
       "    }\n",
       "\n",
       "    .dataframe tbody tr th {\n",
       "        vertical-align: top;\n",
       "    }\n",
       "\n",
       "    .dataframe thead th {\n",
       "        text-align: right;\n",
       "    }\n",
       "</style>\n",
       "<table border=\"1\" class=\"dataframe\">\n",
       "  <thead>\n",
       "    <tr style=\"text-align: right;\">\n",
       "      <th></th>\n",
       "      <th>index</th>\n",
       "      <th>labels</th>\n",
       "    </tr>\n",
       "  </thead>\n",
       "  <tbody>\n",
       "    <tr>\n",
       "      <th>0</th>\n",
       "      <td>Kuwait</td>\n",
       "      <td>Kuwait</td>\n",
       "    </tr>\n",
       "    <tr>\n",
       "      <th>1</th>\n",
       "      <td>Jordan</td>\n",
       "      <td>Jordan</td>\n",
       "    </tr>\n",
       "    <tr>\n",
       "      <th>2</th>\n",
       "      <td>Palestine</td>\n",
       "      <td>Others</td>\n",
       "    </tr>\n",
       "    <tr>\n",
       "      <th>3</th>\n",
       "      <td>Iraq</td>\n",
       "      <td>Others</td>\n",
       "    </tr>\n",
       "    <tr>\n",
       "      <th>4</th>\n",
       "      <td>Lebanon</td>\n",
       "      <td>Others</td>\n",
       "    </tr>\n",
       "    <tr>\n",
       "      <th>5</th>\n",
       "      <td>Tunis</td>\n",
       "      <td>Others</td>\n",
       "    </tr>\n",
       "    <tr>\n",
       "      <th>6</th>\n",
       "      <td>SaudiArabia</td>\n",
       "      <td>Others</td>\n",
       "    </tr>\n",
       "    <tr>\n",
       "      <th>7</th>\n",
       "      <td>Egypt</td>\n",
       "      <td>Others</td>\n",
       "    </tr>\n",
       "    <tr>\n",
       "      <th>8</th>\n",
       "      <td>Syria</td>\n",
       "      <td>Others</td>\n",
       "    </tr>\n",
       "    <tr>\n",
       "      <th>9</th>\n",
       "      <td>Iran</td>\n",
       "      <td>Others</td>\n",
       "    </tr>\n",
       "    <tr>\n",
       "      <th>10</th>\n",
       "      <td>Libya</td>\n",
       "      <td>Others</td>\n",
       "    </tr>\n",
       "    <tr>\n",
       "      <th>11</th>\n",
       "      <td>USA</td>\n",
       "      <td>Others</td>\n",
       "    </tr>\n",
       "    <tr>\n",
       "      <th>12</th>\n",
       "      <td>Morocco</td>\n",
       "      <td>Others</td>\n",
       "    </tr>\n",
       "    <tr>\n",
       "      <th>13</th>\n",
       "      <td>Venezuela</td>\n",
       "      <td>Others</td>\n",
       "    </tr>\n",
       "  </tbody>\n",
       "</table>\n",
       "</div>"
      ],
      "text/plain": [
       "          index  labels\n",
       "0        Kuwait  Kuwait\n",
       "1        Jordan  Jordan\n",
       "2     Palestine  Others\n",
       "3          Iraq  Others\n",
       "4       Lebanon  Others\n",
       "5         Tunis  Others\n",
       "6   SaudiArabia  Others\n",
       "7         Egypt  Others\n",
       "8         Syria  Others\n",
       "9          Iran  Others\n",
       "10        Libya  Others\n",
       "11          USA  Others\n",
       "12      Morocco  Others\n",
       "13    Venezuela  Others"
      ]
     },
     "execution_count": 16,
     "metadata": {},
     "output_type": "execute_result"
    }
   ],
   "source": [
    "country_map = {\n",
    "    'Kuwait':'Kuwait',\n",
    "    'Lebanon':'Others',\n",
    "    'Egypt' : 'Others',\n",
    "    'SaudiArabia':'Others',\n",
    "    'USA':'Others',\n",
    "    'Jordan':'Jordan',\n",
    "    'Venezuela':'Others',\n",
    "    'Iran':'Others',\n",
    "    'Tunis':'Others',\n",
    "    'Morocco':'Others',\n",
    "    'Syria':'Others',\n",
    "    'Palestine':'Others',\n",
    "    'Iraq':'Others',\n",
    "    'Libya':'Others'\n",
    "}\n",
    "geographical_df['labels']= geographical_df['index'].map(country_map)\n",
    "geographical_df[['index', 'labels']]"
   ]
  },
  {
   "cell_type": "code",
   "execution_count": 17,
   "id": "adc195e0",
   "metadata": {},
   "outputs": [],
   "source": [
    "nominal_df['modified_nationality']= nominal_df['nationality'].map(country_map)\n",
    "nominal_df['modified_place_of_birth']= nominal_df['place_of_birth'].map(country_map)"
   ]
  },
  {
   "cell_type": "code",
   "execution_count": 18,
   "id": "2485354c",
   "metadata": {},
   "outputs": [
    {
     "data": {
      "text/plain": [
       "Kuwait    179\n",
       "Jordan    170\n",
       "Others    129\n",
       "Name: modified_nationality, dtype: int64"
      ]
     },
     "execution_count": 18,
     "metadata": {},
     "output_type": "execute_result"
    }
   ],
   "source": [
    "nominal_df['modified_nationality'].value_counts()"
   ]
  },
  {
   "cell_type": "code",
   "execution_count": 19,
   "id": "5be3cfc9",
   "metadata": {},
   "outputs": [
    {
     "data": {
      "text/plain": [
       "Kuwait    180\n",
       "Jordan    174\n",
       "Others    124\n",
       "Name: modified_place_of_birth, dtype: int64"
      ]
     },
     "execution_count": 19,
     "metadata": {},
     "output_type": "execute_result"
    }
   ],
   "source": [
    "nominal_df['modified_place_of_birth'].value_counts()"
   ]
  },
  {
   "cell_type": "code",
   "execution_count": 20,
   "id": "1dd84331",
   "metadata": {},
   "outputs": [
    {
     "data": {
      "image/png": "[encoded data removed]",
      "text/plain": [
       "<Figure size 700x400 with 2 Axes>"
      ]
     },
     "metadata": {},
     "output_type": "display_data"
    }
   ],
   "source": [
    "plt.rcParams[\"figure.figsize\"] = [7.00, 4.00]\n",
    "\n",
    "fig, axs = plt.subplots(2)\n",
    "\n",
    "sns.countplot(ax=axs[0], y='modified_place_of_birth', data=nominal_df, order=['Kuwait','Jordan','Others'])\n",
    "sns.countplot(ax=axs[1], y='modified_nationality', data=nominal_df,order=['Kuwait','Jordan','Others']);\n",
    "\n",
    "#sns.countplot(y='eng_place_of_birth', data=nominal_df);"
   ]
  },
  {
   "cell_type": "code",
   "execution_count": null,
   "id": "76e621cc",
   "metadata": {},
   "outputs": [],
   "source": [
    "# TODO Conversion"
   ]
  },
  {
   "cell_type": "code",
   "execution_count": null,
   "id": "eec955af",
   "metadata": {},
   "outputs": [],
   "source": []
  },
  {
   "cell_type": "code",
   "execution_count": null,
   "id": "6d7bd474",
   "metadata": {},
   "outputs": [],
   "source": []
  },
  {
   "cell_type": "markdown",
   "id": "6a835fee",
   "metadata": {},
   "source": [
    "### 2.2 Ordinal "
   ]
  },
  {
   "cell_type": "markdown",
   "id": "315c3afc",
   "metadata": {},
   "source": [
    "#### grade_id"
   ]
  },
  {
   "cell_type": "code",
   "execution_count": 21,
   "id": "414cf610",
   "metadata": {},
   "outputs": [
    {
     "data": {
      "text/html": [
       "<div>\n",
       "<style scoped>\n",
       "    .dataframe tbody tr th:only-of-type {\n",
       "        vertical-align: middle;\n",
       "    }\n",
       "\n",
       "    .dataframe tbody tr th {\n",
       "        vertical-align: top;\n",
       "    }\n",
       "\n",
       "    .dataframe thead th {\n",
       "        text-align: right;\n",
       "    }\n",
       "</style>\n",
       "<table border=\"1\" class=\"dataframe\">\n",
       "  <thead>\n",
       "    <tr style=\"text-align: right;\">\n",
       "      <th></th>\n",
       "      <th>index</th>\n",
       "      <th>grade_id</th>\n",
       "      <th>%</th>\n",
       "    </tr>\n",
       "  </thead>\n",
       "  <tbody>\n",
       "    <tr>\n",
       "      <th>0</th>\n",
       "      <td>G-02</td>\n",
       "      <td>145</td>\n",
       "      <td>30.334728</td>\n",
       "    </tr>\n",
       "    <tr>\n",
       "      <th>1</th>\n",
       "      <td>G-08</td>\n",
       "      <td>116</td>\n",
       "      <td>24.267782</td>\n",
       "    </tr>\n",
       "    <tr>\n",
       "      <th>2</th>\n",
       "      <td>G-07</td>\n",
       "      <td>101</td>\n",
       "      <td>21.129707</td>\n",
       "    </tr>\n",
       "    <tr>\n",
       "      <th>3</th>\n",
       "      <td>G-04</td>\n",
       "      <td>48</td>\n",
       "      <td>10.041841</td>\n",
       "    </tr>\n",
       "    <tr>\n",
       "      <th>4</th>\n",
       "      <td>G-06</td>\n",
       "      <td>32</td>\n",
       "      <td>6.694561</td>\n",
       "    </tr>\n",
       "    <tr>\n",
       "      <th>5</th>\n",
       "      <td>G-11</td>\n",
       "      <td>13</td>\n",
       "      <td>2.719665</td>\n",
       "    </tr>\n",
       "    <tr>\n",
       "      <th>6</th>\n",
       "      <td>G-12</td>\n",
       "      <td>11</td>\n",
       "      <td>2.301255</td>\n",
       "    </tr>\n",
       "    <tr>\n",
       "      <th>7</th>\n",
       "      <td>G-09</td>\n",
       "      <td>5</td>\n",
       "      <td>1.046025</td>\n",
       "    </tr>\n",
       "    <tr>\n",
       "      <th>8</th>\n",
       "      <td>G-10</td>\n",
       "      <td>4</td>\n",
       "      <td>0.836820</td>\n",
       "    </tr>\n",
       "    <tr>\n",
       "      <th>9</th>\n",
       "      <td>G-05</td>\n",
       "      <td>3</td>\n",
       "      <td>0.627615</td>\n",
       "    </tr>\n",
       "  </tbody>\n",
       "</table>\n",
       "</div>"
      ],
      "text/plain": [
       "  index  grade_id          %\n",
       "0  G-02       145  30.334728\n",
       "1  G-08       116  24.267782\n",
       "2  G-07       101  21.129707\n",
       "3  G-04        48  10.041841\n",
       "4  G-06        32   6.694561\n",
       "5  G-11        13   2.719665\n",
       "6  G-12        11   2.301255\n",
       "7  G-09         5   1.046025\n",
       "8  G-10         4   0.836820\n",
       "9  G-05         3   0.627615"
      ]
     },
     "execution_count": 21,
     "metadata": {},
     "output_type": "execute_result"
    }
   ],
   "source": [
    "grade_id_df = pd.DataFrame(categorical_df['grade_id'].value_counts()).reset_index()\n",
    "grade_id_df['%'] = (grade_id_df['grade_id']/grade_id_df['grade_id'].sum())*100\n",
    "grade_id_df"
   ]
  },
  {
   "cell_type": "code",
   "execution_count": 22,
   "id": "7f1b5bfa",
   "metadata": {},
   "outputs": [
    {
     "data": {
      "image/png": "[encoded data removed]",
      "text/plain": [
       "<Figure size 800x400 with 1 Axes>"
      ]
     },
     "metadata": {},
     "output_type": "display_data"
    }
   ],
   "source": [
    "labels = list(grade_id_df['index'])[::-1]\n",
    "counts_topic= list(grade_id_df['grade_id'])[::-1]\n",
    "\n",
    "y = np.arange(len(labels))  # the label locations\n",
    "width = 0.5  # the width of the bars\n",
    "\n",
    "fig, ax = plt.subplots(figsize=(8, 4))\n",
    "rects1 = ax.barh(y - width/2, counts_topic, width, label='Grade IDs')\n",
    "\n",
    "# Add some text for labels, title and custom x-axis tick labels, etc.\n",
    "ax.set_ylabel('Grade IDs')\n",
    "ax.set_title(\"Grade IDs\")\n",
    "ax.set_yticks(y, labels)\n",
    "ax.legend(loc=4)\n",
    "\n",
    "ax.bar_label(rects1, padding=2)\n",
    "\n",
    "fig.tight_layout()\n",
    "\n",
    "plt.show()"
   ]
  },
  {
   "cell_type": "code",
   "execution_count": 23,
   "id": "a125dcb2",
   "metadata": {},
   "outputs": [],
   "source": [
    "grade_map = {\n",
    "    'G-02':'Lower',\n",
    "    'G-04':'Lower',\n",
    "    'G-05':'Lower',\n",
    "    'G-06':'Lower',\n",
    "    'G-07':'Higher',\n",
    "    'G-08':'Higher',\n",
    "    'G-09':'Higher',\n",
    "    'G-10':'Higher',\n",
    "    'G-11':'Higher',\n",
    "    'G-12':'Higher'\n",
    "}"
   ]
  },
  {
   "cell_type": "code",
   "execution_count": 24,
   "id": "098e06e6",
   "metadata": {},
   "outputs": [
    {
     "data": {
      "text/plain": [
       "<class 'dict'>"
      ]
     },
     "execution_count": 24,
     "metadata": {},
     "output_type": "execute_result"
    }
   ],
   "source": [
    "type(grade_map)"
   ]
  },
  {
   "cell_type": "code",
   "execution_count": 25,
   "id": "d21bfe84",
   "metadata": {},
   "outputs": [
    {
     "data": {
      "text/html": [
       "<div>\n",
       "<style scoped>\n",
       "    .dataframe tbody tr th:only-of-type {\n",
       "        vertical-align: middle;\n",
       "    }\n",
       "\n",
       "    .dataframe tbody tr th {\n",
       "        vertical-align: top;\n",
       "    }\n",
       "\n",
       "    .dataframe thead th {\n",
       "        text-align: right;\n",
       "    }\n",
       "</style>\n",
       "<table border=\"1\" class=\"dataframe\">\n",
       "  <thead>\n",
       "    <tr style=\"text-align: right;\">\n",
       "      <th></th>\n",
       "      <th>index</th>\n",
       "      <th>grade_id</th>\n",
       "      <th>%</th>\n",
       "      <th>grade_labels</th>\n",
       "    </tr>\n",
       "  </thead>\n",
       "  <tbody>\n",
       "    <tr>\n",
       "      <th>0</th>\n",
       "      <td>G-02</td>\n",
       "      <td>145</td>\n",
       "      <td>30.334728</td>\n",
       "      <td>Lower</td>\n",
       "    </tr>\n",
       "    <tr>\n",
       "      <th>1</th>\n",
       "      <td>G-08</td>\n",
       "      <td>116</td>\n",
       "      <td>24.267782</td>\n",
       "      <td>Higher</td>\n",
       "    </tr>\n",
       "    <tr>\n",
       "      <th>2</th>\n",
       "      <td>G-07</td>\n",
       "      <td>101</td>\n",
       "      <td>21.129707</td>\n",
       "      <td>Higher</td>\n",
       "    </tr>\n",
       "    <tr>\n",
       "      <th>3</th>\n",
       "      <td>G-04</td>\n",
       "      <td>48</td>\n",
       "      <td>10.041841</td>\n",
       "      <td>Lower</td>\n",
       "    </tr>\n",
       "    <tr>\n",
       "      <th>4</th>\n",
       "      <td>G-06</td>\n",
       "      <td>32</td>\n",
       "      <td>6.694561</td>\n",
       "      <td>Lower</td>\n",
       "    </tr>\n",
       "    <tr>\n",
       "      <th>5</th>\n",
       "      <td>G-11</td>\n",
       "      <td>13</td>\n",
       "      <td>2.719665</td>\n",
       "      <td>Higher</td>\n",
       "    </tr>\n",
       "    <tr>\n",
       "      <th>6</th>\n",
       "      <td>G-12</td>\n",
       "      <td>11</td>\n",
       "      <td>2.301255</td>\n",
       "      <td>Higher</td>\n",
       "    </tr>\n",
       "    <tr>\n",
       "      <th>7</th>\n",
       "      <td>G-09</td>\n",
       "      <td>5</td>\n",
       "      <td>1.046025</td>\n",
       "      <td>Higher</td>\n",
       "    </tr>\n",
       "    <tr>\n",
       "      <th>8</th>\n",
       "      <td>G-10</td>\n",
       "      <td>4</td>\n",
       "      <td>0.836820</td>\n",
       "      <td>Higher</td>\n",
       "    </tr>\n",
       "    <tr>\n",
       "      <th>9</th>\n",
       "      <td>G-05</td>\n",
       "      <td>3</td>\n",
       "      <td>0.627615</td>\n",
       "      <td>Lower</td>\n",
       "    </tr>\n",
       "  </tbody>\n",
       "</table>\n",
       "</div>"
      ],
      "text/plain": [
       "  index  grade_id          % grade_labels\n",
       "0  G-02       145  30.334728        Lower\n",
       "1  G-08       116  24.267782       Higher\n",
       "2  G-07       101  21.129707       Higher\n",
       "3  G-04        48  10.041841        Lower\n",
       "4  G-06        32   6.694561        Lower\n",
       "5  G-11        13   2.719665       Higher\n",
       "6  G-12        11   2.301255       Higher\n",
       "7  G-09         5   1.046025       Higher\n",
       "8  G-10         4   0.836820       Higher\n",
       "9  G-05         3   0.627615        Lower"
      ]
     },
     "execution_count": 25,
     "metadata": {},
     "output_type": "execute_result"
    }
   ],
   "source": [
    "grade_id_df['grade_labels']= grade_id_df['index'].map(grade_map)\n",
    "grade_id_df"
   ]
  },
  {
   "cell_type": "code",
   "execution_count": 26,
   "id": "363d95d7",
   "metadata": {},
   "outputs": [
    {
     "data": {
      "text/html": [
       "<div>\n",
       "<style scoped>\n",
       "    .dataframe tbody tr th:only-of-type {\n",
       "        vertical-align: middle;\n",
       "    }\n",
       "\n",
       "    .dataframe tbody tr th {\n",
       "        vertical-align: top;\n",
       "    }\n",
       "\n",
       "    .dataframe thead th {\n",
       "        text-align: right;\n",
       "    }\n",
       "</style>\n",
       "<table border=\"1\" class=\"dataframe\">\n",
       "  <thead>\n",
       "    <tr style=\"text-align: right;\">\n",
       "      <th></th>\n",
       "      <th>stage_id</th>\n",
       "      <th>grade_id</th>\n",
       "      <th>modified_grade_id</th>\n",
       "    </tr>\n",
       "  </thead>\n",
       "  <tbody>\n",
       "    <tr>\n",
       "      <th>0</th>\n",
       "      <td>LowerLevel</td>\n",
       "      <td>G-04</td>\n",
       "      <td>Lower</td>\n",
       "    </tr>\n",
       "    <tr>\n",
       "      <th>1</th>\n",
       "      <td>LowerLevel</td>\n",
       "      <td>G-04</td>\n",
       "      <td>Lower</td>\n",
       "    </tr>\n",
       "    <tr>\n",
       "      <th>2</th>\n",
       "      <td>LowerLevel</td>\n",
       "      <td>G-04</td>\n",
       "      <td>Lower</td>\n",
       "    </tr>\n",
       "    <tr>\n",
       "      <th>3</th>\n",
       "      <td>LowerLevel</td>\n",
       "      <td>G-04</td>\n",
       "      <td>Lower</td>\n",
       "    </tr>\n",
       "    <tr>\n",
       "      <th>4</th>\n",
       "      <td>LowerLevel</td>\n",
       "      <td>G-04</td>\n",
       "      <td>Lower</td>\n",
       "    </tr>\n",
       "  </tbody>\n",
       "</table>\n",
       "</div>"
      ],
      "text/plain": [
       "     stage_id grade_id modified_grade_id\n",
       "0  LowerLevel     G-04             Lower\n",
       "1  LowerLevel     G-04             Lower\n",
       "2  LowerLevel     G-04             Lower\n",
       "3  LowerLevel     G-04             Lower\n",
       "4  LowerLevel     G-04             Lower"
      ]
     },
     "execution_count": 26,
     "metadata": {},
     "output_type": "execute_result"
    }
   ],
   "source": [
    "ordinal_df['modified_grade_id']= ordinal_df['grade_id'].map(grade_map)\n",
    "ordinal_df.head()"
   ]
  },
  {
   "cell_type": "code",
   "execution_count": 27,
   "id": "6fae68e3",
   "metadata": {},
   "outputs": [
    {
     "data": {
      "text/plain": [
       "Higher    250\n",
       "Lower     228\n",
       "Name: modified_grade_id, dtype: int64"
      ]
     },
     "execution_count": 27,
     "metadata": {},
     "output_type": "execute_result"
    }
   ],
   "source": [
    "ordinal_df['modified_grade_id'].value_counts()"
   ]
  },
  {
   "cell_type": "code",
   "execution_count": 28,
   "id": "719d9634",
   "metadata": {},
   "outputs": [
    {
     "data": {
      "text/plain": [
       "<AxesSubplot:xlabel='count', ylabel='modified_grade_id'>"
      ]
     },
     "execution_count": 28,
     "metadata": {},
     "output_type": "execute_result"
    },
    {
     "data": {
      "image/png": "[encoded data removed]",
      "text/plain": [
       "<Figure size 800x200 with 1 Axes>"
      ]
     },
     "metadata": {},
     "output_type": "display_data"
    }
   ],
   "source": [
    "plt.rcParams[\"figure.figsize\"] = [8.00, 2.00]\n",
    "\n",
    "fig, axs = plt.subplots()\n",
    "\n",
    "sns.countplot(y='modified_grade_id', data=ordinal_df, order=['Higher','Lower'])\n"
   ]
  },
  {
   "cell_type": "code",
   "execution_count": null,
   "id": "483509e1",
   "metadata": {},
   "outputs": [],
   "source": [
    "# TODO Description"
   ]
  },
  {
   "cell_type": "code",
   "execution_count": null,
   "id": "6a68d58d",
   "metadata": {},
   "outputs": [],
   "source": []
  },
  {
   "cell_type": "markdown",
   "id": "b644d779",
   "metadata": {},
   "source": [
    "#### 3.2 topic"
   ]
  },
  {
   "cell_type": "code",
   "execution_count": null,
   "id": "b480e04e",
   "metadata": {},
   "outputs": [],
   "source": [
    "# TODO Feature Engineering"
   ]
  },
  {
   "cell_type": "code",
   "execution_count": null,
   "id": "2bbea5d5",
   "metadata": {},
   "outputs": [],
   "source": []
  },
  {
   "cell_type": "code",
   "execution_count": null,
   "id": "2f1a3d5c",
   "metadata": {},
   "outputs": [],
   "source": []
  },
  {
   "cell_type": "markdown",
   "id": "50765a70",
   "metadata": {},
   "source": [
    "<div style=\"background-color:Gainsboro; padding:20px; text-align:justify; font-weight: bold\">\n",
    "'stage_id' and 'section_id' have low nominal values but 'nationality', 'placeof_birth','grade_id' and 'topic' have high cardinality and rare lables."
   ]
  },
  {
   "cell_type": "markdown",
   "id": "bb6239df",
   "metadata": {},
   "source": [
    "<div style=\"background-color:Gainsboro; padding:20px; text-align:justify; font-weight: bold\">\n",
    " <p>'stage_id' and 'section_id'\n",
    " <p> Inspecting the histograms and pie charts reveals that the labels in these two categories are not balance."
   ]
  },
  {
   "cell_type": "markdown",
   "id": "58647322",
   "metadata": {},
   "source": [
    "<div style=\"background-color:Gainsboro; padding:20px; text-align:justify; font-weight: bold\">\n",
    "\n",
    "<p> Inspecting the histogram and pie chart of 'nationality' reveals the presence of rare labels."
   ]
  },
  {
   "cell_type": "markdown",
   "id": "ddd34399",
   "metadata": {},
   "source": [
    "<div style=\"background-color:Gainsboro; padding:20px; text-align:justify; font-weight: bold\">\n",
    "\n",
    "<p> Inspecting the histogram and pie chart of 'place_of_birth' reveals the presence of rare labels.\n",
    "<p> Visually comparing the 'nationality' and 'place_of_birth' features exibit close similarities. "
   ]
  },
  {
   "cell_type": "markdown",
   "id": "d77080f1",
   "metadata": {},
   "source": [
    "<div style=\"background-color:Gainsboro; padding:20px; text-align:justify; font-weight: bold\">\n",
    "\n",
    "<p> Inspecting the histogram and pie chart of 'grade_id' reveals the presence of rare labels."
   ]
  },
  {
   "cell_type": "markdown",
   "id": "4976fbc1",
   "metadata": {},
   "source": [
    "<div style=\"background-color:Gainsboro; padding:20px; text-align:justify; font-weight: bold\">\n",
    "\n",
    "<p> Inspecting the histogram and pie chart of 'topic' exibit variations in labels."
   ]
  },
  {
   "cell_type": "markdown",
   "id": "879131bc",
   "metadata": {},
   "source": [
    "<div style=\"background-color:Gainsboro; padding:20px; text-align:justify; font-weight: bold\">\n",
    "\n",
    "<p> Inspecting the histogram and pie chart of 'class' reveals the presence of three nearly balanced classes."
   ]
  },
  {
   "cell_type": "markdown",
   "id": "ff176ba1",
   "metadata": {},
   "source": [
    "### 3. Encode Categorical Input Features"
   ]
  },
  {
   "cell_type": "code",
   "execution_count": null,
   "id": "9dfe3d75",
   "metadata": {},
   "outputs": [],
   "source": []
  },
  {
   "cell_type": "code",
   "execution_count": null,
   "id": "f06d2db9",
   "metadata": {},
   "outputs": [],
   "source": []
  },
  {
   "cell_type": "code",
   "execution_count": null,
   "id": "a1b18ab5",
   "metadata": {},
   "outputs": [],
   "source": []
  },
  {
   "cell_type": "markdown",
   "id": "4730939d",
   "metadata": {},
   "source": [
    "### 4. Encode Target Output "
   ]
  },
  {
   "cell_type": "code",
   "execution_count": null,
   "id": "b4b670e7",
   "metadata": {},
   "outputs": [],
   "source": []
  },
  {
   "cell_type": "code",
   "execution_count": null,
   "id": "98a341cb",
   "metadata": {},
   "outputs": [],
   "source": []
  },
  {
   "cell_type": "markdown",
   "id": "e70f349d",
   "metadata": {},
   "source": [
    "## Observations"
   ]
  },
  {
   "cell_type": "markdown",
   "id": "b5385fcc",
   "metadata": {},
   "source": [
    "Graphically visualizing the categorical feature we observe:    \n",
    "\n",
    "1. The presence of binary, nominal and cardinal categories.\n",
    "2. Binary catregories are:   \n",
    "    a. **'gender'**    \n",
    "    b. **'semester'**   \n",
    "    c. **'relation'**    \n",
    "    d. **'parent_answering_survey'**   \n",
    "    e. **'parent_school_satisfaction'**   \n",
    "    f. **'student_absence_days'**   \n",
    "3. Nomial categories are:    \n",
    "    a. **'nationality'**    \n",
    "    b. **'place_of_birth'**    \n",
    "    c. **'section_id'**   \n",
    "    d. **'topic'**\n",
    "4. Ordinal categories are:   \n",
    "    a. **'stage_id'**   \n",
    "    b. **'grade_id'**    \n",
    "5. The target feature is also Ordinal with three labels.\n",
    "6. All binary categorical features and target are alsmot balaced.\n",
    "7. Categories of **'nationality'** and **'place_of_birth'** features show the presence of rare labels and close similarity.  \n",
    "8. Categories of **'satge_id'** and **'grade_id'** features are also intutively similar.\n",
    "9. Categories of **'section_id'** and **'stage_id'** shows similar distributions but are independent.\n",
    "10. Categories of **'topic'** have higher cardinality."
   ]
  },
  {
   "cell_type": "markdown",
   "id": "f5fd9cbd",
   "metadata": {},
   "source": [
    "## Conclusion"
   ]
  },
  {
   "cell_type": "markdown",
   "id": "a0b5779b",
   "metadata": {},
   "source": [
    "Based on the obervations:\n",
    "\n",
    "1. Due to the balnced nature all binary categorical featurea require no further processing.\n",
    "2. The target calss is also balanced and need no processing.\n",
    "3. Due to the presence of rare lables categories of **'nationality'** and **'place_of_birth'** require feature engineering.\n",
    "4. Due to the close similarities of **'satge_id'** and **'grade_id'**, these features require close observation in feature selection stage.   \n",
    "5. Higher cardinality of **'topic'** feature also require feature engineering possibly division in STEM and Humanities categories."
   ]
  },
  {
   "cell_type": "markdown",
   "id": "ee9295a6",
   "metadata": {},
   "source": [
    "------------------------------------------------------------------------------------------------------------------------------"
   ]
  },
  {
   "cell_type": "markdown",
   "id": "93dc6ebd",
   "metadata": {},
   "source": [
    "# sklearn.preprocessing.LabelEncoder"
   ]
  },
  {
   "cell_type": "code",
   "execution_count": null,
   "id": "475ffcba",
   "metadata": {},
   "outputs": [],
   "source": [
    "from sklearn import preprocessing\n",
    "le = preprocessing.LabelEncoder()"
   ]
  },
  {
   "cell_type": "code",
   "execution_count": null,
   "id": "4bf5db34",
   "metadata": {},
   "outputs": [],
   "source": [
    "le.fit([\"paris\", \"paris\", \"tokyo\", \"amsterdam\"])\n",
    "list(le.classes_)"
   ]
  },
  {
   "cell_type": "code",
   "execution_count": null,
   "id": "4671d16f",
   "metadata": {},
   "outputs": [],
   "source": [
    "le.transform([\"tokyo\", \"tokyo\", \"paris\"])\n",
    "list(le.inverse_transform([0, 2, 1]))"
   ]
  },
  {
   "cell_type": "markdown",
   "id": "ab91bee8",
   "metadata": {},
   "source": [
    "# sklearn.preprocessing.OrdinalEncoderm"
   ]
  },
  {
   "cell_type": "code",
   "execution_count": null,
   "id": "953f563c",
   "metadata": {},
   "outputs": [],
   "source": [
    "from sklearn.preprocessing import OrdinalEncoder\n",
    "enc = OrdinalEncoder()\n",
    "X = [['Male', 1], ['Female', 3], ['Female', 2]]\n",
    "enc.fit(X)\n",
    "\n",
    "enc.categories_\n",
    "\n",
    "enc.transform([['Female', 3], ['Male', 1]])\n"
   ]
  },
  {
   "cell_type": "code",
   "execution_count": null,
   "id": "9239fd3b",
   "metadata": {},
   "outputs": [],
   "source": [
    "enc.inverse_transform([[1, 0], [0, 1]])"
   ]
  },
  {
   "cell_type": "markdown",
   "id": "9645f2fa",
   "metadata": {},
   "source": [
    "# sklearn.preprocessing.Normalizer"
   ]
  },
  {
   "cell_type": "code",
   "execution_count": null,
   "id": "371028fc",
   "metadata": {},
   "outputs": [],
   "source": [
    ">>> from sklearn.preprocessing import Normalizer\n",
    "X = [[4, 1, 2, 2],\n",
    "     [1, 3, 9, 3],\n",
    "     [5, 7, 5, 1]]\n",
    "\n",
    "transformer = Normalizer().fit(X)  # fit does nothing.\n",
    "\n",
    "transformer\n",
    "\n",
    "transformer.transform(X)\n"
   ]
  },
  {
   "cell_type": "markdown",
   "id": "66bce05e",
   "metadata": {},
   "source": [
    "# sklearn.preprocessing.OneHotEncoder"
   ]
  },
  {
   "cell_type": "code",
   "execution_count": null,
   "id": "95104c85",
   "metadata": {},
   "outputs": [],
   "source": [
    "from sklearn.preprocessing import OneHotEncoder"
   ]
  },
  {
   "cell_type": "code",
   "execution_count": null,
   "id": "f25582cc",
   "metadata": {},
   "outputs": [],
   "source": [
    "enc = OneHotEncoder(handle_unknown='ignore')\n",
    "X = [['Male', 1], ['Female', 3], ['Female', 2]]\n",
    "enc.fit(X)\n",
    "\n",
    "enc.categories_\n",
    "\n",
    "enc.transform([['Female', 1], ['Male', 4]]).toarray()\n",
    "\n",
    "enc.inverse_transform([[0, 1, 1, 0, 0], [0, 0, 0, 1, 0]])\n",
    "\n",
    "enc.get_feature_names_out(['gender', 'group'])\n"
   ]
  },
  {
   "cell_type": "code",
   "execution_count": null,
   "id": "fc41c92d",
   "metadata": {},
   "outputs": [],
   "source": [
    "drop_enc = OneHotEncoder(drop='first').fit(X)\n",
    "drop_enc.categories_\n",
    "\n",
    "drop_enc.transform([['Female', 1], ['Male', 2]]).toarray()\n"
   ]
  },
  {
   "cell_type": "code",
   "execution_count": null,
   "id": "fb80be0d",
   "metadata": {},
   "outputs": [],
   "source": [
    "drop_binary_enc = OneHotEncoder(drop='if_binary').fit(X)\n",
    "drop_binary_enc.transform([['Female', 1], ['Male', 2]]).toarray()\n"
   ]
  },
  {
   "cell_type": "code",
   "execution_count": null,
   "id": "ac44c067",
   "metadata": {},
   "outputs": [],
   "source": [
    "import datetime\n",
    "\n",
    "base = datetime.datetime.today()\n",
    "date_list = [base - datetime.timedelta(days=x) for x in range(0,30)]\n",
    "df = pd.DataFrame(date_list)\n",
    "df.columns =['day']\n",
    "df.head()"
   ]
  },
  {
   "cell_type": "code",
   "execution_count": null,
   "id": "75c947fa",
   "metadata": {},
   "outputs": [],
   "source": [
    "df['day_of_week'] = df['day'].dt.day_name()\n",
    "df.head()"
   ]
  },
  {
   "cell_type": "code",
   "execution_count": null,
   "id": "17db7bcb",
   "metadata": {},
   "outputs": [],
   "source": [
    "weekday_map = {\n",
    "    'Monday' : 1,\n",
    "    'Tuesday':2,\n",
    "    'Wednesday':3,\n",
    "    'Thursday':4,\n",
    "    'Friday':5,\n",
    "    'Saturday':6,\n",
    "    'Sunday':7\n",
    "}\n",
    "df['day_ordinal']= df['day_of_week'].map(weekday_map)\n",
    "df.head()"
   ]
  },
  {
   "cell_type": "code",
   "execution_count": null,
   "id": "6f91ed07",
   "metadata": {},
   "outputs": [],
   "source": [
    "df['day_ordinal']= df['day_of_week'].map(weekday_map)\n",
    "df.head()"
   ]
  },
  {
   "cell_type": "code",
   "execution_count": null,
   "id": "3aee1262",
   "metadata": {},
   "outputs": [],
   "source": []
  }
 ],
 "metadata": {
  "kernelspec": {
   "display_name": "Python 3",
   "language": "python",
   "name": "python3"
  },
  "language_info": {
   "codemirror_mode": {
    "name": "ipython",
    "version": 3
   },
   "file_extension": ".py",
   "mimetype": "text/x-python",
   "name": "python",
   "nbconvert_exporter": "python",
   "pygments_lexer": "ipython3",
   "version": "3.8.12"
  }
 },
 "nbformat": 4,
 "nbformat_minor": 5
}
