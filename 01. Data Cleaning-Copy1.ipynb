{
 "cells": [
  {
   "cell_type": "markdown",
   "id": "ffe4ac41",
   "metadata": {},
   "source": [
    "<h1 style=\"color:Blue; padding:20px; text-align:center; border-radius:10px\">01. Data Cleaning </h1>"
   ]
  },
  {
   "cell_type": "markdown",
   "id": "e9a3eb38",
   "metadata": {},
   "source": [
    "<div style=\"background-color:Gainsboro; padding:20px; text-align:justify; font-size: 110%\">\n",
    "    <p>In data cleaning we will look for </p>\n",
    "    <ol>\n",
    "        <li>Missing Values.</li>\n",
    "        <li>Null Values.</li>\n",
    "        <li>Spelling Mistakes.</li>\n",
    "        <li>Optimize data for memory.</li>\n",
    "    </ol>\n",
    "</div>"
   ]
  },
  {
   "cell_type": "markdown",
   "id": "2523b32a",
   "metadata": {},
   "source": [
    "### Standard Imports."
   ]
  },
  {
   "cell_type": "code",
   "execution_count": 1,
   "id": "73fdff66",
   "metadata": {},
   "outputs": [],
   "source": [
    "import os\n",
    "import numpy as np\n",
    "import pandas as pd\n",
    "import seaborn as sns\n",
    "import klib as kl\n",
    "import matplotlib.pyplot as plt\n",
    "\n",
    "from sklearn.model_selection import train_test_split\n",
    "\n",
    "%matplotlib inline"
   ]
  },
  {
   "cell_type": "code",
   "execution_count": 2,
   "id": "48dfd00d",
   "metadata": {},
   "outputs": [
    {
     "name": "stdout",
     "output_type": "stream",
     "text": [
      "Pretty printing has been turned OFF\n"
     ]
    }
   ],
   "source": [
    "# Ignore warnings\n",
    "import warnings\n",
    "warnings.filterwarnings('ignore')\n",
    "%pprint"
   ]
  },
  {
   "cell_type": "markdown",
   "id": "052e6699",
   "metadata": {},
   "source": [
    "### 1. Load Data."
   ]
  },
  {
   "cell_type": "code",
   "execution_count": 3,
   "id": "6533d84e",
   "metadata": {},
   "outputs": [],
   "source": [
    "# Loading the Student's data\n",
    "data = pd.read_csv('./data/xAPI-Edu-Data.csv')"
   ]
  },
  {
   "cell_type": "code",
   "execution_count": 4,
   "id": "87f2deca",
   "metadata": {},
   "outputs": [
    {
     "data": {
      "text/html": [
       "<div>\n",
       "<style scoped>\n",
       "    .dataframe tbody tr th:only-of-type {\n",
       "        vertical-align: middle;\n",
       "    }\n",
       "\n",
       "    .dataframe tbody tr th {\n",
       "        vertical-align: top;\n",
       "    }\n",
       "\n",
       "    .dataframe thead th {\n",
       "        text-align: right;\n",
       "    }\n",
       "</style>\n",
       "<table border=\"1\" class=\"dataframe\">\n",
       "  <thead>\n",
       "    <tr style=\"text-align: right;\">\n",
       "      <th></th>\n",
       "      <th>gender</th>\n",
       "      <th>NationalITy</th>\n",
       "      <th>PlaceofBirth</th>\n",
       "      <th>StageID</th>\n",
       "      <th>GradeID</th>\n",
       "      <th>SectionID</th>\n",
       "      <th>Topic</th>\n",
       "      <th>Semester</th>\n",
       "      <th>Relation</th>\n",
       "      <th>raisedhands</th>\n",
       "      <th>VisITedResources</th>\n",
       "      <th>AnnouncementsView</th>\n",
       "      <th>Discussion</th>\n",
       "      <th>ParentAnsweringSurvey</th>\n",
       "      <th>ParentschoolSatisfaction</th>\n",
       "      <th>StudentAbsenceDays</th>\n",
       "      <th>Class</th>\n",
       "    </tr>\n",
       "  </thead>\n",
       "  <tbody>\n",
       "    <tr>\n",
       "      <th>0</th>\n",
       "      <td>M</td>\n",
       "      <td>KW</td>\n",
       "      <td>KuwaIT</td>\n",
       "      <td>lowerlevel</td>\n",
       "      <td>G-04</td>\n",
       "      <td>A</td>\n",
       "      <td>IT</td>\n",
       "      <td>F</td>\n",
       "      <td>Father</td>\n",
       "      <td>15</td>\n",
       "      <td>16</td>\n",
       "      <td>2</td>\n",
       "      <td>20</td>\n",
       "      <td>Yes</td>\n",
       "      <td>Good</td>\n",
       "      <td>Under-7</td>\n",
       "      <td>M</td>\n",
       "    </tr>\n",
       "    <tr>\n",
       "      <th>1</th>\n",
       "      <td>M</td>\n",
       "      <td>KW</td>\n",
       "      <td>KuwaIT</td>\n",
       "      <td>lowerlevel</td>\n",
       "      <td>G-04</td>\n",
       "      <td>A</td>\n",
       "      <td>IT</td>\n",
       "      <td>F</td>\n",
       "      <td>Father</td>\n",
       "      <td>20</td>\n",
       "      <td>20</td>\n",
       "      <td>3</td>\n",
       "      <td>25</td>\n",
       "      <td>Yes</td>\n",
       "      <td>Good</td>\n",
       "      <td>Under-7</td>\n",
       "      <td>M</td>\n",
       "    </tr>\n",
       "    <tr>\n",
       "      <th>2</th>\n",
       "      <td>M</td>\n",
       "      <td>KW</td>\n",
       "      <td>KuwaIT</td>\n",
       "      <td>lowerlevel</td>\n",
       "      <td>G-04</td>\n",
       "      <td>A</td>\n",
       "      <td>IT</td>\n",
       "      <td>F</td>\n",
       "      <td>Father</td>\n",
       "      <td>10</td>\n",
       "      <td>7</td>\n",
       "      <td>0</td>\n",
       "      <td>30</td>\n",
       "      <td>No</td>\n",
       "      <td>Bad</td>\n",
       "      <td>Above-7</td>\n",
       "      <td>L</td>\n",
       "    </tr>\n",
       "    <tr>\n",
       "      <th>3</th>\n",
       "      <td>M</td>\n",
       "      <td>KW</td>\n",
       "      <td>KuwaIT</td>\n",
       "      <td>lowerlevel</td>\n",
       "      <td>G-04</td>\n",
       "      <td>A</td>\n",
       "      <td>IT</td>\n",
       "      <td>F</td>\n",
       "      <td>Father</td>\n",
       "      <td>30</td>\n",
       "      <td>25</td>\n",
       "      <td>5</td>\n",
       "      <td>35</td>\n",
       "      <td>No</td>\n",
       "      <td>Bad</td>\n",
       "      <td>Above-7</td>\n",
       "      <td>L</td>\n",
       "    </tr>\n",
       "    <tr>\n",
       "      <th>4</th>\n",
       "      <td>M</td>\n",
       "      <td>KW</td>\n",
       "      <td>KuwaIT</td>\n",
       "      <td>lowerlevel</td>\n",
       "      <td>G-04</td>\n",
       "      <td>A</td>\n",
       "      <td>IT</td>\n",
       "      <td>F</td>\n",
       "      <td>Father</td>\n",
       "      <td>40</td>\n",
       "      <td>50</td>\n",
       "      <td>12</td>\n",
       "      <td>50</td>\n",
       "      <td>No</td>\n",
       "      <td>Bad</td>\n",
       "      <td>Above-7</td>\n",
       "      <td>M</td>\n",
       "    </tr>\n",
       "  </tbody>\n",
       "</table>\n",
       "</div>"
      ],
      "text/plain": [
       "  gender NationalITy PlaceofBirth     StageID GradeID SectionID Topic  \\\n",
       "0      M          KW       KuwaIT  lowerlevel    G-04         A    IT   \n",
       "1      M          KW       KuwaIT  lowerlevel    G-04         A    IT   \n",
       "2      M          KW       KuwaIT  lowerlevel    G-04         A    IT   \n",
       "3      M          KW       KuwaIT  lowerlevel    G-04         A    IT   \n",
       "4      M          KW       KuwaIT  lowerlevel    G-04         A    IT   \n",
       "\n",
       "  Semester Relation  raisedhands  VisITedResources  AnnouncementsView  \\\n",
       "0        F   Father           15                16                  2   \n",
       "1        F   Father           20                20                  3   \n",
       "2        F   Father           10                 7                  0   \n",
       "3        F   Father           30                25                  5   \n",
       "4        F   Father           40                50                 12   \n",
       "\n",
       "   Discussion ParentAnsweringSurvey ParentschoolSatisfaction  \\\n",
       "0          20                   Yes                     Good   \n",
       "1          25                   Yes                     Good   \n",
       "2          30                    No                      Bad   \n",
       "3          35                    No                      Bad   \n",
       "4          50                    No                      Bad   \n",
       "\n",
       "  StudentAbsenceDays Class  \n",
       "0            Under-7     M  \n",
       "1            Under-7     M  \n",
       "2            Above-7     L  \n",
       "3            Above-7     L  \n",
       "4            Above-7     M  "
      ]
     },
     "execution_count": 4,
     "metadata": {},
     "output_type": "execute_result"
    }
   ],
   "source": [
    "# Cheack the data is properly loaded\n",
    "data.head()"
   ]
  },
  {
   "cell_type": "code",
   "execution_count": 5,
   "id": "601bef9c",
   "metadata": {},
   "outputs": [
    {
     "name": "stdout",
     "output_type": "stream",
     "text": [
      "<class 'pandas.core.frame.DataFrame'>\n",
      "RangeIndex: 480 entries, 0 to 479\n",
      "Data columns (total 17 columns):\n",
      " #   Column                    Non-Null Count  Dtype \n",
      "---  ------                    --------------  ----- \n",
      " 0   gender                    480 non-null    object\n",
      " 1   NationalITy               480 non-null    object\n",
      " 2   PlaceofBirth              480 non-null    object\n",
      " 3   StageID                   480 non-null    object\n",
      " 4   GradeID                   480 non-null    object\n",
      " 5   SectionID                 480 non-null    object\n",
      " 6   Topic                     480 non-null    object\n",
      " 7   Semester                  480 non-null    object\n",
      " 8   Relation                  480 non-null    object\n",
      " 9   raisedhands               480 non-null    int64 \n",
      " 10  VisITedResources          480 non-null    int64 \n",
      " 11  AnnouncementsView         480 non-null    int64 \n",
      " 12  Discussion                480 non-null    int64 \n",
      " 13  ParentAnsweringSurvey     480 non-null    object\n",
      " 14  ParentschoolSatisfaction  480 non-null    object\n",
      " 15  StudentAbsenceDays        480 non-null    object\n",
      " 16  Class                     480 non-null    object\n",
      "dtypes: int64(4), object(13)\n",
      "memory usage: 63.9+ KB\n"
     ]
    }
   ],
   "source": [
    "# Data Characteristics\n",
    "data.info()"
   ]
  },
  {
   "cell_type": "markdown",
   "id": "426fb2a9",
   "metadata": {},
   "source": [
    "<p style=\"background-color:Gainsboro; padding:20px; text-align:justify; font-size: 110%\">\n",
    "The spelling of some feature names have to be adjusted for uniformaty.\n",
    "</p>"
   ]
  },
  {
   "cell_type": "code",
   "execution_count": 6,
   "id": "cc2a33fd",
   "metadata": {},
   "outputs": [],
   "source": [
    "# Clean the feature name labels.\n",
    "data.rename(columns={\n",
    "    'gender' : 'Gender',\n",
    "    'NationalITy' :'Nationality',\n",
    "    'raisedhands' : 'RaisedHands',\n",
    "    'VisITedResources' :'VisitedResources',\n",
    "    'ParentschoolSatisfaction':'ParentSchoolSatisfaction'    \n",
    "}, inplace = True)"
   ]
  },
  {
   "cell_type": "code",
   "execution_count": 7,
   "id": "5671825d",
   "metadata": {},
   "outputs": [
    {
     "name": "stdout",
     "output_type": "stream",
     "text": [
      "<class 'pandas.core.frame.DataFrame'>\n",
      "RangeIndex: 480 entries, 0 to 479\n",
      "Data columns (total 17 columns):\n",
      " #   Column                    Non-Null Count  Dtype \n",
      "---  ------                    --------------  ----- \n",
      " 0   Gender                    480 non-null    object\n",
      " 1   Nationality               480 non-null    object\n",
      " 2   PlaceofBirth              480 non-null    object\n",
      " 3   StageID                   480 non-null    object\n",
      " 4   GradeID                   480 non-null    object\n",
      " 5   SectionID                 480 non-null    object\n",
      " 6   Topic                     480 non-null    object\n",
      " 7   Semester                  480 non-null    object\n",
      " 8   Relation                  480 non-null    object\n",
      " 9   RaisedHands               480 non-null    int64 \n",
      " 10  VisitedResources          480 non-null    int64 \n",
      " 11  AnnouncementsView         480 non-null    int64 \n",
      " 12  Discussion                480 non-null    int64 \n",
      " 13  ParentAnsweringSurvey     480 non-null    object\n",
      " 14  ParentSchoolSatisfaction  480 non-null    object\n",
      " 15  StudentAbsenceDays        480 non-null    object\n",
      " 16  Class                     480 non-null    object\n",
      "dtypes: int64(4), object(13)\n",
      "memory usage: 63.9+ KB\n"
     ]
    }
   ],
   "source": [
    "# Check the Data Characteristics again\n",
    "data.info()"
   ]
  },
  {
   "cell_type": "markdown",
   "id": "9e05e7d8",
   "metadata": {},
   "source": [
    "### 2. Cleaning"
   ]
  },
  {
   "cell_type": "code",
   "execution_count": 8,
   "id": "3a888af5",
   "metadata": {},
   "outputs": [
    {
     "data": {
      "text/plain": [
       "Gender                      0\n",
       "Nationality                 0\n",
       "PlaceofBirth                0\n",
       "StageID                     0\n",
       "GradeID                     0\n",
       "SectionID                   0\n",
       "Topic                       0\n",
       "Semester                    0\n",
       "Relation                    0\n",
       "RaisedHands                 0\n",
       "VisitedResources            0\n",
       "AnnouncementsView           0\n",
       "Discussion                  0\n",
       "ParentAnsweringSurvey       0\n",
       "ParentSchoolSatisfaction    0\n",
       "StudentAbsenceDays          0\n",
       "Class                       0\n",
       "dtype: int64"
      ]
     },
     "execution_count": 8,
     "metadata": {},
     "output_type": "execute_result"
    }
   ],
   "source": [
    "# Check for missing data\n",
    "data.isna().sum()"
   ]
  },
  {
   "cell_type": "markdown",
   "id": "168fb3b6",
   "metadata": {},
   "source": [
    "<p style=\"background-color:Gainsboro; padding:20px; text-align:justify; font-size: 110%\">\n",
    "The result of <strong>data.isna().sum()</strong> shows there is no missing values in any of the columns.\n",
    "</p>"
   ]
  },
  {
   "cell_type": "markdown",
   "id": "2b888d87",
   "metadata": {},
   "source": [
    "### 3. Preprocessing Categorical Data."
   ]
  },
  {
   "cell_type": "code",
   "execution_count": 17,
   "id": "98c6df88",
   "metadata": {},
   "outputs": [
    {
     "data": {
      "text/plain": [
       "['Gender', 'Nationality', 'PlaceofBirth', 'StageID', 'GradeID', 'SectionID', 'Topic', 'Semester', 'Relation', 'ParentAnsweringSurvey', 'ParentSchoolSatisfaction', 'StudentAbsenceDays']"
      ]
     },
     "execution_count": 17,
     "metadata": {},
     "output_type": "execute_result"
    }
   ],
   "source": [
    "CATEGORICAL_FEATURES = list([column for column in data.columns if data.dtypes[column] == 'object'])[:-1]\n",
    "CATEGORICAL_FEATURES"
   ]
  },
  {
   "cell_type": "code",
   "execution_count": 27,
   "id": "05697807",
   "metadata": {},
   "outputs": [],
   "source": [
    "TARGET = 'Class'"
   ]
  },
  {
   "cell_type": "code",
   "execution_count": 28,
   "id": "a7b42642",
   "metadata": {},
   "outputs": [
    {
     "name": "stdout",
     "output_type": "stream",
     "text": [
      "Total Number for Categorical Feature : 12\n",
      "1 Gender\n",
      "2 Nationality\n",
      "3 PlaceofBirth\n",
      "4 StageID\n",
      "5 GradeID\n",
      "6 SectionID\n",
      "7 Topic\n",
      "8 Semester\n",
      "9 Relation\n",
      "10 ParentAnsweringSurvey\n",
      "11 ParentSchoolSatisfaction\n",
      "12 StudentAbsenceDays\n"
     ]
    }
   ],
   "source": [
    "# Categorical Featutes\n",
    "print(f'Total Number for Categorical Feature : {len(CATEGORICAL_FEATURES)}')\n",
    "for i,feature in enumerate(CATEGORICAL_FEATURES):\n",
    "    print((i+1),feature)"
   ]
  },
  {
   "cell_type": "code",
   "execution_count": 40,
   "id": "c0c3f488",
   "metadata": {},
   "outputs": [
    {
     "name": "stdout",
     "output_type": "stream",
     "text": [
      "1. Gender, has 2 unique attributes. \n",
      " ['M' 'F'] \n",
      "\n",
      "2. Nationality, has 14 unique attributes. \n",
      " ['KW' 'lebanon' 'Egypt' 'SaudiArabia' 'USA' 'Jordan' 'venzuela' 'Iran'\n",
      " 'Tunis' 'Morocco' 'Syria' 'Palestine' 'Iraq' 'Lybia'] \n",
      "\n",
      "3. PlaceofBirth, has 14 unique attributes. \n",
      " ['KuwaIT' 'lebanon' 'Egypt' 'SaudiArabia' 'USA' 'Jordan' 'venzuela' 'Iran'\n",
      " 'Tunis' 'Morocco' 'Syria' 'Iraq' 'Palestine' 'Lybia'] \n",
      "\n",
      "4. StageID, has 3 unique attributes. \n",
      " ['lowerlevel' 'MiddleSchool' 'HighSchool'] \n",
      "\n",
      "5. GradeID, has 10 unique attributes. \n",
      " ['G-04' 'G-07' 'G-08' 'G-06' 'G-05' 'G-09' 'G-12' 'G-11' 'G-10' 'G-02'] \n",
      "\n",
      "6. SectionID, has 3 unique attributes. \n",
      " ['A' 'B' 'C'] \n",
      "\n",
      "7. Topic, has 12 unique attributes. \n",
      " ['IT' 'Math' 'Arabic' 'Science' 'English' 'Quran' 'Spanish' 'French'\n",
      " 'History' 'Biology' 'Chemistry' 'Geology'] \n",
      "\n",
      "8. Semester, has 2 unique attributes. \n",
      " ['F' 'S'] \n",
      "\n",
      "9. Relation, has 2 unique attributes. \n",
      " ['Father' 'Mum'] \n",
      "\n",
      "10. ParentAnsweringSurvey, has 2 unique attributes. \n",
      " ['Yes' 'No'] \n",
      "\n",
      "11. ParentSchoolSatisfaction, has 2 unique attributes. \n",
      " ['Good' 'Bad'] \n",
      "\n",
      "12. StudentAbsenceDays, has 2 unique attributes. \n",
      " ['Under-7' 'Above-7'] \n",
      "\n"
     ]
    }
   ],
   "source": [
    "for i,feature in enumerate(CATEGORICAL_FEATURES):\n",
    "    print(f'{i+1}. {feature}, has {len(data[feature].unique())} unique attributes. \\n {data[feature].unique()} \\n')"
   ]
  },
  {
   "cell_type": "markdown",
   "id": "66a5ed08",
   "metadata": {},
   "source": [
    "Looking at the features:\n",
    "* **Nationality**, \n",
    "* **PlaceofBirth** and \n",
    "* **StageID** \n",
    "these require some cleaning.    "
   ]
  },
  {
   "cell_type": "markdown",
   "id": "9389ec0d",
   "metadata": {},
   "source": [
    "#### 3.1 Cleaning the Nationality feature."
   ]
  },
  {
   "cell_type": "code",
   "execution_count": 66,
   "id": "349ae4eb",
   "metadata": {},
   "outputs": [
    {
     "data": {
      "text/plain": [
       "array(['Kuwait', 'Lebanon', 'Egypt', 'SaudiArabia', 'USA', 'Jordan',\n",
       "       'venzuela', 'Iran', 'Tunis', 'Morocco', 'Syria', 'Palestine',\n",
       "       'Iraq', 'Lybia'], dtype=object)"
      ]
     },
     "execution_count": 66,
     "metadata": {},
     "output_type": "execute_result"
    }
   ],
   "source": [
    "# Categories in Nationality\n",
    "data['Nationality'].unique()"
   ]
  },
  {
   "cell_type": "markdown",
   "id": "43b64691",
   "metadata": {},
   "source": [
    "We need to make following changes\n",
    "1. Convert KW to Kuwait\n",
    "2. lebanon to Lebanon\n",
    "3. venzuela to Venezuela\n",
    "4. Lybia to Libya"
   ]
  },
  {
   "cell_type": "code",
   "execution_count": 67,
   "id": "2a720360",
   "metadata": {},
   "outputs": [],
   "source": [
    "# Helper function for label conversion in a features column\n",
    "def label_converter(data, original, replacement):\n",
    "    for i, _ in enumerate(data):\n",
    "        if(data[i]==original):\n",
    "            data[i] = replacement\n",
    "        else:\n",
    "            pass\n",
    "    return"
   ]
  },
  {
   "cell_type": "code",
   "execution_count": 68,
   "id": "fd350276",
   "metadata": {},
   "outputs": [],
   "source": [
    "label_converter(data['Nationality'],'KW','Kuwait')"
   ]
  },
  {
   "cell_type": "code",
   "execution_count": 69,
   "id": "05e7d1f3",
   "metadata": {},
   "outputs": [],
   "source": [
    "label_converter(data['Nationality'],'lebanon','Lebanon')"
   ]
  },
  {
   "cell_type": "code",
   "execution_count": 72,
   "id": "f8b3019f",
   "metadata": {},
   "outputs": [],
   "source": [
    "label_converter(data['Nationality'],'venzuela','Venezuela')"
   ]
  },
  {
   "cell_type": "code",
   "execution_count": 80,
   "id": "0a529a76",
   "metadata": {},
   "outputs": [],
   "source": [
    "label_converter(data['Nationality'],'Lybia','Libya')"
   ]
  },
  {
   "cell_type": "code",
   "execution_count": 81,
   "id": "87e18f67",
   "metadata": {},
   "outputs": [
    {
     "data": {
      "text/plain": [
       "array(['Kuwait', 'Lebanon', 'Egypt', 'SaudiArabia', 'USA', 'Jordan',\n",
       "       'Venezuela', 'Iran', 'Tunis', 'Morocco', 'Syria', 'Palestine',\n",
       "       'Iraq', 'Libya'], dtype=object)"
      ]
     },
     "execution_count": 81,
     "metadata": {},
     "output_type": "execute_result"
    }
   ],
   "source": [
    "# Check the changes\n",
    "data['Nationality'].unique()"
   ]
  },
  {
   "cell_type": "markdown",
   "id": "840ac1f7",
   "metadata": {},
   "source": [
    "#### 3.2 Cleaning the PlaceofBirth feature."
   ]
  },
  {
   "cell_type": "code",
   "execution_count": 82,
   "id": "f1e84c40",
   "metadata": {},
   "outputs": [
    {
     "data": {
      "text/plain": [
       "array(['Kuwait', 'Lebanon', 'Egypt', 'SaudiArabia', 'USA', 'Jordan',\n",
       "       'Venezuela', 'Iran', 'Tunis', 'Morocco', 'Syria', 'Iraq',\n",
       "       'Palestine', 'Lybia'], dtype=object)"
      ]
     },
     "execution_count": 82,
     "metadata": {},
     "output_type": "execute_result"
    }
   ],
   "source": [
    "# Categories in PlaceofBirth\n",
    "data['PlaceofBirth'].unique()"
   ]
  },
  {
   "cell_type": "markdown",
   "id": "ef172672",
   "metadata": {},
   "source": [
    "We need to make following changes\n",
    "1. Convert KuwaIT to Kuwait\n",
    "2. lebanon to Lebanon\n",
    "3. venzuela to Venezuela\n",
    "4. Lybia to Libya"
   ]
  },
  {
   "cell_type": "code",
   "execution_count": 83,
   "id": "964e37fe",
   "metadata": {},
   "outputs": [],
   "source": [
    "label_converter(data['PlaceofBirth'],'KuwaIT','Kuwait')"
   ]
  },
  {
   "cell_type": "code",
   "execution_count": 84,
   "id": "eac617a7",
   "metadata": {},
   "outputs": [],
   "source": [
    "label_converter(data['PlaceofBirth'],'lebanon','Lebanon')"
   ]
  },
  {
   "cell_type": "code",
   "execution_count": 85,
   "id": "d639db97",
   "metadata": {},
   "outputs": [],
   "source": [
    "label_converter(data['PlaceofBirth'],'venzuela','Venezuela')"
   ]
  },
  {
   "cell_type": "code",
   "execution_count": 97,
   "id": "fa9b7dda",
   "metadata": {},
   "outputs": [
    {
     "data": {
      "text/plain": [
       "array(['Kuwait', 'Lebanon', 'Egypt', 'SaudiArabia', 'USA', 'Jordan',\n",
       "       'Venezuela', 'Iran', 'Tunis', 'Morocco', 'Syria', 'Iraq',\n",
       "       'Palestine', 'Lybia'], dtype=object)"
      ]
     },
     "execution_count": 97,
     "metadata": {},
     "output_type": "execute_result"
    }
   ],
   "source": [
    "# Check the changes\n",
    "data['PlaceofBirth'].unique()"
   ]
  },
  {
   "cell_type": "markdown",
   "id": "4b3f5c2a",
   "metadata": {},
   "source": [
    "#### 3.2 Cleaning the StageID feature."
   ]
  },
  {
   "cell_type": "code",
   "execution_count": 89,
   "id": "5c58f401",
   "metadata": {},
   "outputs": [
    {
     "data": {
      "text/plain": [
       "array(['lowerlevel', 'MiddleSchool', 'HighSchool'], dtype=object)"
      ]
     },
     "execution_count": 89,
     "metadata": {},
     "output_type": "execute_result"
    }
   ],
   "source": [
    "# Categories in StageID\n",
    "data['StageID'].unique()"
   ]
  },
  {
   "cell_type": "markdown",
   "id": "463300ad",
   "metadata": {},
   "source": [
    "For consistancy in the labels we need to change lowerlevel to LowerLevel."
   ]
  },
  {
   "cell_type": "code",
   "execution_count": 98,
   "id": "0c5213ee",
   "metadata": {},
   "outputs": [],
   "source": [
    "label_converter(data['StageID'],'lowerlevel','LowerLevel')"
   ]
  },
  {
   "cell_type": "code",
   "execution_count": 99,
   "id": "7794f90b",
   "metadata": {},
   "outputs": [
    {
     "data": {
      "text/plain": [
       "array(['LowerLevel', 'MiddleSchool', 'HighSchool'], dtype=object)"
      ]
     },
     "execution_count": 99,
     "metadata": {},
     "output_type": "execute_result"
    }
   ],
   "source": [
    "# Check the changes\n",
    "data['StageID'].unique()"
   ]
  },
  {
   "cell_type": "markdown",
   "id": "1feeaf10",
   "metadata": {},
   "source": [
    "<p style=\"background-color:Gainsboro; padding:20px; text-align:justify; font-size: 110%\">\n",
    "1. Features with 2 unique lables can be encoded as binary features. </br>\n",
    "2. Feature with more than 2 independent lables can be coded as nominal features. (No relation exist between lables.)</br> \n",
    "3. Feature with more than 2 related lables can be coded as ordinal features. (There is ordinal relation between lables.) \n",
    "</p>"
   ]
  },
  {
   "cell_type": "code",
   "execution_count": 103,
   "id": "f068e786",
   "metadata": {},
   "outputs": [
    {
     "name": "stdout",
     "output_type": "stream",
     "text": [
      " TARGET, has 3 unique attributes. \n",
      " ['M' 'L' 'H'] \n",
      "\n"
     ]
    }
   ],
   "source": [
    "# Target \n",
    "print(f' TARGET, has {len(data[TARGET].unique())} unique attributes. \\n {data[TARGET].unique()} \\n')"
   ]
  },
  {
   "cell_type": "markdown",
   "id": "98e9d27b",
   "metadata": {},
   "source": [
    "<p style=\"background-color:Gainsboro; padding:20px; text-align:justify; font-size: 110%\">\n",
    "Target has three unique attributes. Can possibly be onehot encoded. \n",
    "</p>"
   ]
  },
  {
   "cell_type": "code",
   "execution_count": null,
   "id": "e2916e4f",
   "metadata": {},
   "outputs": [],
   "source": []
  },
  {
   "cell_type": "markdown",
   "id": "204d5db4",
   "metadata": {},
   "source": [
    "<p style=\"background-color:Gainsboro; padding:20px; text-align:justify; font-size: 110%\">\n",
    "The descriptive statistical properties of continuous features are tabulated in the above output. \n",
    "</p>"
   ]
  },
  {
   "cell_type": "markdown",
   "id": "b51c0ac0",
   "metadata": {},
   "source": [
    "### 3. Preprocessing Numerical Data."
   ]
  },
  {
   "cell_type": "code",
   "execution_count": 104,
   "id": "5449e9ca",
   "metadata": {},
   "outputs": [
    {
     "data": {
      "text/plain": [
       "['RaisedHands', 'VisitedResources', 'AnnouncementsView', 'Discussion']"
      ]
     },
     "execution_count": 104,
     "metadata": {},
     "output_type": "execute_result"
    }
   ],
   "source": [
    "NUMERICAL_FEATURES = list([column for column in data.columns if data.dtypes[column] != 'object'])\n",
    "NUMERICAL_FEATURES"
   ]
  },
  {
   "cell_type": "code",
   "execution_count": 105,
   "id": "efccddc6",
   "metadata": {},
   "outputs": [
    {
     "name": "stdout",
     "output_type": "stream",
     "text": [
      "Total Number for Continous Feature : 4\n",
      "1 RaisedHands\n",
      "2 VisitedResources\n",
      "3 AnnouncementsView\n",
      "4 Discussion\n"
     ]
    }
   ],
   "source": [
    "print(f'Total Number for Continous Feature : {len(NUMERICAL_FEATURES)}')\n",
    "for i,feature in enumerate(NUMERICAL_FEATURES):\n",
    "    print((i+1),feature)"
   ]
  },
  {
   "cell_type": "code",
   "execution_count": 106,
   "id": "196598fb",
   "metadata": {},
   "outputs": [
    {
     "data": {
      "text/html": [
       "<div>\n",
       "<style scoped>\n",
       "    .dataframe tbody tr th:only-of-type {\n",
       "        vertical-align: middle;\n",
       "    }\n",
       "\n",
       "    .dataframe tbody tr th {\n",
       "        vertical-align: top;\n",
       "    }\n",
       "\n",
       "    .dataframe thead th {\n",
       "        text-align: right;\n",
       "    }\n",
       "</style>\n",
       "<table border=\"1\" class=\"dataframe\">\n",
       "  <thead>\n",
       "    <tr style=\"text-align: right;\">\n",
       "      <th></th>\n",
       "      <th>count</th>\n",
       "      <th>mean</th>\n",
       "      <th>std</th>\n",
       "      <th>min</th>\n",
       "      <th>25%</th>\n",
       "      <th>50%</th>\n",
       "      <th>75%</th>\n",
       "      <th>max</th>\n",
       "    </tr>\n",
       "  </thead>\n",
       "  <tbody>\n",
       "    <tr>\n",
       "      <th>RaisedHands</th>\n",
       "      <td>480.0</td>\n",
       "      <td>46.775000</td>\n",
       "      <td>30.779223</td>\n",
       "      <td>0.0</td>\n",
       "      <td>15.75</td>\n",
       "      <td>50.0</td>\n",
       "      <td>75.0</td>\n",
       "      <td>100.0</td>\n",
       "    </tr>\n",
       "    <tr>\n",
       "      <th>VisitedResources</th>\n",
       "      <td>480.0</td>\n",
       "      <td>54.797917</td>\n",
       "      <td>33.080007</td>\n",
       "      <td>0.0</td>\n",
       "      <td>20.00</td>\n",
       "      <td>65.0</td>\n",
       "      <td>84.0</td>\n",
       "      <td>99.0</td>\n",
       "    </tr>\n",
       "    <tr>\n",
       "      <th>AnnouncementsView</th>\n",
       "      <td>480.0</td>\n",
       "      <td>37.918750</td>\n",
       "      <td>26.611244</td>\n",
       "      <td>0.0</td>\n",
       "      <td>14.00</td>\n",
       "      <td>33.0</td>\n",
       "      <td>58.0</td>\n",
       "      <td>98.0</td>\n",
       "    </tr>\n",
       "    <tr>\n",
       "      <th>Discussion</th>\n",
       "      <td>480.0</td>\n",
       "      <td>43.283333</td>\n",
       "      <td>27.637735</td>\n",
       "      <td>1.0</td>\n",
       "      <td>20.00</td>\n",
       "      <td>39.0</td>\n",
       "      <td>70.0</td>\n",
       "      <td>99.0</td>\n",
       "    </tr>\n",
       "  </tbody>\n",
       "</table>\n",
       "</div>"
      ],
      "text/plain": [
       "                   count       mean        std  min    25%   50%   75%    max\n",
       "RaisedHands        480.0  46.775000  30.779223  0.0  15.75  50.0  75.0  100.0\n",
       "VisitedResources   480.0  54.797917  33.080007  0.0  20.00  65.0  84.0   99.0\n",
       "AnnouncementsView  480.0  37.918750  26.611244  0.0  14.00  33.0  58.0   98.0\n",
       "Discussion         480.0  43.283333  27.637735  1.0  20.00  39.0  70.0   99.0"
      ]
     },
     "execution_count": 106,
     "metadata": {},
     "output_type": "execute_result"
    }
   ],
   "source": [
    "stats = data.describe()\n",
    "stats.transpose()"
   ]
  },
  {
   "cell_type": "code",
   "execution_count": 109,
   "id": "cfb444fe",
   "metadata": {},
   "outputs": [
    {
     "data": {
      "text/plain": [
       "RaisedHands          0\n",
       "VisitedResources     0\n",
       "AnnouncementsView    0\n",
       "Discussion           0\n",
       "dtype: int64"
      ]
     },
     "execution_count": 109,
     "metadata": {},
     "output_type": "execute_result"
    }
   ],
   "source": [
    "# Check for null values in the Numerical features\n",
    "data[NUMERICAL_FEATURES].isnull().sum()"
   ]
  },
  {
   "cell_type": "markdown",
   "id": "61d04988",
   "metadata": {},
   "source": [
    "<p style=\"background-color:Gainsboro; padding:20px; text-align:justify; font-size: 110%\">\n",
    "The result of <strong>data[NUMERICAL_FEATURES].isnull().sum()</strong> shows there is no null values in any numerical feature.\n",
    "</p>"
   ]
  },
  {
   "cell_type": "code",
   "execution_count": null,
   "id": "1eb136cc",
   "metadata": {},
   "outputs": [],
   "source": []
  }
 ],
 "metadata": {
  "kernelspec": {
   "display_name": "Python 3",
   "language": "python",
   "name": "python3"
  },
  "language_info": {
   "codemirror_mode": {
    "name": "ipython",
    "version": 3
   },
   "file_extension": ".py",
   "mimetype": "text/x-python",
   "name": "python",
   "nbconvert_exporter": "python",
   "pygments_lexer": "ipython3",
   "version": "3.8.12"
  }
 },
 "nbformat": 4,
 "nbformat_minor": 5
}
