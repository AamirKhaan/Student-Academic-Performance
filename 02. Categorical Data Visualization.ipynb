{
 "cells": [
  {
   "cell_type": "markdown",
   "id": "ffe4ac41",
   "metadata": {},
   "source": [
    "<h1 style=\"color:Blue; padding:20px; text-align:center; border-radius:10px\">01. Categorical Data Visualization</h1>"
   ]
  },
  {
   "cell_type": "markdown",
   "id": "e9a3eb38",
   "metadata": {},
   "source": [
    "<div style=\"background-color:Gainsboro; padding:20px; text-align:justify; font-size: 110%\">\n",
    "    <p>Data visualization helps in anlysing the features of the data and helps in feature selction. In this section we will </p>\n",
    "    <ol>\n",
    "        <li>Import Cleaned Data.</li>\n",
    "        <li>Split in Categorical and Numerical Features.</li>\n",
    "        <li>Visualize Categorical Data.</li>\n",
    "        <li>Visualize Target Data.</li>\n",
    "    </ol>\n",
    "</div>"
   ]
  },
  {
   "cell_type": "markdown",
   "id": "2523b32a",
   "metadata": {},
   "source": [
    "### Standard Imports."
   ]
  },
  {
   "cell_type": "code",
   "execution_count": 1,
   "id": "73fdff66",
   "metadata": {},
   "outputs": [],
   "source": [
    "import numpy as np\n",
    "import pandas as pd\n",
    "import seaborn as sns\n",
    "import klib as kl\n",
    "import matplotlib.pyplot as plt"
   ]
  },
  {
   "cell_type": "code",
   "execution_count": 2,
   "id": "48dfd00d",
   "metadata": {},
   "outputs": [
    {
     "name": "stdout",
     "output_type": "stream",
     "text": [
      "Pretty printing has been turned OFF\n"
     ]
    }
   ],
   "source": [
    "# Ignore warnings\n",
    "import warnings\n",
    "warnings.filterwarnings('ignore')\n",
    "\n",
    "# Disable pretty\n",
    "%pprint\n",
    "\n",
    "%matplotlib inline\n",
    "\n",
    "pd.set_option('display.max_columns', None)\n",
    "sns.set() "
   ]
  },
  {
   "cell_type": "code",
   "execution_count": 3,
   "id": "051a7a73",
   "metadata": {},
   "outputs": [],
   "source": [
    "# Global parameters for figure\n",
    "plt.rcParams[\"figure.figsize\"] = [10.00, 8.00]\n",
    "plt.rcParams[\"figure.dpi\"] = 100\n",
    "plt.rcParams[\"figure.autolayout\"] = True"
   ]
  },
  {
   "cell_type": "code",
   "execution_count": 71,
   "id": "cee4b59c",
   "metadata": {},
   "outputs": [],
   "source": [
    "# Converts a categorical fearture to a dataframe with category_labels, counts, and probability\n",
    "def convert_to_df(feature,df):\n",
    "    cols = len(df[feature].unique())\n",
    "\n",
    "    data_gender = np.concatenate((\n",
    "        np.array(df[feature].unique()),\n",
    "        np.array(df[feature].value_counts()),\n",
    "        df[feature].value_counts() / len(df[feature])), axis=0).reshape(3,cols).T\n",
    "\n",
    "    df = pd.DataFrame(data_gender,\n",
    "                       columns=[feature, 'counts','probability'])\n",
    "    return df"
   ]
  },
  {
   "cell_type": "markdown",
   "id": "052e6699",
   "metadata": {},
   "source": [
    "### 1. Import Cleaned Data."
   ]
  },
  {
   "cell_type": "code",
   "execution_count": 72,
   "id": "6533d84e",
   "metadata": {},
   "outputs": [
    {
     "name": "stdout",
     "output_type": "stream",
     "text": [
      "Long column names detected (>25 characters). Consider renaming the following columns ['parent_school_satisfaction'].\n",
      "Shape of cleaned data: (478, 17)Remaining NAs: 0\n",
      "\n",
      "Changes:\n",
      "Dropped rows: 0\n",
      "     of which 0 duplicates. (Rows: [])\n",
      "Dropped columns: 0\n",
      "     of which 0 single valued.     Columns: []\n",
      "Dropped missing values: 0\n",
      "Reduced memory by at least: 0.05 MB (-83.33%)\n",
      "\n"
     ]
    }
   ],
   "source": [
    "# Loading the Student's data\n",
    "data = pd.read_csv('./data/xAPI-Edu-Data_cleaned.csv')\n",
    "data = kl.data_cleaning(data)"
   ]
  },
  {
   "cell_type": "code",
   "execution_count": 73,
   "id": "87f2deca",
   "metadata": {},
   "outputs": [
    {
     "data": {
      "text/html": [
       "<div>\n",
       "<style scoped>\n",
       "    .dataframe tbody tr th:only-of-type {\n",
       "        vertical-align: middle;\n",
       "    }\n",
       "\n",
       "    .dataframe tbody tr th {\n",
       "        vertical-align: top;\n",
       "    }\n",
       "\n",
       "    .dataframe thead th {\n",
       "        text-align: right;\n",
       "    }\n",
       "</style>\n",
       "<table border=\"1\" class=\"dataframe\">\n",
       "  <thead>\n",
       "    <tr style=\"text-align: right;\">\n",
       "      <th></th>\n",
       "      <th>gender</th>\n",
       "      <th>nationality</th>\n",
       "      <th>place_of_birth</th>\n",
       "      <th>stage_id</th>\n",
       "      <th>grade_id</th>\n",
       "      <th>section_id</th>\n",
       "      <th>topic</th>\n",
       "      <th>semester</th>\n",
       "      <th>relation</th>\n",
       "      <th>raised_hands</th>\n",
       "      <th>visited_resources</th>\n",
       "      <th>announcements_view</th>\n",
       "      <th>discussion</th>\n",
       "      <th>parent_answering_survey</th>\n",
       "      <th>parent_school_satisfaction</th>\n",
       "      <th>student_absence_days</th>\n",
       "      <th>class</th>\n",
       "    </tr>\n",
       "  </thead>\n",
       "  <tbody>\n",
       "    <tr>\n",
       "      <th>0</th>\n",
       "      <td>M</td>\n",
       "      <td>Kuwait</td>\n",
       "      <td>Kuwait</td>\n",
       "      <td>LowerLevel</td>\n",
       "      <td>G-04</td>\n",
       "      <td>A</td>\n",
       "      <td>IT</td>\n",
       "      <td>F</td>\n",
       "      <td>Father</td>\n",
       "      <td>15</td>\n",
       "      <td>16</td>\n",
       "      <td>2</td>\n",
       "      <td>20</td>\n",
       "      <td>Yes</td>\n",
       "      <td>Good</td>\n",
       "      <td>Under-7</td>\n",
       "      <td>M</td>\n",
       "    </tr>\n",
       "    <tr>\n",
       "      <th>1</th>\n",
       "      <td>M</td>\n",
       "      <td>Kuwait</td>\n",
       "      <td>Kuwait</td>\n",
       "      <td>LowerLevel</td>\n",
       "      <td>G-04</td>\n",
       "      <td>A</td>\n",
       "      <td>IT</td>\n",
       "      <td>F</td>\n",
       "      <td>Father</td>\n",
       "      <td>20</td>\n",
       "      <td>20</td>\n",
       "      <td>3</td>\n",
       "      <td>25</td>\n",
       "      <td>Yes</td>\n",
       "      <td>Good</td>\n",
       "      <td>Under-7</td>\n",
       "      <td>M</td>\n",
       "    </tr>\n",
       "    <tr>\n",
       "      <th>2</th>\n",
       "      <td>M</td>\n",
       "      <td>Kuwait</td>\n",
       "      <td>Kuwait</td>\n",
       "      <td>LowerLevel</td>\n",
       "      <td>G-04</td>\n",
       "      <td>A</td>\n",
       "      <td>IT</td>\n",
       "      <td>F</td>\n",
       "      <td>Father</td>\n",
       "      <td>10</td>\n",
       "      <td>7</td>\n",
       "      <td>0</td>\n",
       "      <td>30</td>\n",
       "      <td>No</td>\n",
       "      <td>Bad</td>\n",
       "      <td>Above-7</td>\n",
       "      <td>L</td>\n",
       "    </tr>\n",
       "    <tr>\n",
       "      <th>3</th>\n",
       "      <td>M</td>\n",
       "      <td>Kuwait</td>\n",
       "      <td>Kuwait</td>\n",
       "      <td>LowerLevel</td>\n",
       "      <td>G-04</td>\n",
       "      <td>A</td>\n",
       "      <td>IT</td>\n",
       "      <td>F</td>\n",
       "      <td>Father</td>\n",
       "      <td>30</td>\n",
       "      <td>25</td>\n",
       "      <td>5</td>\n",
       "      <td>35</td>\n",
       "      <td>No</td>\n",
       "      <td>Bad</td>\n",
       "      <td>Above-7</td>\n",
       "      <td>L</td>\n",
       "    </tr>\n",
       "    <tr>\n",
       "      <th>4</th>\n",
       "      <td>M</td>\n",
       "      <td>Kuwait</td>\n",
       "      <td>Kuwait</td>\n",
       "      <td>LowerLevel</td>\n",
       "      <td>G-04</td>\n",
       "      <td>A</td>\n",
       "      <td>IT</td>\n",
       "      <td>F</td>\n",
       "      <td>Father</td>\n",
       "      <td>40</td>\n",
       "      <td>50</td>\n",
       "      <td>12</td>\n",
       "      <td>50</td>\n",
       "      <td>No</td>\n",
       "      <td>Bad</td>\n",
       "      <td>Above-7</td>\n",
       "      <td>M</td>\n",
       "    </tr>\n",
       "  </tbody>\n",
       "</table>\n",
       "</div>"
      ],
      "text/plain": [
       "  gender nationality place_of_birth    stage_id grade_id section_id topic  \\\n",
       "0      M      Kuwait         Kuwait  LowerLevel     G-04          A    IT   \n",
       "1      M      Kuwait         Kuwait  LowerLevel     G-04          A    IT   \n",
       "2      M      Kuwait         Kuwait  LowerLevel     G-04          A    IT   \n",
       "3      M      Kuwait         Kuwait  LowerLevel     G-04          A    IT   \n",
       "4      M      Kuwait         Kuwait  LowerLevel     G-04          A    IT   \n",
       "\n",
       "  semester relation  raised_hands  visited_resources  announcements_view  \\\n",
       "0        F   Father            15                 16                   2   \n",
       "1        F   Father            20                 20                   3   \n",
       "2        F   Father            10                  7                   0   \n",
       "3        F   Father            30                 25                   5   \n",
       "4        F   Father            40                 50                  12   \n",
       "\n",
       "   discussion parent_answering_survey parent_school_satisfaction  \\\n",
       "0          20                     Yes                       Good   \n",
       "1          25                     Yes                       Good   \n",
       "2          30                      No                        Bad   \n",
       "3          35                      No                        Bad   \n",
       "4          50                      No                        Bad   \n",
       "\n",
       "  student_absence_days class  \n",
       "0              Under-7     M  \n",
       "1              Under-7     M  \n",
       "2              Above-7     L  \n",
       "3              Above-7     L  \n",
       "4              Above-7     M  "
      ]
     },
     "execution_count": 73,
     "metadata": {},
     "output_type": "execute_result"
    }
   ],
   "source": [
    "# Cheack the data is properly loaded\n",
    "data.head()"
   ]
  },
  {
   "cell_type": "code",
   "execution_count": 74,
   "id": "601bef9c",
   "metadata": {},
   "outputs": [
    {
     "name": "stdout",
     "output_type": "stream",
     "text": [
      "<class 'pandas.core.frame.DataFrame'>\n",
      "RangeIndex: 478 entries, 0 to 477\n",
      "Data columns (total 17 columns):\n",
      " #   Column                      Non-Null Count  Dtype   \n",
      "---  ------                      --------------  -----   \n",
      " 0   gender                      478 non-null    category\n",
      " 1   nationality                 478 non-null    category\n",
      " 2   place_of_birth              478 non-null    category\n",
      " 3   stage_id                    478 non-null    category\n",
      " 4   grade_id                    478 non-null    category\n",
      " 5   section_id                  478 non-null    category\n",
      " 6   topic                       478 non-null    category\n",
      " 7   semester                    478 non-null    category\n",
      " 8   relation                    478 non-null    category\n",
      " 9   raised_hands                478 non-null    int8    \n",
      " 10  visited_resources           478 non-null    int8    \n",
      " 11  announcements_view          478 non-null    int8    \n",
      " 12  discussion                  478 non-null    int8    \n",
      " 13  parent_answering_survey     478 non-null    category\n",
      " 14  parent_school_satisfaction  478 non-null    category\n",
      " 15  student_absence_days        478 non-null    category\n",
      " 16  class                       478 non-null    category\n",
      "dtypes: category(13), int8(4)\n",
      "memory usage: 11.2 KB\n"
     ]
    }
   ],
   "source": [
    "# Data Characteristics\n",
    "data.info()"
   ]
  },
  {
   "cell_type": "markdown",
   "id": "9e05e7d8",
   "metadata": {},
   "source": [
    "### 2. Split in Categorical and Numerical Features."
   ]
  },
  {
   "cell_type": "code",
   "execution_count": 75,
   "id": "2e57955d",
   "metadata": {},
   "outputs": [
    {
     "data": {
      "text/plain": [
       "['gender', 'nationality', 'place_of_birth', 'stage_id', 'grade_id', 'section_id', 'topic', 'semester', 'relation', 'parent_answering_survey', 'parent_school_satisfaction', 'student_absence_days']"
      ]
     },
     "execution_count": 75,
     "metadata": {},
     "output_type": "execute_result"
    }
   ],
   "source": [
    "CATEGORICAL_FEATURES = list([column for column in data.columns if data.dtypes[column] == 'category'])[:-1]\n",
    "CATEGORICAL_FEATURES"
   ]
  },
  {
   "cell_type": "code",
   "execution_count": 76,
   "id": "4cbba3ae",
   "metadata": {},
   "outputs": [
    {
     "data": {
      "text/plain": [
       "['raised_hands', 'visited_resources', 'announcements_view', 'discussion']"
      ]
     },
     "execution_count": 76,
     "metadata": {},
     "output_type": "execute_result"
    }
   ],
   "source": [
    "NUMERICAL_FEATURES = list([column for column in data.columns if data.dtypes[column] != 'category'])\n",
    "NUMERICAL_FEATURES"
   ]
  },
  {
   "cell_type": "code",
   "execution_count": 77,
   "id": "2e64ca80",
   "metadata": {},
   "outputs": [],
   "source": [
    "TARGET = 'class'"
   ]
  },
  {
   "cell_type": "markdown",
   "id": "2b888d87",
   "metadata": {},
   "source": [
    "### 3. Visualize Categorical Data."
   ]
  },
  {
   "cell_type": "markdown",
   "id": "66a5ed08",
   "metadata": {},
   "source": [
    "### Introduction:\n",
    "\n",
    "Categorical data can have following issues when considered for training ML models:\n",
    "\n",
    "**Cardinalty:** Variables with too many labels tend to dominate over those with only few labels, particularly in Tree based Algorithms.\n",
    "\n",
    "**Rare Labels:** Rare labels may be present in trianig set, but not in test set, causing over-fitting to the train set.\n",
    "\n",
    "**Rare Labels:** Rare labels may appear in the test set, and not in the train set. Thus, the machine learning model will not know how to evaluate it for scoring.\n",
    "\n",
    "\n",
    "\n"
   ]
  },
  {
   "cell_type": "code",
   "execution_count": 78,
   "id": "4ed6c937",
   "metadata": {},
   "outputs": [
    {
     "name": "stdout",
     "output_type": "stream",
     "text": [
      "1. gender, has 2 unique categories. \n",
      " ['M', 'F']\n",
      "Categories (2, object): ['F', 'M'] \n",
      "\n",
      "2. nationality, has 14 unique categories. \n",
      " ['Kuwait', 'Lebanon', 'Egypt', 'SaudiArabia', 'USA', ..., 'Morocco', 'Syria', 'Palestine', 'Iraq', 'Libya']\n",
      "Length: 14\n",
      "Categories (14, object): ['Egypt', 'Iran', 'Iraq', 'Jordan', ..., 'Syria', 'Tunis', 'USA', 'Venezuela'] \n",
      "\n",
      "3. place_of_birth, has 14 unique categories. \n",
      " ['Kuwait', 'Lebanon', 'Egypt', 'SaudiArabia', 'USA', ..., 'Morocco', 'Syria', 'Iraq', 'Palestine', 'Lybia']\n",
      "Length: 14\n",
      "Categories (14, object): ['Egypt', 'Iran', 'Iraq', 'Jordan', ..., 'Syria', 'Tunis', 'USA', 'Venezuela'] \n",
      "\n",
      "4. stage_id, has 3 unique categories. \n",
      " ['LowerLevel', 'MiddleSchool', 'HighSchool']\n",
      "Categories (3, object): ['HighSchool', 'LowerLevel', 'MiddleSchool'] \n",
      "\n",
      "5. grade_id, has 10 unique categories. \n",
      " ['G-04', 'G-07', 'G-08', 'G-06', 'G-05', 'G-09', 'G-12', 'G-11', 'G-10', 'G-02']\n",
      "Categories (10, object): ['G-02', 'G-04', 'G-05', 'G-06', ..., 'G-09', 'G-10', 'G-11', 'G-12'] \n",
      "\n",
      "6. section_id, has 3 unique categories. \n",
      " ['A', 'B', 'C']\n",
      "Categories (3, object): ['A', 'B', 'C'] \n",
      "\n",
      "7. topic, has 12 unique categories. \n",
      " ['IT', 'Math', 'Arabic', 'Science', 'English', ..., 'French', 'History', 'Biology', 'Chemistry', 'Geology']\n",
      "Length: 12\n",
      "Categories (12, object): ['Arabic', 'Biology', 'Chemistry', 'English', ..., 'Math', 'Quran', 'Science', 'Spanish'] \n",
      "\n",
      "8. semester, has 2 unique categories. \n",
      " ['F', 'S']\n",
      "Categories (2, object): ['F', 'S'] \n",
      "\n",
      "9. relation, has 2 unique categories. \n",
      " ['Father', 'Mum']\n",
      "Categories (2, object): ['Father', 'Mum'] \n",
      "\n",
      "10. parent_answering_survey, has 2 unique categories. \n",
      " ['Yes', 'No']\n",
      "Categories (2, object): ['No', 'Yes'] \n",
      "\n",
      "11. parent_school_satisfaction, has 2 unique categories. \n",
      " ['Good', 'Bad']\n",
      "Categories (2, object): ['Bad', 'Good'] \n",
      "\n",
      "12. student_absence_days, has 2 unique categories. \n",
      " ['Under-7', 'Above-7']\n",
      "Categories (2, object): ['Above-7', 'Under-7'] \n",
      "\n"
     ]
    }
   ],
   "source": [
    "for i,feature in enumerate(CATEGORICAL_FEATURES):\n",
    "    print(f'{i+1}. {feature}, has {len(data[feature].unique())} unique categories. \\n {data[feature].unique()} \\n')"
   ]
  },
  {
   "cell_type": "markdown",
   "id": "6b8c829f",
   "metadata": {},
   "source": [
    "<p style=\"color:blue; text-align:justify; font-size: 110%\">\n",
    "1. Features with 2 unique lables can be encoded as binary features. </br>\n",
    "2. Feature with more than 2 independent lables can be coded as nominal features. </br>\n",
    "   (No relation exist between lables.)</br> \n",
    "3. Feature with more than 2 related lables can be coded as ordinal features. </br>\n",
    "   (There is ordinal relation between lables.) \n",
    "</p>"
   ]
  },
  {
   "cell_type": "markdown",
   "id": "5638c729",
   "metadata": {},
   "source": [
    "#### 3.1 Binary Categorical Features"
   ]
  },
  {
   "cell_type": "code",
   "execution_count": 79,
   "id": "627f26e7",
   "metadata": {},
   "outputs": [
    {
     "name": "stdout",
     "output_type": "stream",
     "text": [
      "['gender', 'semester', 'relation', 'parent_answering_survey', 'parent_school_satisfaction', 'student_absence_days']\n",
      "Total number of Binary Categories: 6\n"
     ]
    }
   ],
   "source": [
    "# Binary Features\n",
    "BINARY_FEATURES = list([category for category in CATEGORICAL_FEATURES if (len(data[category].unique())) == 2])\n",
    "print(BINARY_FEATURES )\n",
    "print(f'Total number of Binary Categories: {len(BINARY_FEATURES)}')"
   ]
  },
  {
   "cell_type": "code",
   "execution_count": 80,
   "id": "195665cc",
   "metadata": {},
   "outputs": [
    {
     "data": {
      "text/html": [
       "<div>\n",
       "<style scoped>\n",
       "    .dataframe tbody tr th:only-of-type {\n",
       "        vertical-align: middle;\n",
       "    }\n",
       "\n",
       "    .dataframe tbody tr th {\n",
       "        vertical-align: top;\n",
       "    }\n",
       "\n",
       "    .dataframe thead th {\n",
       "        text-align: right;\n",
       "    }\n",
       "</style>\n",
       "<table border=\"1\" class=\"dataframe\">\n",
       "  <thead>\n",
       "    <tr style=\"text-align: right;\">\n",
       "      <th></th>\n",
       "      <th>gender</th>\n",
       "      <th>semester</th>\n",
       "      <th>relation</th>\n",
       "      <th>parent_answering_survey</th>\n",
       "      <th>parent_school_satisfaction</th>\n",
       "      <th>student_absence_days</th>\n",
       "    </tr>\n",
       "  </thead>\n",
       "  <tbody>\n",
       "    <tr>\n",
       "      <th>0</th>\n",
       "      <td>M</td>\n",
       "      <td>F</td>\n",
       "      <td>Father</td>\n",
       "      <td>Yes</td>\n",
       "      <td>Good</td>\n",
       "      <td>Under-7</td>\n",
       "    </tr>\n",
       "    <tr>\n",
       "      <th>1</th>\n",
       "      <td>M</td>\n",
       "      <td>F</td>\n",
       "      <td>Father</td>\n",
       "      <td>Yes</td>\n",
       "      <td>Good</td>\n",
       "      <td>Under-7</td>\n",
       "    </tr>\n",
       "    <tr>\n",
       "      <th>2</th>\n",
       "      <td>M</td>\n",
       "      <td>F</td>\n",
       "      <td>Father</td>\n",
       "      <td>No</td>\n",
       "      <td>Bad</td>\n",
       "      <td>Above-7</td>\n",
       "    </tr>\n",
       "    <tr>\n",
       "      <th>3</th>\n",
       "      <td>M</td>\n",
       "      <td>F</td>\n",
       "      <td>Father</td>\n",
       "      <td>No</td>\n",
       "      <td>Bad</td>\n",
       "      <td>Above-7</td>\n",
       "    </tr>\n",
       "    <tr>\n",
       "      <th>4</th>\n",
       "      <td>M</td>\n",
       "      <td>F</td>\n",
       "      <td>Father</td>\n",
       "      <td>No</td>\n",
       "      <td>Bad</td>\n",
       "      <td>Above-7</td>\n",
       "    </tr>\n",
       "  </tbody>\n",
       "</table>\n",
       "</div>"
      ],
      "text/plain": [
       "  gender semester relation parent_answering_survey parent_school_satisfaction  \\\n",
       "0      M        F   Father                     Yes                       Good   \n",
       "1      M        F   Father                     Yes                       Good   \n",
       "2      M        F   Father                      No                        Bad   \n",
       "3      M        F   Father                      No                        Bad   \n",
       "4      M        F   Father                      No                        Bad   \n",
       "\n",
       "  student_absence_days  \n",
       "0              Under-7  \n",
       "1              Under-7  \n",
       "2              Above-7  \n",
       "3              Above-7  \n",
       "4              Above-7  "
      ]
     },
     "execution_count": 80,
     "metadata": {},
     "output_type": "execute_result"
    }
   ],
   "source": [
    "binary_df = data[BINARY_FEATURES]\n",
    "binary_df.head()"
   ]
  },
  {
   "cell_type": "markdown",
   "id": "3ffba397",
   "metadata": {},
   "source": [
    "<p style=\"color:red\">The probabity represented here is probability of selection in single experiment.</br> It's  simple ratio of categories in the data sample.</p>"
   ]
  },
  {
   "cell_type": "code",
   "execution_count": 81,
   "id": "23dcdbf6",
   "metadata": {},
   "outputs": [
    {
     "data": {
      "text/html": [
       "<div>\n",
       "<style scoped>\n",
       "    .dataframe tbody tr th:only-of-type {\n",
       "        vertical-align: middle;\n",
       "    }\n",
       "\n",
       "    .dataframe tbody tr th {\n",
       "        vertical-align: top;\n",
       "    }\n",
       "\n",
       "    .dataframe thead th {\n",
       "        text-align: right;\n",
       "    }\n",
       "</style>\n",
       "<table border=\"1\" class=\"dataframe\">\n",
       "  <thead>\n",
       "    <tr style=\"text-align: right;\">\n",
       "      <th></th>\n",
       "      <th>gender</th>\n",
       "      <th>counts</th>\n",
       "      <th>probability</th>\n",
       "    </tr>\n",
       "  </thead>\n",
       "  <tbody>\n",
       "    <tr>\n",
       "      <th>0</th>\n",
       "      <td>M</td>\n",
       "      <td>303</td>\n",
       "      <td>0.633891</td>\n",
       "    </tr>\n",
       "    <tr>\n",
       "      <th>1</th>\n",
       "      <td>F</td>\n",
       "      <td>175</td>\n",
       "      <td>0.366109</td>\n",
       "    </tr>\n",
       "  </tbody>\n",
       "</table>\n",
       "</div>"
      ],
      "text/plain": [
       "  gender counts probability\n",
       "0      M    303    0.633891\n",
       "1      F    175    0.366109"
      ]
     },
     "execution_count": 81,
     "metadata": {},
     "output_type": "execute_result"
    }
   ],
   "source": [
    "gender_df = convert_to_df('gender', binary_df)\n",
    "gender_df"
   ]
  },
  {
   "cell_type": "code",
   "execution_count": 82,
   "id": "ef0e3e1c",
   "metadata": {},
   "outputs": [
    {
     "data": {
      "text/html": [
       "<div>\n",
       "<style scoped>\n",
       "    .dataframe tbody tr th:only-of-type {\n",
       "        vertical-align: middle;\n",
       "    }\n",
       "\n",
       "    .dataframe tbody tr th {\n",
       "        vertical-align: top;\n",
       "    }\n",
       "\n",
       "    .dataframe thead th {\n",
       "        text-align: right;\n",
       "    }\n",
       "</style>\n",
       "<table border=\"1\" class=\"dataframe\">\n",
       "  <thead>\n",
       "    <tr style=\"text-align: right;\">\n",
       "      <th></th>\n",
       "      <th>semester</th>\n",
       "      <th>counts</th>\n",
       "      <th>probability</th>\n",
       "    </tr>\n",
       "  </thead>\n",
       "  <tbody>\n",
       "    <tr>\n",
       "      <th>0</th>\n",
       "      <td>F</td>\n",
       "      <td>244</td>\n",
       "      <td>0.51046</td>\n",
       "    </tr>\n",
       "    <tr>\n",
       "      <th>1</th>\n",
       "      <td>S</td>\n",
       "      <td>234</td>\n",
       "      <td>0.48954</td>\n",
       "    </tr>\n",
       "  </tbody>\n",
       "</table>\n",
       "</div>"
      ],
      "text/plain": [
       "  semester counts probability\n",
       "0        F    244     0.51046\n",
       "1        S    234     0.48954"
      ]
     },
     "execution_count": 82,
     "metadata": {},
     "output_type": "execute_result"
    }
   ],
   "source": [
    "semester_df = convert_to_df('semester', binary_df)\n",
    "semester_df"
   ]
  },
  {
   "cell_type": "code",
   "execution_count": 83,
   "id": "a7b9b1fa",
   "metadata": {},
   "outputs": [
    {
     "data": {
      "text/html": [
       "<div>\n",
       "<style scoped>\n",
       "    .dataframe tbody tr th:only-of-type {\n",
       "        vertical-align: middle;\n",
       "    }\n",
       "\n",
       "    .dataframe tbody tr th {\n",
       "        vertical-align: top;\n",
       "    }\n",
       "\n",
       "    .dataframe thead th {\n",
       "        text-align: right;\n",
       "    }\n",
       "</style>\n",
       "<table border=\"1\" class=\"dataframe\">\n",
       "  <thead>\n",
       "    <tr style=\"text-align: right;\">\n",
       "      <th></th>\n",
       "      <th>relation</th>\n",
       "      <th>counts</th>\n",
       "      <th>probability</th>\n",
       "    </tr>\n",
       "  </thead>\n",
       "  <tbody>\n",
       "    <tr>\n",
       "      <th>0</th>\n",
       "      <td>Father</td>\n",
       "      <td>281</td>\n",
       "      <td>0.587866</td>\n",
       "    </tr>\n",
       "    <tr>\n",
       "      <th>1</th>\n",
       "      <td>Mum</td>\n",
       "      <td>197</td>\n",
       "      <td>0.412134</td>\n",
       "    </tr>\n",
       "  </tbody>\n",
       "</table>\n",
       "</div>"
      ],
      "text/plain": [
       "  relation counts probability\n",
       "0   Father    281    0.587866\n",
       "1      Mum    197    0.412134"
      ]
     },
     "execution_count": 83,
     "metadata": {},
     "output_type": "execute_result"
    }
   ],
   "source": [
    "relation_df = convert_to_df('relation', binary_df)\n",
    "relation_df"
   ]
  },
  {
   "cell_type": "code",
   "execution_count": 84,
   "id": "c745df8e",
   "metadata": {},
   "outputs": [
    {
     "data": {
      "text/html": [
       "<div>\n",
       "<style scoped>\n",
       "    .dataframe tbody tr th:only-of-type {\n",
       "        vertical-align: middle;\n",
       "    }\n",
       "\n",
       "    .dataframe tbody tr th {\n",
       "        vertical-align: top;\n",
       "    }\n",
       "\n",
       "    .dataframe thead th {\n",
       "        text-align: right;\n",
       "    }\n",
       "</style>\n",
       "<table border=\"1\" class=\"dataframe\">\n",
       "  <thead>\n",
       "    <tr style=\"text-align: right;\">\n",
       "      <th></th>\n",
       "      <th>parent_answering_survey</th>\n",
       "      <th>counts</th>\n",
       "      <th>probability</th>\n",
       "    </tr>\n",
       "  </thead>\n",
       "  <tbody>\n",
       "    <tr>\n",
       "      <th>0</th>\n",
       "      <td>Yes</td>\n",
       "      <td>270</td>\n",
       "      <td>0.564854</td>\n",
       "    </tr>\n",
       "    <tr>\n",
       "      <th>1</th>\n",
       "      <td>No</td>\n",
       "      <td>208</td>\n",
       "      <td>0.435146</td>\n",
       "    </tr>\n",
       "  </tbody>\n",
       "</table>\n",
       "</div>"
      ],
      "text/plain": [
       "  parent_answering_survey counts probability\n",
       "0                     Yes    270    0.564854\n",
       "1                      No    208    0.435146"
      ]
     },
     "execution_count": 84,
     "metadata": {},
     "output_type": "execute_result"
    }
   ],
   "source": [
    "parent_answering_survey_df = convert_to_df('parent_answering_survey', binary_df)\n",
    "parent_answering_survey_df"
   ]
  },
  {
   "cell_type": "code",
   "execution_count": 85,
   "id": "3a5acf5c",
   "metadata": {},
   "outputs": [
    {
     "data": {
      "text/html": [
       "<div>\n",
       "<style scoped>\n",
       "    .dataframe tbody tr th:only-of-type {\n",
       "        vertical-align: middle;\n",
       "    }\n",
       "\n",
       "    .dataframe tbody tr th {\n",
       "        vertical-align: top;\n",
       "    }\n",
       "\n",
       "    .dataframe thead th {\n",
       "        text-align: right;\n",
       "    }\n",
       "</style>\n",
       "<table border=\"1\" class=\"dataframe\">\n",
       "  <thead>\n",
       "    <tr style=\"text-align: right;\">\n",
       "      <th></th>\n",
       "      <th>parent_school_satisfaction</th>\n",
       "      <th>counts</th>\n",
       "      <th>probability</th>\n",
       "    </tr>\n",
       "  </thead>\n",
       "  <tbody>\n",
       "    <tr>\n",
       "      <th>0</th>\n",
       "      <td>Good</td>\n",
       "      <td>292</td>\n",
       "      <td>0.610879</td>\n",
       "    </tr>\n",
       "    <tr>\n",
       "      <th>1</th>\n",
       "      <td>Bad</td>\n",
       "      <td>186</td>\n",
       "      <td>0.389121</td>\n",
       "    </tr>\n",
       "  </tbody>\n",
       "</table>\n",
       "</div>"
      ],
      "text/plain": [
       "  parent_school_satisfaction counts probability\n",
       "0                       Good    292    0.610879\n",
       "1                        Bad    186    0.389121"
      ]
     },
     "execution_count": 85,
     "metadata": {},
     "output_type": "execute_result"
    }
   ],
   "source": [
    "parent_school_satisfaction_df = convert_to_df('parent_school_satisfaction', binary_df)\n",
    "parent_school_satisfaction_df"
   ]
  },
  {
   "cell_type": "code",
   "execution_count": 86,
   "id": "340d5d28",
   "metadata": {},
   "outputs": [
    {
     "data": {
      "text/html": [
       "<div>\n",
       "<style scoped>\n",
       "    .dataframe tbody tr th:only-of-type {\n",
       "        vertical-align: middle;\n",
       "    }\n",
       "\n",
       "    .dataframe tbody tr th {\n",
       "        vertical-align: top;\n",
       "    }\n",
       "\n",
       "    .dataframe thead th {\n",
       "        text-align: right;\n",
       "    }\n",
       "</style>\n",
       "<table border=\"1\" class=\"dataframe\">\n",
       "  <thead>\n",
       "    <tr style=\"text-align: right;\">\n",
       "      <th></th>\n",
       "      <th>student_absence_days</th>\n",
       "      <th>counts</th>\n",
       "      <th>probability</th>\n",
       "    </tr>\n",
       "  </thead>\n",
       "  <tbody>\n",
       "    <tr>\n",
       "      <th>0</th>\n",
       "      <td>Under-7</td>\n",
       "      <td>289</td>\n",
       "      <td>0.604603</td>\n",
       "    </tr>\n",
       "    <tr>\n",
       "      <th>1</th>\n",
       "      <td>Above-7</td>\n",
       "      <td>189</td>\n",
       "      <td>0.395397</td>\n",
       "    </tr>\n",
       "  </tbody>\n",
       "</table>\n",
       "</div>"
      ],
      "text/plain": [
       "  student_absence_days counts probability\n",
       "0              Under-7    289    0.604603\n",
       "1              Above-7    189    0.395397"
      ]
     },
     "execution_count": 86,
     "metadata": {},
     "output_type": "execute_result"
    }
   ],
   "source": [
    "student_absence_days = convert_to_df('student_absence_days', binary_df)\n",
    "student_absence_days"
   ]
  },
  {
   "cell_type": "markdown",
   "id": "03a84a6c",
   "metadata": {},
   "source": [
    "#### 3.2 Binary Categorical Feature plots"
   ]
  },
  {
   "cell_type": "markdown",
   "id": "f627f672",
   "metadata": {},
   "source": [
    "Ploting binary feature counts gives us feature's balance visually.\n",
    "General rule of thumb upto 60:40 is considered a balnced data for ML model training. "
   ]
  },
  {
   "cell_type": "code",
   "execution_count": 87,
   "id": "1e42a222",
   "metadata": {},
   "outputs": [
    {
     "data": {
      "image/png": "[encoded data removed]",
      "text/plain": [
       "<Figure size 700x400 with 6 Axes>"
      ]
     },
     "metadata": {},
     "output_type": "display_data"
    }
   ],
   "source": [
    "# Visualizing Binary Features Counts\n",
    "fig, axs = plt.subplots(2,3)\n",
    "fig.suptitle('Binary Categorical Feature Counts')\n",
    "\n",
    "for i,feature in enumerate(BINARY_FEATURES):\n",
    "    x = 0 if i <= 2 else 1\n",
    "    y = i if i <= 2 else i-3\n",
    "    sns.countplot(ax=axs[x,y], x=feature, data=binary_df)   "
   ]
  },
  {
   "cell_type": "code",
   "execution_count": null,
   "id": "df3f16f2",
   "metadata": {},
   "outputs": [],
   "source": []
  },
  {
   "cell_type": "code",
   "execution_count": null,
   "id": "dd01ae81",
   "metadata": {},
   "outputs": [],
   "source": []
  },
  {
   "cell_type": "code",
   "execution_count": null,
   "id": "927f6642",
   "metadata": {},
   "outputs": [],
   "source": []
  },
  {
   "cell_type": "markdown",
   "id": "3eb04feb",
   "metadata": {},
   "source": [
    "#### 3.3 Nominal Categorical Features"
   ]
  },
  {
   "cell_type": "code",
   "execution_count": 88,
   "id": "f4b16901",
   "metadata": {},
   "outputs": [
    {
     "name": "stdout",
     "output_type": "stream",
     "text": [
      "['nationality', 'place_of_birth', 'stage_id', 'grade_id', 'section_id', 'topic']\n",
      "Total number of Nominal Categories: 6\n"
     ]
    }
   ],
   "source": [
    "# Nominal Features\n",
    "NOMINAL_FEATURES = list([category for category in CATEGORICAL_FEATURES if (len(data[category].unique())) != 2])\n",
    "print(NOMINAL_FEATURES )\n",
    "print(f'Total number of Nominal Categories: {len(NOMINAL_FEATURES)}')"
   ]
  },
  {
   "cell_type": "code",
   "execution_count": 89,
   "id": "6418d422",
   "metadata": {},
   "outputs": [
    {
     "data": {
      "text/html": [
       "<div>\n",
       "<style scoped>\n",
       "    .dataframe tbody tr th:only-of-type {\n",
       "        vertical-align: middle;\n",
       "    }\n",
       "\n",
       "    .dataframe tbody tr th {\n",
       "        vertical-align: top;\n",
       "    }\n",
       "\n",
       "    .dataframe thead th {\n",
       "        text-align: right;\n",
       "    }\n",
       "</style>\n",
       "<table border=\"1\" class=\"dataframe\">\n",
       "  <thead>\n",
       "    <tr style=\"text-align: right;\">\n",
       "      <th></th>\n",
       "      <th>nationality</th>\n",
       "      <th>place_of_birth</th>\n",
       "      <th>stage_id</th>\n",
       "      <th>grade_id</th>\n",
       "      <th>section_id</th>\n",
       "      <th>topic</th>\n",
       "    </tr>\n",
       "  </thead>\n",
       "  <tbody>\n",
       "    <tr>\n",
       "      <th>0</th>\n",
       "      <td>Kuwait</td>\n",
       "      <td>Kuwait</td>\n",
       "      <td>LowerLevel</td>\n",
       "      <td>G-04</td>\n",
       "      <td>A</td>\n",
       "      <td>IT</td>\n",
       "    </tr>\n",
       "    <tr>\n",
       "      <th>1</th>\n",
       "      <td>Kuwait</td>\n",
       "      <td>Kuwait</td>\n",
       "      <td>LowerLevel</td>\n",
       "      <td>G-04</td>\n",
       "      <td>A</td>\n",
       "      <td>IT</td>\n",
       "    </tr>\n",
       "    <tr>\n",
       "      <th>2</th>\n",
       "      <td>Kuwait</td>\n",
       "      <td>Kuwait</td>\n",
       "      <td>LowerLevel</td>\n",
       "      <td>G-04</td>\n",
       "      <td>A</td>\n",
       "      <td>IT</td>\n",
       "    </tr>\n",
       "    <tr>\n",
       "      <th>3</th>\n",
       "      <td>Kuwait</td>\n",
       "      <td>Kuwait</td>\n",
       "      <td>LowerLevel</td>\n",
       "      <td>G-04</td>\n",
       "      <td>A</td>\n",
       "      <td>IT</td>\n",
       "    </tr>\n",
       "    <tr>\n",
       "      <th>4</th>\n",
       "      <td>Kuwait</td>\n",
       "      <td>Kuwait</td>\n",
       "      <td>LowerLevel</td>\n",
       "      <td>G-04</td>\n",
       "      <td>A</td>\n",
       "      <td>IT</td>\n",
       "    </tr>\n",
       "  </tbody>\n",
       "</table>\n",
       "</div>"
      ],
      "text/plain": [
       "  nationality place_of_birth    stage_id grade_id section_id topic\n",
       "0      Kuwait         Kuwait  LowerLevel     G-04          A    IT\n",
       "1      Kuwait         Kuwait  LowerLevel     G-04          A    IT\n",
       "2      Kuwait         Kuwait  LowerLevel     G-04          A    IT\n",
       "3      Kuwait         Kuwait  LowerLevel     G-04          A    IT\n",
       "4      Kuwait         Kuwait  LowerLevel     G-04          A    IT"
      ]
     },
     "execution_count": 89,
     "metadata": {},
     "output_type": "execute_result"
    }
   ],
   "source": [
    "nominal_df = data[NOMINAL_FEATURES]\n",
    "nominal_df.head()"
   ]
  },
  {
   "cell_type": "code",
   "execution_count": 90,
   "id": "2d8ef0b9",
   "metadata": {},
   "outputs": [
    {
     "data": {
      "text/html": [
       "<div>\n",
       "<style scoped>\n",
       "    .dataframe tbody tr th:only-of-type {\n",
       "        vertical-align: middle;\n",
       "    }\n",
       "\n",
       "    .dataframe tbody tr th {\n",
       "        vertical-align: top;\n",
       "    }\n",
       "\n",
       "    .dataframe thead th {\n",
       "        text-align: right;\n",
       "    }\n",
       "</style>\n",
       "<table border=\"1\" class=\"dataframe\">\n",
       "  <thead>\n",
       "    <tr style=\"text-align: right;\">\n",
       "      <th></th>\n",
       "      <th>nationality</th>\n",
       "      <th>counts</th>\n",
       "      <th>probability</th>\n",
       "    </tr>\n",
       "  </thead>\n",
       "  <tbody>\n",
       "    <tr>\n",
       "      <th>0</th>\n",
       "      <td>Kuwait</td>\n",
       "      <td>179</td>\n",
       "      <td>0.374477</td>\n",
       "    </tr>\n",
       "    <tr>\n",
       "      <th>1</th>\n",
       "      <td>Lebanon</td>\n",
       "      <td>170</td>\n",
       "      <td>0.355649</td>\n",
       "    </tr>\n",
       "    <tr>\n",
       "      <th>2</th>\n",
       "      <td>Egypt</td>\n",
       "      <td>28</td>\n",
       "      <td>0.058577</td>\n",
       "    </tr>\n",
       "    <tr>\n",
       "      <th>3</th>\n",
       "      <td>SaudiArabia</td>\n",
       "      <td>22</td>\n",
       "      <td>0.046025</td>\n",
       "    </tr>\n",
       "    <tr>\n",
       "      <th>4</th>\n",
       "      <td>USA</td>\n",
       "      <td>17</td>\n",
       "      <td>0.035565</td>\n",
       "    </tr>\n",
       "    <tr>\n",
       "      <th>5</th>\n",
       "      <td>Jordan</td>\n",
       "      <td>12</td>\n",
       "      <td>0.025105</td>\n",
       "    </tr>\n",
       "    <tr>\n",
       "      <th>6</th>\n",
       "      <td>Venezuela</td>\n",
       "      <td>11</td>\n",
       "      <td>0.023013</td>\n",
       "    </tr>\n",
       "    <tr>\n",
       "      <th>7</th>\n",
       "      <td>Iran</td>\n",
       "      <td>9</td>\n",
       "      <td>0.018828</td>\n",
       "    </tr>\n",
       "    <tr>\n",
       "      <th>8</th>\n",
       "      <td>Tunis</td>\n",
       "      <td>7</td>\n",
       "      <td>0.014644</td>\n",
       "    </tr>\n",
       "    <tr>\n",
       "      <th>9</th>\n",
       "      <td>Morocco</td>\n",
       "      <td>6</td>\n",
       "      <td>0.012552</td>\n",
       "    </tr>\n",
       "    <tr>\n",
       "      <th>10</th>\n",
       "      <td>Syria</td>\n",
       "      <td>6</td>\n",
       "      <td>0.012552</td>\n",
       "    </tr>\n",
       "    <tr>\n",
       "      <th>11</th>\n",
       "      <td>Palestine</td>\n",
       "      <td>6</td>\n",
       "      <td>0.012552</td>\n",
       "    </tr>\n",
       "    <tr>\n",
       "      <th>12</th>\n",
       "      <td>Iraq</td>\n",
       "      <td>4</td>\n",
       "      <td>0.008368</td>\n",
       "    </tr>\n",
       "    <tr>\n",
       "      <th>13</th>\n",
       "      <td>Libya</td>\n",
       "      <td>1</td>\n",
       "      <td>0.002092</td>\n",
       "    </tr>\n",
       "  </tbody>\n",
       "</table>\n",
       "</div>"
      ],
      "text/plain": [
       "    nationality counts probability\n",
       "0        Kuwait    179    0.374477\n",
       "1       Lebanon    170    0.355649\n",
       "2         Egypt     28    0.058577\n",
       "3   SaudiArabia     22    0.046025\n",
       "4           USA     17    0.035565\n",
       "5        Jordan     12    0.025105\n",
       "6     Venezuela     11    0.023013\n",
       "7          Iran      9    0.018828\n",
       "8         Tunis      7    0.014644\n",
       "9       Morocco      6    0.012552\n",
       "10        Syria      6    0.012552\n",
       "11    Palestine      6    0.012552\n",
       "12         Iraq      4    0.008368\n",
       "13        Libya      1    0.002092"
      ]
     },
     "execution_count": 90,
     "metadata": {},
     "output_type": "execute_result"
    }
   ],
   "source": [
    "nationality_df = convert_to_df('nationality', nominal_df)\n",
    "nationality_df"
   ]
  },
  {
   "cell_type": "code",
   "execution_count": 91,
   "id": "795382e0",
   "metadata": {},
   "outputs": [
    {
     "data": {
      "text/html": [
       "<div>\n",
       "<style scoped>\n",
       "    .dataframe tbody tr th:only-of-type {\n",
       "        vertical-align: middle;\n",
       "    }\n",
       "\n",
       "    .dataframe tbody tr th {\n",
       "        vertical-align: top;\n",
       "    }\n",
       "\n",
       "    .dataframe thead th {\n",
       "        text-align: right;\n",
       "    }\n",
       "</style>\n",
       "<table border=\"1\" class=\"dataframe\">\n",
       "  <thead>\n",
       "    <tr style=\"text-align: right;\">\n",
       "      <th></th>\n",
       "      <th>place_of_birth</th>\n",
       "      <th>counts</th>\n",
       "      <th>probability</th>\n",
       "    </tr>\n",
       "  </thead>\n",
       "  <tbody>\n",
       "    <tr>\n",
       "      <th>0</th>\n",
       "      <td>Kuwait</td>\n",
       "      <td>180</td>\n",
       "      <td>0.376569</td>\n",
       "    </tr>\n",
       "    <tr>\n",
       "      <th>1</th>\n",
       "      <td>Lebanon</td>\n",
       "      <td>174</td>\n",
       "      <td>0.364017</td>\n",
       "    </tr>\n",
       "    <tr>\n",
       "      <th>2</th>\n",
       "      <td>Egypt</td>\n",
       "      <td>22</td>\n",
       "      <td>0.046025</td>\n",
       "    </tr>\n",
       "    <tr>\n",
       "      <th>3</th>\n",
       "      <td>SaudiArabia</td>\n",
       "      <td>19</td>\n",
       "      <td>0.039749</td>\n",
       "    </tr>\n",
       "    <tr>\n",
       "      <th>4</th>\n",
       "      <td>USA</td>\n",
       "      <td>16</td>\n",
       "      <td>0.033473</td>\n",
       "    </tr>\n",
       "    <tr>\n",
       "      <th>5</th>\n",
       "      <td>Jordan</td>\n",
       "      <td>16</td>\n",
       "      <td>0.033473</td>\n",
       "    </tr>\n",
       "    <tr>\n",
       "      <th>6</th>\n",
       "      <td>Venezuela</td>\n",
       "      <td>10</td>\n",
       "      <td>0.020921</td>\n",
       "    </tr>\n",
       "    <tr>\n",
       "      <th>7</th>\n",
       "      <td>Iran</td>\n",
       "      <td>9</td>\n",
       "      <td>0.018828</td>\n",
       "    </tr>\n",
       "    <tr>\n",
       "      <th>8</th>\n",
       "      <td>Tunis</td>\n",
       "      <td>9</td>\n",
       "      <td>0.018828</td>\n",
       "    </tr>\n",
       "    <tr>\n",
       "      <th>9</th>\n",
       "      <td>Morocco</td>\n",
       "      <td>6</td>\n",
       "      <td>0.012552</td>\n",
       "    </tr>\n",
       "    <tr>\n",
       "      <th>10</th>\n",
       "      <td>Syria</td>\n",
       "      <td>6</td>\n",
       "      <td>0.012552</td>\n",
       "    </tr>\n",
       "    <tr>\n",
       "      <th>11</th>\n",
       "      <td>Iraq</td>\n",
       "      <td>6</td>\n",
       "      <td>0.012552</td>\n",
       "    </tr>\n",
       "    <tr>\n",
       "      <th>12</th>\n",
       "      <td>Palestine</td>\n",
       "      <td>4</td>\n",
       "      <td>0.008368</td>\n",
       "    </tr>\n",
       "    <tr>\n",
       "      <th>13</th>\n",
       "      <td>Lybia</td>\n",
       "      <td>1</td>\n",
       "      <td>0.002092</td>\n",
       "    </tr>\n",
       "  </tbody>\n",
       "</table>\n",
       "</div>"
      ],
      "text/plain": [
       "   place_of_birth counts probability\n",
       "0          Kuwait    180    0.376569\n",
       "1         Lebanon    174    0.364017\n",
       "2           Egypt     22    0.046025\n",
       "3     SaudiArabia     19    0.039749\n",
       "4             USA     16    0.033473\n",
       "5          Jordan     16    0.033473\n",
       "6       Venezuela     10    0.020921\n",
       "7            Iran      9    0.018828\n",
       "8           Tunis      9    0.018828\n",
       "9         Morocco      6    0.012552\n",
       "10          Syria      6    0.012552\n",
       "11           Iraq      6    0.012552\n",
       "12      Palestine      4    0.008368\n",
       "13          Lybia      1    0.002092"
      ]
     },
     "execution_count": 91,
     "metadata": {},
     "output_type": "execute_result"
    }
   ],
   "source": [
    "placeof_birth_df = convert_to_df('place_of_birth', nominal_df)\n",
    "placeof_birth_df"
   ]
  },
  {
   "cell_type": "code",
   "execution_count": 92,
   "id": "1baa3704",
   "metadata": {},
   "outputs": [
    {
     "data": {
      "text/html": [
       "<div>\n",
       "<style scoped>\n",
       "    .dataframe tbody tr th:only-of-type {\n",
       "        vertical-align: middle;\n",
       "    }\n",
       "\n",
       "    .dataframe tbody tr th {\n",
       "        vertical-align: top;\n",
       "    }\n",
       "\n",
       "    .dataframe thead th {\n",
       "        text-align: right;\n",
       "    }\n",
       "</style>\n",
       "<table border=\"1\" class=\"dataframe\">\n",
       "  <thead>\n",
       "    <tr style=\"text-align: right;\">\n",
       "      <th></th>\n",
       "      <th>stage_id</th>\n",
       "      <th>counts</th>\n",
       "      <th>probability</th>\n",
       "    </tr>\n",
       "  </thead>\n",
       "  <tbody>\n",
       "    <tr>\n",
       "      <th>0</th>\n",
       "      <td>LowerLevel</td>\n",
       "      <td>248</td>\n",
       "      <td>0.518828</td>\n",
       "    </tr>\n",
       "    <tr>\n",
       "      <th>1</th>\n",
       "      <td>MiddleSchool</td>\n",
       "      <td>197</td>\n",
       "      <td>0.412134</td>\n",
       "    </tr>\n",
       "    <tr>\n",
       "      <th>2</th>\n",
       "      <td>HighSchool</td>\n",
       "      <td>33</td>\n",
       "      <td>0.069038</td>\n",
       "    </tr>\n",
       "  </tbody>\n",
       "</table>\n",
       "</div>"
      ],
      "text/plain": [
       "       stage_id counts probability\n",
       "0    LowerLevel    248    0.518828\n",
       "1  MiddleSchool    197    0.412134\n",
       "2    HighSchool     33    0.069038"
      ]
     },
     "execution_count": 92,
     "metadata": {},
     "output_type": "execute_result"
    }
   ],
   "source": [
    "stage_id_df = convert_to_df('stage_id', nominal_df)\n",
    "stage_id_df"
   ]
  },
  {
   "cell_type": "code",
   "execution_count": 93,
   "id": "84f9dbea",
   "metadata": {},
   "outputs": [
    {
     "data": {
      "text/html": [
       "<div>\n",
       "<style scoped>\n",
       "    .dataframe tbody tr th:only-of-type {\n",
       "        vertical-align: middle;\n",
       "    }\n",
       "\n",
       "    .dataframe tbody tr th {\n",
       "        vertical-align: top;\n",
       "    }\n",
       "\n",
       "    .dataframe thead th {\n",
       "        text-align: right;\n",
       "    }\n",
       "</style>\n",
       "<table border=\"1\" class=\"dataframe\">\n",
       "  <thead>\n",
       "    <tr style=\"text-align: right;\">\n",
       "      <th></th>\n",
       "      <th>grade_id</th>\n",
       "      <th>counts</th>\n",
       "      <th>probability</th>\n",
       "    </tr>\n",
       "  </thead>\n",
       "  <tbody>\n",
       "    <tr>\n",
       "      <th>0</th>\n",
       "      <td>G-04</td>\n",
       "      <td>145</td>\n",
       "      <td>0.303347</td>\n",
       "    </tr>\n",
       "    <tr>\n",
       "      <th>1</th>\n",
       "      <td>G-07</td>\n",
       "      <td>116</td>\n",
       "      <td>0.242678</td>\n",
       "    </tr>\n",
       "    <tr>\n",
       "      <th>2</th>\n",
       "      <td>G-08</td>\n",
       "      <td>101</td>\n",
       "      <td>0.211297</td>\n",
       "    </tr>\n",
       "    <tr>\n",
       "      <th>3</th>\n",
       "      <td>G-06</td>\n",
       "      <td>48</td>\n",
       "      <td>0.100418</td>\n",
       "    </tr>\n",
       "    <tr>\n",
       "      <th>4</th>\n",
       "      <td>G-05</td>\n",
       "      <td>32</td>\n",
       "      <td>0.066946</td>\n",
       "    </tr>\n",
       "    <tr>\n",
       "      <th>5</th>\n",
       "      <td>G-09</td>\n",
       "      <td>13</td>\n",
       "      <td>0.027197</td>\n",
       "    </tr>\n",
       "    <tr>\n",
       "      <th>6</th>\n",
       "      <td>G-12</td>\n",
       "      <td>11</td>\n",
       "      <td>0.023013</td>\n",
       "    </tr>\n",
       "    <tr>\n",
       "      <th>7</th>\n",
       "      <td>G-11</td>\n",
       "      <td>5</td>\n",
       "      <td>0.01046</td>\n",
       "    </tr>\n",
       "    <tr>\n",
       "      <th>8</th>\n",
       "      <td>G-10</td>\n",
       "      <td>4</td>\n",
       "      <td>0.008368</td>\n",
       "    </tr>\n",
       "    <tr>\n",
       "      <th>9</th>\n",
       "      <td>G-02</td>\n",
       "      <td>3</td>\n",
       "      <td>0.006276</td>\n",
       "    </tr>\n",
       "  </tbody>\n",
       "</table>\n",
       "</div>"
      ],
      "text/plain": [
       "  grade_id counts probability\n",
       "0     G-04    145    0.303347\n",
       "1     G-07    116    0.242678\n",
       "2     G-08    101    0.211297\n",
       "3     G-06     48    0.100418\n",
       "4     G-05     32    0.066946\n",
       "5     G-09     13    0.027197\n",
       "6     G-12     11    0.023013\n",
       "7     G-11      5     0.01046\n",
       "8     G-10      4    0.008368\n",
       "9     G-02      3    0.006276"
      ]
     },
     "execution_count": 93,
     "metadata": {},
     "output_type": "execute_result"
    }
   ],
   "source": [
    "grade_id_df = convert_to_df('grade_id', nominal_df)\n",
    "grade_id_df"
   ]
  },
  {
   "cell_type": "code",
   "execution_count": 94,
   "id": "c84bceae",
   "metadata": {},
   "outputs": [
    {
     "data": {
      "text/html": [
       "<div>\n",
       "<style scoped>\n",
       "    .dataframe tbody tr th:only-of-type {\n",
       "        vertical-align: middle;\n",
       "    }\n",
       "\n",
       "    .dataframe tbody tr th {\n",
       "        vertical-align: top;\n",
       "    }\n",
       "\n",
       "    .dataframe thead th {\n",
       "        text-align: right;\n",
       "    }\n",
       "</style>\n",
       "<table border=\"1\" class=\"dataframe\">\n",
       "  <thead>\n",
       "    <tr style=\"text-align: right;\">\n",
       "      <th></th>\n",
       "      <th>section_id</th>\n",
       "      <th>counts</th>\n",
       "      <th>probability</th>\n",
       "    </tr>\n",
       "  </thead>\n",
       "  <tbody>\n",
       "    <tr>\n",
       "      <th>0</th>\n",
       "      <td>A</td>\n",
       "      <td>281</td>\n",
       "      <td>0.587866</td>\n",
       "    </tr>\n",
       "    <tr>\n",
       "      <th>1</th>\n",
       "      <td>B</td>\n",
       "      <td>167</td>\n",
       "      <td>0.349372</td>\n",
       "    </tr>\n",
       "    <tr>\n",
       "      <th>2</th>\n",
       "      <td>C</td>\n",
       "      <td>30</td>\n",
       "      <td>0.062762</td>\n",
       "    </tr>\n",
       "  </tbody>\n",
       "</table>\n",
       "</div>"
      ],
      "text/plain": [
       "  section_id counts probability\n",
       "0          A    281    0.587866\n",
       "1          B    167    0.349372\n",
       "2          C     30    0.062762"
      ]
     },
     "execution_count": 94,
     "metadata": {},
     "output_type": "execute_result"
    }
   ],
   "source": [
    "section_id_df = convert_to_df('section_id', nominal_df)\n",
    "section_id_df"
   ]
  },
  {
   "cell_type": "code",
   "execution_count": 95,
   "id": "7ad0ffc6",
   "metadata": {},
   "outputs": [
    {
     "data": {
      "text/html": [
       "<div>\n",
       "<style scoped>\n",
       "    .dataframe tbody tr th:only-of-type {\n",
       "        vertical-align: middle;\n",
       "    }\n",
       "\n",
       "    .dataframe tbody tr th {\n",
       "        vertical-align: top;\n",
       "    }\n",
       "\n",
       "    .dataframe thead th {\n",
       "        text-align: right;\n",
       "    }\n",
       "</style>\n",
       "<table border=\"1\" class=\"dataframe\">\n",
       "  <thead>\n",
       "    <tr style=\"text-align: right;\">\n",
       "      <th></th>\n",
       "      <th>topic</th>\n",
       "      <th>counts</th>\n",
       "      <th>probability</th>\n",
       "    </tr>\n",
       "  </thead>\n",
       "  <tbody>\n",
       "    <tr>\n",
       "      <th>0</th>\n",
       "      <td>IT</td>\n",
       "      <td>95</td>\n",
       "      <td>0.198745</td>\n",
       "    </tr>\n",
       "    <tr>\n",
       "      <th>1</th>\n",
       "      <td>Math</td>\n",
       "      <td>63</td>\n",
       "      <td>0.131799</td>\n",
       "    </tr>\n",
       "    <tr>\n",
       "      <th>2</th>\n",
       "      <td>Arabic</td>\n",
       "      <td>59</td>\n",
       "      <td>0.123431</td>\n",
       "    </tr>\n",
       "    <tr>\n",
       "      <th>3</th>\n",
       "      <td>Science</td>\n",
       "      <td>51</td>\n",
       "      <td>0.106695</td>\n",
       "    </tr>\n",
       "    <tr>\n",
       "      <th>4</th>\n",
       "      <td>English</td>\n",
       "      <td>45</td>\n",
       "      <td>0.094142</td>\n",
       "    </tr>\n",
       "    <tr>\n",
       "      <th>5</th>\n",
       "      <td>Quran</td>\n",
       "      <td>30</td>\n",
       "      <td>0.062762</td>\n",
       "    </tr>\n",
       "    <tr>\n",
       "      <th>6</th>\n",
       "      <td>Spanish</td>\n",
       "      <td>25</td>\n",
       "      <td>0.052301</td>\n",
       "    </tr>\n",
       "    <tr>\n",
       "      <th>7</th>\n",
       "      <td>French</td>\n",
       "      <td>24</td>\n",
       "      <td>0.050209</td>\n",
       "    </tr>\n",
       "    <tr>\n",
       "      <th>8</th>\n",
       "      <td>History</td>\n",
       "      <td>24</td>\n",
       "      <td>0.050209</td>\n",
       "    </tr>\n",
       "    <tr>\n",
       "      <th>9</th>\n",
       "      <td>Biology</td>\n",
       "      <td>22</td>\n",
       "      <td>0.046025</td>\n",
       "    </tr>\n",
       "    <tr>\n",
       "      <th>10</th>\n",
       "      <td>Chemistry</td>\n",
       "      <td>21</td>\n",
       "      <td>0.043933</td>\n",
       "    </tr>\n",
       "    <tr>\n",
       "      <th>11</th>\n",
       "      <td>Geology</td>\n",
       "      <td>19</td>\n",
       "      <td>0.039749</td>\n",
       "    </tr>\n",
       "  </tbody>\n",
       "</table>\n",
       "</div>"
      ],
      "text/plain": [
       "        topic counts probability\n",
       "0          IT     95    0.198745\n",
       "1        Math     63    0.131799\n",
       "2      Arabic     59    0.123431\n",
       "3     Science     51    0.106695\n",
       "4     English     45    0.094142\n",
       "5       Quran     30    0.062762\n",
       "6     Spanish     25    0.052301\n",
       "7      French     24    0.050209\n",
       "8     History     24    0.050209\n",
       "9     Biology     22    0.046025\n",
       "10  Chemistry     21    0.043933\n",
       "11    Geology     19    0.039749"
      ]
     },
     "execution_count": 95,
     "metadata": {},
     "output_type": "execute_result"
    }
   ],
   "source": [
    "topic_df = convert_to_df('topic', nominal_df)\n",
    "topic_df"
   ]
  },
  {
   "cell_type": "markdown",
   "id": "17cedb1d",
   "metadata": {},
   "source": [
    "**stage_id'** and **'section_id'** have low nominal values but **'nationality'**, **'placeof_birth'**,**'grade_id'** and **'topic'** have high cardinality and also rare lables."
   ]
  },
  {
   "cell_type": "markdown",
   "id": "b44d5467",
   "metadata": {},
   "source": [
    "#### 3.4 Nominal Categorical Feature plots"
   ]
  },
  {
   "cell_type": "markdown",
   "id": "50765a70",
   "metadata": {},
   "source": [
    "First we plot low cardinalty data."
   ]
  },
  {
   "cell_type": "code",
   "execution_count": 96,
   "id": "24684af9",
   "metadata": {},
   "outputs": [],
   "source": [
    "plt.rcParams[\"figure.figsize\"] = [7.00, 4.00]"
   ]
  },
  {
   "cell_type": "code",
   "execution_count": 97,
   "id": "bdd052fa",
   "metadata": {},
   "outputs": [
    {
     "data": {
      "image/png": "[encoded data removed]",
      "text/plain": [
       "<Figure size 700x400 with 2 Axes>"
      ]
     },
     "metadata": {},
     "output_type": "display_data"
    }
   ],
   "source": [
    "# Visualizing Binary Features Counts\n",
    "fig, axs = plt.subplots(2)\n",
    "fig.suptitle('Binary Categorical Feature Counts')\n",
    "\n",
    "sns.countplot(ax=axs[0], y='stage_id', data=nominal_df)\n",
    "sns.countplot(ax=axs[1], y='section_id', data=nominal_df);"
   ]
  },
  {
   "cell_type": "code",
   "execution_count": 98,
   "id": "0f95bcf4",
   "metadata": {},
   "outputs": [],
   "source": [
    "# TODO Write description of the data\n",
    "# TODO Normalize"
   ]
  },
  {
   "cell_type": "code",
   "execution_count": 99,
   "id": "cfbde57f",
   "metadata": {},
   "outputs": [
    {
     "data": {
      "image/png": "[encoded data removed]",
      "text/plain": [
       "<Figure size 700x400 with 1 Axes>"
      ]
     },
     "metadata": {},
     "output_type": "display_data"
    }
   ],
   "source": [
    "sns.countplot(y='nationality', data=nominal_df);"
   ]
  },
  {
   "cell_type": "code",
   "execution_count": 100,
   "id": "1fb12279",
   "metadata": {},
   "outputs": [],
   "source": [
    "# TODO Write description of the data\n",
    "# TODO Normalize"
   ]
  },
  {
   "cell_type": "code",
   "execution_count": 101,
   "id": "d0516b42",
   "metadata": {},
   "outputs": [
    {
     "data": {
      "image/png": "[encoded data removed]",
      "text/plain": [
       "<Figure size 700x400 with 1 Axes>"
      ]
     },
     "metadata": {},
     "output_type": "display_data"
    }
   ],
   "source": [
    "sns.countplot(y='place_of_birth', data=nominal_df);"
   ]
  },
  {
   "cell_type": "code",
   "execution_count": 102,
   "id": "a5964a44",
   "metadata": {},
   "outputs": [],
   "source": [
    "# TODO Write description of the data\n",
    "# TODO Normalize"
   ]
  },
  {
   "cell_type": "code",
   "execution_count": 103,
   "id": "6650e937",
   "metadata": {},
   "outputs": [
    {
     "data": {
      "image/png": "[encoded data removed]",
      "text/plain": [
       "<Figure size 700x400 with 1 Axes>"
      ]
     },
     "metadata": {},
     "output_type": "display_data"
    }
   ],
   "source": [
    "sns.countplot(y='grade_id', data=nominal_df);"
   ]
  },
  {
   "cell_type": "code",
   "execution_count": 104,
   "id": "9561d877",
   "metadata": {},
   "outputs": [],
   "source": [
    "# TODO Write description of the data\n",
    "# TODO Normalize"
   ]
  },
  {
   "cell_type": "code",
   "execution_count": 105,
   "id": "c80248f2",
   "metadata": {},
   "outputs": [
    {
     "data": {
      "image/png": "[encoded data removed]",
      "text/plain": [
       "<Figure size 700x400 with 1 Axes>"
      ]
     },
     "metadata": {},
     "output_type": "display_data"
    }
   ],
   "source": [
    "sns.countplot(y='topic', data=nominal_df);"
   ]
  },
  {
   "cell_type": "code",
   "execution_count": 106,
   "id": "43f2fe5a",
   "metadata": {},
   "outputs": [],
   "source": [
    "# TODO Write description of the data\n",
    "# TODO Normalize"
   ]
  },
  {
   "cell_type": "markdown",
   "id": "f289da49",
   "metadata": {},
   "source": [
    "### 4. Visualize Target Data."
   ]
  },
  {
   "cell_type": "code",
   "execution_count": 107,
   "id": "027bc279",
   "metadata": {},
   "outputs": [
    {
     "data": {
      "text/html": [
       "<div>\n",
       "<style scoped>\n",
       "    .dataframe tbody tr th:only-of-type {\n",
       "        vertical-align: middle;\n",
       "    }\n",
       "\n",
       "    .dataframe tbody tr th {\n",
       "        vertical-align: top;\n",
       "    }\n",
       "\n",
       "    .dataframe thead th {\n",
       "        text-align: right;\n",
       "    }\n",
       "</style>\n",
       "<table border=\"1\" class=\"dataframe\">\n",
       "  <thead>\n",
       "    <tr style=\"text-align: right;\">\n",
       "      <th></th>\n",
       "      <th>class</th>\n",
       "      <th>counts</th>\n",
       "      <th>probability</th>\n",
       "    </tr>\n",
       "  </thead>\n",
       "  <tbody>\n",
       "    <tr>\n",
       "      <th>0</th>\n",
       "      <td>M</td>\n",
       "      <td>211</td>\n",
       "      <td>0.441423</td>\n",
       "    </tr>\n",
       "    <tr>\n",
       "      <th>1</th>\n",
       "      <td>L</td>\n",
       "      <td>142</td>\n",
       "      <td>0.297071</td>\n",
       "    </tr>\n",
       "    <tr>\n",
       "      <th>2</th>\n",
       "      <td>H</td>\n",
       "      <td>125</td>\n",
       "      <td>0.261506</td>\n",
       "    </tr>\n",
       "  </tbody>\n",
       "</table>\n",
       "</div>"
      ],
      "text/plain": [
       "  class counts probability\n",
       "0     M    211    0.441423\n",
       "1     L    142    0.297071\n",
       "2     H    125    0.261506"
      ]
     },
     "execution_count": 107,
     "metadata": {},
     "output_type": "execute_result"
    }
   ],
   "source": [
    "target_df = convert_to_df(TARGET, data)\n",
    "target_df"
   ]
  },
  {
   "cell_type": "code",
   "execution_count": 108,
   "id": "347e6053",
   "metadata": {},
   "outputs": [
    {
     "data": {
      "image/png": "[encoded data removed]",
      "text/plain": [
       "<Figure size 700x400 with 1 Axes>"
      ]
     },
     "metadata": {},
     "output_type": "display_data"
    }
   ],
   "source": [
    "sns.countplot(y=TARGET, data=data);"
   ]
  },
  {
   "cell_type": "code",
   "execution_count": null,
   "id": "eb6ab867",
   "metadata": {},
   "outputs": [],
   "source": []
  },
  {
   "cell_type": "code",
   "execution_count": null,
   "id": "4da9f7ee",
   "metadata": {},
   "outputs": [],
   "source": []
  }
 ],
 "metadata": {
  "kernelspec": {
   "display_name": "Python 3",
   "language": "python",
   "name": "python3"
  },
  "language_info": {
   "codemirror_mode": {
    "name": "ipython",
    "version": 3
   },
   "file_extension": ".py",
   "mimetype": "text/x-python",
   "name": "python",
   "nbconvert_exporter": "python",
   "pygments_lexer": "ipython3",
   "version": "3.8.12"
  }
 },
 "nbformat": 4,
 "nbformat_minor": 5
}
