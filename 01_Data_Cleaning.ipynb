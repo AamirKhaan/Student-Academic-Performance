{
 "cells": [
  {
   "cell_type": "markdown",
   "id": "4b03bd46",
   "metadata": {},
   "source": [
    "<a href=\"https://colab.research.google.com/github/AamirKhaan/Student-Academic-Performance/blob/master/01_Data_Cleaning.ipynb\" target=\"_parent\"><img src=\"https://colab.research.google.com/assets/colab-badge.svg\" alt=\"Open In Colab\"/></a>"
   ]
  },
  {
   "cell_type": "markdown",
   "id": "88b085b9",
   "metadata": {},
   "source": [
    "<h1 style=\"background-color:Aqua; padding:20px; border-radius:10px\">Data Cleaning </h1>"
   ]
  },
  {
   "cell_type": "markdown",
   "id": "be338444",
   "metadata": {},
   "source": [
    "## Overview      \n",
    "<div style=\"background-color:Gainsboro; padding:20px; text-align:justify; font-weight: bold\">\n",
    "    <p>In this notebook we perfom following tasks </p>\n",
    "    <ol>\n",
    "        <li>Import Data</li>\n",
    "        <li>Handle Missing Values</li>\n",
    "        <li>Clean Categorical Data</li>\n",
    "        <li>Clean Numerical Data</li>\n",
    "        <li>Optimize Data for Memory</li>\n",
    "        <li>Save Cleaned Data</li>\n",
    "    </ol>\n",
    "</div>"
   ]
  },
  {
   "cell_type": "markdown",
   "id": "2523b32a",
   "metadata": {},
   "source": [
    "### Standard Imports"
   ]
  },
  {
   "cell_type": "code",
   "execution_count": null,
   "id": "ed4f97cc",
   "metadata": {},
   "outputs": [],
   "source": [
    "# Run this cell working in colab\n",
    "!pip install klib"
   ]
  },
  {
   "cell_type": "code",
   "execution_count": 1,
   "id": "73fdff66",
   "metadata": {},
   "outputs": [],
   "source": [
    "import numpy as np\n",
    "import pandas as pd\n",
    "import klib as kl"
   ]
  },
  {
   "cell_type": "code",
   "execution_count": 2,
   "id": "a0199d46",
   "metadata": {},
   "outputs": [
    {
     "name": "stdout",
     "output_type": "stream",
     "text": [
      "Pretty printing has been turned OFF\n"
     ]
    }
   ],
   "source": [
    "# Jupyter Noteboook Configurations (personal prefrences)\n",
    "# Ignore warnings\n",
    "import warnings\n",
    "warnings.filterwarnings('ignore')\n",
    "%pprint"
   ]
  },
  {
   "cell_type": "markdown",
   "id": "052e6699",
   "metadata": {},
   "source": [
    "### 1. Import Data."
   ]
  },
  {
   "cell_type": "code",
   "execution_count": 3,
   "id": "6533d84e",
   "metadata": {},
   "outputs": [],
   "source": [
    "# Import the Student's data from local storage\n",
    "# ! Dont' run the cell in colab\n",
    "data = pd.read_csv('./data/xAPI-Edu-Data.csv')"
   ]
  },
  {
   "cell_type": "code",
   "execution_count": 4,
   "id": "5a27f7bc",
   "metadata": {},
   "outputs": [],
   "source": [
    "# Import the Student's data from github storage\n",
    "# Run only in colab\n",
    "url = 'https://raw.githubusercontent.com/AamirKhaan/Student-Academic-Performance/main/data/xAPI-Edu-Data.csv'\n",
    "data = pd.read_csv(url)"
   ]
  },
  {
   "cell_type": "code",
   "execution_count": 5,
   "id": "87f2deca",
   "metadata": {},
   "outputs": [
    {
     "data": {
      "text/html": [
       "<div>\n",
       "<style scoped>\n",
       "    .dataframe tbody tr th:only-of-type {\n",
       "        vertical-align: middle;\n",
       "    }\n",
       "\n",
       "    .dataframe tbody tr th {\n",
       "        vertical-align: top;\n",
       "    }\n",
       "\n",
       "    .dataframe thead th {\n",
       "        text-align: right;\n",
       "    }\n",
       "</style>\n",
       "<table border=\"1\" class=\"dataframe\">\n",
       "  <thead>\n",
       "    <tr style=\"text-align: right;\">\n",
       "      <th></th>\n",
       "      <th>gender</th>\n",
       "      <th>NationalITy</th>\n",
       "      <th>PlaceofBirth</th>\n",
       "      <th>StageID</th>\n",
       "      <th>GradeID</th>\n",
       "      <th>SectionID</th>\n",
       "      <th>Topic</th>\n",
       "      <th>Semester</th>\n",
       "      <th>Relation</th>\n",
       "      <th>raisedhands</th>\n",
       "      <th>VisITedResources</th>\n",
       "      <th>AnnouncementsView</th>\n",
       "      <th>Discussion</th>\n",
       "      <th>ParentAnsweringSurvey</th>\n",
       "      <th>ParentschoolSatisfaction</th>\n",
       "      <th>StudentAbsenceDays</th>\n",
       "      <th>Class</th>\n",
       "    </tr>\n",
       "  </thead>\n",
       "  <tbody>\n",
       "    <tr>\n",
       "      <th>0</th>\n",
       "      <td>M</td>\n",
       "      <td>KW</td>\n",
       "      <td>KuwaIT</td>\n",
       "      <td>lowerlevel</td>\n",
       "      <td>G-04</td>\n",
       "      <td>A</td>\n",
       "      <td>IT</td>\n",
       "      <td>F</td>\n",
       "      <td>Father</td>\n",
       "      <td>15</td>\n",
       "      <td>16</td>\n",
       "      <td>2</td>\n",
       "      <td>20</td>\n",
       "      <td>Yes</td>\n",
       "      <td>Good</td>\n",
       "      <td>Under-7</td>\n",
       "      <td>M</td>\n",
       "    </tr>\n",
       "    <tr>\n",
       "      <th>1</th>\n",
       "      <td>M</td>\n",
       "      <td>KW</td>\n",
       "      <td>KuwaIT</td>\n",
       "      <td>lowerlevel</td>\n",
       "      <td>G-04</td>\n",
       "      <td>A</td>\n",
       "      <td>IT</td>\n",
       "      <td>F</td>\n",
       "      <td>Father</td>\n",
       "      <td>20</td>\n",
       "      <td>20</td>\n",
       "      <td>3</td>\n",
       "      <td>25</td>\n",
       "      <td>Yes</td>\n",
       "      <td>Good</td>\n",
       "      <td>Under-7</td>\n",
       "      <td>M</td>\n",
       "    </tr>\n",
       "    <tr>\n",
       "      <th>2</th>\n",
       "      <td>M</td>\n",
       "      <td>KW</td>\n",
       "      <td>KuwaIT</td>\n",
       "      <td>lowerlevel</td>\n",
       "      <td>G-04</td>\n",
       "      <td>A</td>\n",
       "      <td>IT</td>\n",
       "      <td>F</td>\n",
       "      <td>Father</td>\n",
       "      <td>10</td>\n",
       "      <td>7</td>\n",
       "      <td>0</td>\n",
       "      <td>30</td>\n",
       "      <td>No</td>\n",
       "      <td>Bad</td>\n",
       "      <td>Above-7</td>\n",
       "      <td>L</td>\n",
       "    </tr>\n",
       "    <tr>\n",
       "      <th>3</th>\n",
       "      <td>M</td>\n",
       "      <td>KW</td>\n",
       "      <td>KuwaIT</td>\n",
       "      <td>lowerlevel</td>\n",
       "      <td>G-04</td>\n",
       "      <td>A</td>\n",
       "      <td>IT</td>\n",
       "      <td>F</td>\n",
       "      <td>Father</td>\n",
       "      <td>30</td>\n",
       "      <td>25</td>\n",
       "      <td>5</td>\n",
       "      <td>35</td>\n",
       "      <td>No</td>\n",
       "      <td>Bad</td>\n",
       "      <td>Above-7</td>\n",
       "      <td>L</td>\n",
       "    </tr>\n",
       "    <tr>\n",
       "      <th>4</th>\n",
       "      <td>M</td>\n",
       "      <td>KW</td>\n",
       "      <td>KuwaIT</td>\n",
       "      <td>lowerlevel</td>\n",
       "      <td>G-04</td>\n",
       "      <td>A</td>\n",
       "      <td>IT</td>\n",
       "      <td>F</td>\n",
       "      <td>Father</td>\n",
       "      <td>40</td>\n",
       "      <td>50</td>\n",
       "      <td>12</td>\n",
       "      <td>50</td>\n",
       "      <td>No</td>\n",
       "      <td>Bad</td>\n",
       "      <td>Above-7</td>\n",
       "      <td>M</td>\n",
       "    </tr>\n",
       "  </tbody>\n",
       "</table>\n",
       "</div>"
      ],
      "text/plain": [
       "  gender NationalITy PlaceofBirth     StageID GradeID SectionID Topic  \\\n",
       "0      M          KW       KuwaIT  lowerlevel    G-04         A    IT   \n",
       "1      M          KW       KuwaIT  lowerlevel    G-04         A    IT   \n",
       "2      M          KW       KuwaIT  lowerlevel    G-04         A    IT   \n",
       "3      M          KW       KuwaIT  lowerlevel    G-04         A    IT   \n",
       "4      M          KW       KuwaIT  lowerlevel    G-04         A    IT   \n",
       "\n",
       "  Semester Relation  raisedhands  VisITedResources  AnnouncementsView  \\\n",
       "0        F   Father           15                16                  2   \n",
       "1        F   Father           20                20                  3   \n",
       "2        F   Father           10                 7                  0   \n",
       "3        F   Father           30                25                  5   \n",
       "4        F   Father           40                50                 12   \n",
       "\n",
       "   Discussion ParentAnsweringSurvey ParentschoolSatisfaction  \\\n",
       "0          20                   Yes                     Good   \n",
       "1          25                   Yes                     Good   \n",
       "2          30                    No                      Bad   \n",
       "3          35                    No                      Bad   \n",
       "4          50                    No                      Bad   \n",
       "\n",
       "  StudentAbsenceDays Class  \n",
       "0            Under-7     M  \n",
       "1            Under-7     M  \n",
       "2            Above-7     L  \n",
       "3            Above-7     L  \n",
       "4            Above-7     M  "
      ]
     },
     "execution_count": 5,
     "metadata": {},
     "output_type": "execute_result"
    }
   ],
   "source": [
    "# Cheack the data is properly loaded\n",
    "data.head()"
   ]
  },
  {
   "cell_type": "code",
   "execution_count": 6,
   "id": "601bef9c",
   "metadata": {},
   "outputs": [
    {
     "name": "stdout",
     "output_type": "stream",
     "text": [
      "<class 'pandas.core.frame.DataFrame'>\n",
      "RangeIndex: 480 entries, 0 to 479\n",
      "Data columns (total 17 columns):\n",
      " #   Column                    Non-Null Count  Dtype \n",
      "---  ------                    --------------  ----- \n",
      " 0   gender                    480 non-null    object\n",
      " 1   NationalITy               480 non-null    object\n",
      " 2   PlaceofBirth              480 non-null    object\n",
      " 3   StageID                   480 non-null    object\n",
      " 4   GradeID                   480 non-null    object\n",
      " 5   SectionID                 480 non-null    object\n",
      " 6   Topic                     480 non-null    object\n",
      " 7   Semester                  480 non-null    object\n",
      " 8   Relation                  480 non-null    object\n",
      " 9   raisedhands               480 non-null    int64 \n",
      " 10  VisITedResources          480 non-null    int64 \n",
      " 11  AnnouncementsView         480 non-null    int64 \n",
      " 12  Discussion                480 non-null    int64 \n",
      " 13  ParentAnsweringSurvey     480 non-null    object\n",
      " 14  ParentschoolSatisfaction  480 non-null    object\n",
      " 15  StudentAbsenceDays        480 non-null    object\n",
      " 16  Class                     480 non-null    object\n",
      "dtypes: int64(4), object(13)\n",
      "memory usage: 63.9+ KB\n"
     ]
    }
   ],
   "source": [
    "# Data Characteristics\n",
    "data.info()"
   ]
  },
  {
   "cell_type": "markdown",
   "id": "89bce880",
   "metadata": {},
   "source": [
    "<p style=\"background-color:Gainsboro; padding:20px; text-align:justify; font-weight: bold\">\n",
    "The spelling of some feature names can be adjusted for uniformaty.\n",
    "</p>"
   ]
  },
  {
   "cell_type": "code",
   "execution_count": 7,
   "id": "0c29bf06",
   "metadata": {},
   "outputs": [],
   "source": [
    "# Clean the feature name labels.\n",
    "data.rename(columns={\n",
    "    'gender' : 'Gender',\n",
    "    'NationalITy' :'Nationality',\n",
    "    'raisedhands' : 'RaisedHands',\n",
    "    'VisITedResources' :'VisitedResources',\n",
    "    'ParentschoolSatisfaction':'ParentSchoolSatisfaction',\n",
    "    'PlaceofBirth':'PlaceOfBirth'\n",
    "}, inplace = True)"
   ]
  },
  {
   "cell_type": "code",
   "execution_count": 8,
   "id": "a05d3d28",
   "metadata": {},
   "outputs": [
    {
     "name": "stdout",
     "output_type": "stream",
     "text": [
      "<class 'pandas.core.frame.DataFrame'>\n",
      "RangeIndex: 480 entries, 0 to 479\n",
      "Data columns (total 17 columns):\n",
      " #   Column                    Non-Null Count  Dtype \n",
      "---  ------                    --------------  ----- \n",
      " 0   Gender                    480 non-null    object\n",
      " 1   Nationality               480 non-null    object\n",
      " 2   PlaceOfBirth              480 non-null    object\n",
      " 3   StageID                   480 non-null    object\n",
      " 4   GradeID                   480 non-null    object\n",
      " 5   SectionID                 480 non-null    object\n",
      " 6   Topic                     480 non-null    object\n",
      " 7   Semester                  480 non-null    object\n",
      " 8   Relation                  480 non-null    object\n",
      " 9   RaisedHands               480 non-null    int64 \n",
      " 10  VisitedResources          480 non-null    int64 \n",
      " 11  AnnouncementsView         480 non-null    int64 \n",
      " 12  Discussion                480 non-null    int64 \n",
      " 13  ParentAnsweringSurvey     480 non-null    object\n",
      " 14  ParentSchoolSatisfaction  480 non-null    object\n",
      " 15  StudentAbsenceDays        480 non-null    object\n",
      " 16  Class                     480 non-null    object\n",
      "dtypes: int64(4), object(13)\n",
      "memory usage: 63.9+ KB\n"
     ]
    }
   ],
   "source": [
    "# Check the Data Characteristics again\n",
    "data.info()"
   ]
  },
  {
   "cell_type": "markdown",
   "id": "d6937bfd",
   "metadata": {},
   "source": [
    "### 2. Handle Missing Values"
   ]
  },
  {
   "cell_type": "code",
   "execution_count": 9,
   "id": "3a888af5",
   "metadata": {},
   "outputs": [
    {
     "data": {
      "text/plain": [
       "Gender                      0\n",
       "Nationality                 0\n",
       "PlaceOfBirth                0\n",
       "StageID                     0\n",
       "GradeID                     0\n",
       "SectionID                   0\n",
       "Topic                       0\n",
       "Semester                    0\n",
       "Relation                    0\n",
       "RaisedHands                 0\n",
       "VisitedResources            0\n",
       "AnnouncementsView           0\n",
       "Discussion                  0\n",
       "ParentAnsweringSurvey       0\n",
       "ParentSchoolSatisfaction    0\n",
       "StudentAbsenceDays          0\n",
       "Class                       0\n",
       "dtype: int64"
      ]
     },
     "execution_count": 9,
     "metadata": {},
     "output_type": "execute_result"
    }
   ],
   "source": [
    "# Check for missing data\n",
    "data.isna().sum()"
   ]
  },
  {
   "cell_type": "markdown",
   "id": "0011b01e",
   "metadata": {},
   "source": [
    "<p style=\"background-color:Gainsboro; padding:20px; text-align:justify; font-size: 110%\">\n",
    "The result of <strong>data.isna().sum()</strong> shows there is no missing values in any of the columns.\n",
    "</p>"
   ]
  },
  {
   "cell_type": "markdown",
   "id": "c2de86e9",
   "metadata": {},
   "source": [
    "### 3. Clean Categorical Data"
   ]
  },
  {
   "cell_type": "code",
   "execution_count": 10,
   "id": "0dc5dc29",
   "metadata": {},
   "outputs": [
    {
     "data": {
      "text/plain": [
       "['Gender', 'Nationality', 'PlaceOfBirth', 'StageID', 'GradeID', 'SectionID', 'Topic', 'Semester', 'Relation', 'ParentAnsweringSurvey', 'ParentSchoolSatisfaction', 'StudentAbsenceDays']"
      ]
     },
     "execution_count": 10,
     "metadata": {},
     "output_type": "execute_result"
    }
   ],
   "source": [
    "CATEGORICAL_FEATURES = list([column for column in data.columns if data.dtypes[column] == 'object'])[:-1]\n",
    "CATEGORICAL_FEATURES"
   ]
  },
  {
   "cell_type": "code",
   "execution_count": 11,
   "id": "13785069",
   "metadata": {},
   "outputs": [],
   "source": [
    "TARGET = 'Class'"
   ]
  },
  {
   "cell_type": "code",
   "execution_count": 12,
   "id": "1360fcc1",
   "metadata": {},
   "outputs": [
    {
     "name": "stdout",
     "output_type": "stream",
     "text": [
      "Total Number for Categorical Feature : 12\n",
      "1 Gender\n",
      "2 Nationality\n",
      "3 PlaceOfBirth\n",
      "4 StageID\n",
      "5 GradeID\n",
      "6 SectionID\n",
      "7 Topic\n",
      "8 Semester\n",
      "9 Relation\n",
      "10 ParentAnsweringSurvey\n",
      "11 ParentSchoolSatisfaction\n",
      "12 StudentAbsenceDays\n"
     ]
    }
   ],
   "source": [
    "# Categorical Featutes\n",
    "print(f'Total Number for Categorical Feature : {len(CATEGORICAL_FEATURES)}')\n",
    "for i,feature in enumerate(CATEGORICAL_FEATURES):\n",
    "    print((i+1),feature)"
   ]
  },
  {
   "cell_type": "code",
   "execution_count": 13,
   "id": "3c82d48b",
   "metadata": {},
   "outputs": [
    {
     "name": "stdout",
     "output_type": "stream",
     "text": [
      "1. Gender: 2 unique labels. \n",
      " ['M' 'F'] \n",
      "\n",
      "2. Nationality: 14 unique labels. \n",
      " ['KW' 'lebanon' 'Egypt' 'SaudiArabia' 'USA' 'Jordan' 'venzuela' 'Iran'\n",
      " 'Tunis' 'Morocco' 'Syria' 'Palestine' 'Iraq' 'Lybia'] \n",
      "\n",
      "3. PlaceOfBirth: 14 unique labels. \n",
      " ['KuwaIT' 'lebanon' 'Egypt' 'SaudiArabia' 'USA' 'Jordan' 'venzuela' 'Iran'\n",
      " 'Tunis' 'Morocco' 'Syria' 'Iraq' 'Palestine' 'Lybia'] \n",
      "\n",
      "4. StageID: 3 unique labels. \n",
      " ['lowerlevel' 'MiddleSchool' 'HighSchool'] \n",
      "\n",
      "5. GradeID: 10 unique labels. \n",
      " ['G-04' 'G-07' 'G-08' 'G-06' 'G-05' 'G-09' 'G-12' 'G-11' 'G-10' 'G-02'] \n",
      "\n",
      "6. SectionID: 3 unique labels. \n",
      " ['A' 'B' 'C'] \n",
      "\n",
      "7. Topic: 12 unique labels. \n",
      " ['IT' 'Math' 'Arabic' 'Science' 'English' 'Quran' 'Spanish' 'French'\n",
      " 'History' 'Biology' 'Chemistry' 'Geology'] \n",
      "\n",
      "8. Semester: 2 unique labels. \n",
      " ['F' 'S'] \n",
      "\n",
      "9. Relation: 2 unique labels. \n",
      " ['Father' 'Mum'] \n",
      "\n",
      "10. ParentAnsweringSurvey: 2 unique labels. \n",
      " ['Yes' 'No'] \n",
      "\n",
      "11. ParentSchoolSatisfaction: 2 unique labels. \n",
      " ['Good' 'Bad'] \n",
      "\n",
      "12. StudentAbsenceDays: 2 unique labels. \n",
      " ['Under-7' 'Above-7'] \n",
      "\n"
     ]
    }
   ],
   "source": [
    "for i,feature in enumerate(CATEGORICAL_FEATURES):\n",
    "    print(f'{i+1}. {feature}: {len(data[feature].unique())} unique labels. \\n {data[feature].unique()} \\n')"
   ]
  },
  {
   "cell_type": "markdown",
   "id": "87126ba0",
   "metadata": {},
   "source": [
    "Looking at the features:\n",
    "* **Nationality**, \n",
    "* **PlaceofBirth** and \n",
    "* **StageID** \n",
    "these require some cleaning.    "
   ]
  },
  {
   "cell_type": "markdown",
   "id": "7449067b",
   "metadata": {},
   "source": [
    "#### 3.1 Cleaning the Nationality feature"
   ]
  },
  {
   "cell_type": "code",
   "execution_count": 14,
   "id": "ae1222c3",
   "metadata": {},
   "outputs": [
    {
     "data": {
      "text/plain": [
       "array(['KW', 'lebanon', 'Egypt', 'SaudiArabia', 'USA', 'Jordan',\n",
       "       'venzuela', 'Iran', 'Tunis', 'Morocco', 'Syria', 'Palestine',\n",
       "       'Iraq', 'Lybia'], dtype=object)"
      ]
     },
     "execution_count": 14,
     "metadata": {},
     "output_type": "execute_result"
    }
   ],
   "source": [
    "# Categories in Nationality\n",
    "data['Nationality'].unique()"
   ]
  },
  {
   "cell_type": "markdown",
   "id": "ac1b8784",
   "metadata": {},
   "source": [
    "We need to make following changes\n",
    "1. Convert KW to Kuwait\n",
    "2. lebanon to Lebanon\n",
    "3. venzuela to Venezuela\n",
    "4. Lybia to Libya"
   ]
  },
  {
   "cell_type": "code",
   "execution_count": 15,
   "id": "45c94079",
   "metadata": {},
   "outputs": [],
   "source": [
    "# Helper function for label conversion in a features column\n",
    "def label_converter(data, original, replacement):\n",
    "    for i, _ in enumerate(data):\n",
    "        if(data[i]==original):\n",
    "            data[i] = replacement\n",
    "        else:\n",
    "            pass\n",
    "    return"
   ]
  },
  {
   "cell_type": "code",
   "execution_count": 16,
   "id": "61c58261",
   "metadata": {},
   "outputs": [],
   "source": [
    "label_converter(data['Nationality'],'KW','Kuwait')"
   ]
  },
  {
   "cell_type": "code",
   "execution_count": 17,
   "id": "b00b4681",
   "metadata": {},
   "outputs": [],
   "source": [
    "label_converter(data['Nationality'],'lebanon','Lebanon')"
   ]
  },
  {
   "cell_type": "code",
   "execution_count": 18,
   "id": "ff0d78e7",
   "metadata": {},
   "outputs": [],
   "source": [
    "label_converter(data['Nationality'],'venzuela','Venezuela')"
   ]
  },
  {
   "cell_type": "code",
   "execution_count": 19,
   "id": "75dc9342",
   "metadata": {},
   "outputs": [],
   "source": [
    "label_converter(data['Nationality'],'Lybia','Libya')"
   ]
  },
  {
   "cell_type": "code",
   "execution_count": 20,
   "id": "ecded72f",
   "metadata": {},
   "outputs": [
    {
     "data": {
      "text/plain": [
       "array(['Kuwait', 'Lebanon', 'Egypt', 'SaudiArabia', 'USA', 'Jordan',\n",
       "       'Venezuela', 'Iran', 'Tunis', 'Morocco', 'Syria', 'Palestine',\n",
       "       'Iraq', 'Libya'], dtype=object)"
      ]
     },
     "execution_count": 20,
     "metadata": {},
     "output_type": "execute_result"
    }
   ],
   "source": [
    "# Check the changes\n",
    "data['Nationality'].unique()"
   ]
  },
  {
   "cell_type": "markdown",
   "id": "6c97180b",
   "metadata": {},
   "source": [
    "#### 3.2 Cleaning the PlaceofBirth feature"
   ]
  },
  {
   "cell_type": "code",
   "execution_count": 21,
   "id": "30635e23",
   "metadata": {},
   "outputs": [
    {
     "data": {
      "text/plain": [
       "array(['KuwaIT', 'lebanon', 'Egypt', 'SaudiArabia', 'USA', 'Jordan',\n",
       "       'venzuela', 'Iran', 'Tunis', 'Morocco', 'Syria', 'Iraq',\n",
       "       'Palestine', 'Lybia'], dtype=object)"
      ]
     },
     "execution_count": 21,
     "metadata": {},
     "output_type": "execute_result"
    }
   ],
   "source": [
    "# Categories in PlaceofBirth\n",
    "data['PlaceOfBirth'].unique()"
   ]
  },
  {
   "cell_type": "markdown",
   "id": "7a30b3ff",
   "metadata": {},
   "source": [
    "We need to make following changes\n",
    "1. Convert KuwaIT to Kuwait\n",
    "2. lebanon to Lebanon\n",
    "3. venzuela to Venezuela\n",
    "4. Lybia to Libya"
   ]
  },
  {
   "cell_type": "code",
   "execution_count": 22,
   "id": "fadc3341",
   "metadata": {},
   "outputs": [],
   "source": [
    "label_converter(data['PlaceOfBirth'],'KuwaIT','Kuwait')"
   ]
  },
  {
   "cell_type": "code",
   "execution_count": 23,
   "id": "f4ef4f04",
   "metadata": {},
   "outputs": [],
   "source": [
    "label_converter(data['PlaceOfBirth'],'lebanon','Lebanon')"
   ]
  },
  {
   "cell_type": "code",
   "execution_count": 24,
   "id": "ddea8a77",
   "metadata": {},
   "outputs": [],
   "source": [
    "label_converter(data['PlaceOfBirth'],'venzuela','Venezuela')"
   ]
  },
  {
   "cell_type": "code",
   "execution_count": 25,
   "id": "f8f6d272",
   "metadata": {},
   "outputs": [],
   "source": [
    "label_converter(data['PlaceOfBirth'],'Lybia','Libya')"
   ]
  },
  {
   "cell_type": "code",
   "execution_count": 26,
   "id": "985151d9",
   "metadata": {},
   "outputs": [
    {
     "data": {
      "text/plain": [
       "array(['Kuwait', 'Lebanon', 'Egypt', 'SaudiArabia', 'USA', 'Jordan',\n",
       "       'Venezuela', 'Iran', 'Tunis', 'Morocco', 'Syria', 'Iraq',\n",
       "       'Palestine', 'Libya'], dtype=object)"
      ]
     },
     "execution_count": 26,
     "metadata": {},
     "output_type": "execute_result"
    }
   ],
   "source": [
    "# Check the changes\n",
    "data['PlaceOfBirth'].unique()"
   ]
  },
  {
   "cell_type": "markdown",
   "id": "a2bed1f7",
   "metadata": {},
   "source": [
    "#### 3.2 Cleaning the StageID feature"
   ]
  },
  {
   "cell_type": "code",
   "execution_count": 27,
   "id": "783131f9",
   "metadata": {},
   "outputs": [
    {
     "data": {
      "text/plain": [
       "array(['lowerlevel', 'MiddleSchool', 'HighSchool'], dtype=object)"
      ]
     },
     "execution_count": 27,
     "metadata": {},
     "output_type": "execute_result"
    }
   ],
   "source": [
    "# Categories in StageID\n",
    "data['StageID'].unique()"
   ]
  },
  {
   "cell_type": "markdown",
   "id": "364e11d9",
   "metadata": {},
   "source": [
    "For consistancy in the labels we need to change lowerlevel to LowerLevel."
   ]
  },
  {
   "cell_type": "code",
   "execution_count": 28,
   "id": "6229a5ca",
   "metadata": {},
   "outputs": [],
   "source": [
    "label_converter(data['StageID'],'lowerlevel','LowerLevel')"
   ]
  },
  {
   "cell_type": "code",
   "execution_count": 29,
   "id": "6055ce07",
   "metadata": {},
   "outputs": [
    {
     "data": {
      "text/plain": [
       "array(['LowerLevel', 'MiddleSchool', 'HighSchool'], dtype=object)"
      ]
     },
     "execution_count": 29,
     "metadata": {},
     "output_type": "execute_result"
    }
   ],
   "source": [
    "# Check the changes\n",
    "data['StageID'].unique()"
   ]
  },
  {
   "cell_type": "markdown",
   "id": "549a96b9",
   "metadata": {},
   "source": [
    "<p style=\"background-color:Gainsboro; padding:20px; text-align:justify; font-size:110%\">\n",
    "1. Features with 2 unique lables can be encoded as binary catgoreos.</br> \n",
    "2. Feature with more than 2 independent lables can be coded as nominal categories. </br>\n",
    "(If they are independen.)</br> \n",
    "3. Feature with more than 2 related lables can be coded as ordinal categories. </br>\n",
    "(If there is ordinal relation between lables.) \n",
    "</p>"
   ]
  },
  {
   "cell_type": "markdown",
   "id": "d65d3209",
   "metadata": {},
   "source": [
    "#### 3.3 Target class"
   ]
  },
  {
   "cell_type": "code",
   "execution_count": 30,
   "id": "e4520994",
   "metadata": {},
   "outputs": [
    {
     "name": "stdout",
     "output_type": "stream",
     "text": [
      " TARGET, has 3 unique attributes. \n",
      " ['M' 'L' 'H'] \n",
      "\n"
     ]
    }
   ],
   "source": [
    "# Target \n",
    "print(f' TARGET, has {len(data[TARGET].unique())} unique attributes. \\n {data[TARGET].unique()} \\n')"
   ]
  },
  {
   "cell_type": "markdown",
   "id": "4c2dcd7f",
   "metadata": {},
   "source": [
    "<p style=\"background-color:Gainsboro; padding:20px; text-align:justify; font-size: 110%\">\n",
    "Target has three unique attributes. This defines our problem as <strong>Multiclass Clasification</strong> problem.\n",
    "</p>"
   ]
  },
  {
   "cell_type": "markdown",
   "id": "b74dd44c",
   "metadata": {},
   "source": [
    "<p style=\"background-color:Gainsboro; padding:20px; text-align:justify; font-size: 110%\">\n",
    "The descriptive statistical properties of continuous features are tabulated in the above output. \n",
    "</p>"
   ]
  },
  {
   "cell_type": "markdown",
   "id": "89276885",
   "metadata": {},
   "source": [
    "### 4. Clean Numerical Data."
   ]
  },
  {
   "cell_type": "code",
   "execution_count": 31,
   "id": "02d71b05",
   "metadata": {},
   "outputs": [
    {
     "data": {
      "text/plain": [
       "['RaisedHands', 'VisitedResources', 'AnnouncementsView', 'Discussion']"
      ]
     },
     "execution_count": 31,
     "metadata": {},
     "output_type": "execute_result"
    }
   ],
   "source": [
    "NUMERICAL_FEATURES = list([column for column in data.columns if data.dtypes[column] != 'object'])\n",
    "NUMERICAL_FEATURES"
   ]
  },
  {
   "cell_type": "code",
   "execution_count": 32,
   "id": "88a24549",
   "metadata": {},
   "outputs": [
    {
     "name": "stdout",
     "output_type": "stream",
     "text": [
      "Total Number for Continous Feature : 4\n",
      "1 RaisedHands\n",
      "2 VisitedResources\n",
      "3 AnnouncementsView\n",
      "4 Discussion\n"
     ]
    }
   ],
   "source": [
    "print(f'Total Number for Continous Feature : {len(NUMERICAL_FEATURES)}')\n",
    "for i,feature in enumerate(NUMERICAL_FEATURES):\n",
    "    print((i+1),feature)"
   ]
  },
  {
   "cell_type": "code",
   "execution_count": 33,
   "id": "1f57f691",
   "metadata": {},
   "outputs": [
    {
     "data": {
      "text/html": [
       "<div>\n",
       "<style scoped>\n",
       "    .dataframe tbody tr th:only-of-type {\n",
       "        vertical-align: middle;\n",
       "    }\n",
       "\n",
       "    .dataframe tbody tr th {\n",
       "        vertical-align: top;\n",
       "    }\n",
       "\n",
       "    .dataframe thead th {\n",
       "        text-align: right;\n",
       "    }\n",
       "</style>\n",
       "<table border=\"1\" class=\"dataframe\">\n",
       "  <thead>\n",
       "    <tr style=\"text-align: right;\">\n",
       "      <th></th>\n",
       "      <th>count</th>\n",
       "      <th>mean</th>\n",
       "      <th>std</th>\n",
       "      <th>min</th>\n",
       "      <th>25%</th>\n",
       "      <th>50%</th>\n",
       "      <th>75%</th>\n",
       "      <th>max</th>\n",
       "    </tr>\n",
       "  </thead>\n",
       "  <tbody>\n",
       "    <tr>\n",
       "      <th>RaisedHands</th>\n",
       "      <td>480.0</td>\n",
       "      <td>46.775000</td>\n",
       "      <td>30.779223</td>\n",
       "      <td>0.0</td>\n",
       "      <td>15.75</td>\n",
       "      <td>50.0</td>\n",
       "      <td>75.0</td>\n",
       "      <td>100.0</td>\n",
       "    </tr>\n",
       "    <tr>\n",
       "      <th>VisitedResources</th>\n",
       "      <td>480.0</td>\n",
       "      <td>54.797917</td>\n",
       "      <td>33.080007</td>\n",
       "      <td>0.0</td>\n",
       "      <td>20.00</td>\n",
       "      <td>65.0</td>\n",
       "      <td>84.0</td>\n",
       "      <td>99.0</td>\n",
       "    </tr>\n",
       "    <tr>\n",
       "      <th>AnnouncementsView</th>\n",
       "      <td>480.0</td>\n",
       "      <td>37.918750</td>\n",
       "      <td>26.611244</td>\n",
       "      <td>0.0</td>\n",
       "      <td>14.00</td>\n",
       "      <td>33.0</td>\n",
       "      <td>58.0</td>\n",
       "      <td>98.0</td>\n",
       "    </tr>\n",
       "    <tr>\n",
       "      <th>Discussion</th>\n",
       "      <td>480.0</td>\n",
       "      <td>43.283333</td>\n",
       "      <td>27.637735</td>\n",
       "      <td>1.0</td>\n",
       "      <td>20.00</td>\n",
       "      <td>39.0</td>\n",
       "      <td>70.0</td>\n",
       "      <td>99.0</td>\n",
       "    </tr>\n",
       "  </tbody>\n",
       "</table>\n",
       "</div>"
      ],
      "text/plain": [
       "                   count       mean        std  min    25%   50%   75%    max\n",
       "RaisedHands        480.0  46.775000  30.779223  0.0  15.75  50.0  75.0  100.0\n",
       "VisitedResources   480.0  54.797917  33.080007  0.0  20.00  65.0  84.0   99.0\n",
       "AnnouncementsView  480.0  37.918750  26.611244  0.0  14.00  33.0  58.0   98.0\n",
       "Discussion         480.0  43.283333  27.637735  1.0  20.00  39.0  70.0   99.0"
      ]
     },
     "execution_count": 33,
     "metadata": {},
     "output_type": "execute_result"
    }
   ],
   "source": [
    "stats = data.describe()\n",
    "stats.transpose()"
   ]
  },
  {
   "cell_type": "code",
   "execution_count": 34,
   "id": "c5de4f36",
   "metadata": {},
   "outputs": [
    {
     "data": {
      "text/plain": [
       "RaisedHands          0\n",
       "VisitedResources     0\n",
       "AnnouncementsView    0\n",
       "Discussion           0\n",
       "dtype: int64"
      ]
     },
     "execution_count": 34,
     "metadata": {},
     "output_type": "execute_result"
    }
   ],
   "source": [
    "# Check for null values in the Numerical features\n",
    "data[NUMERICAL_FEATURES].isnull().sum()"
   ]
  },
  {
   "cell_type": "markdown",
   "id": "1a5ed20d",
   "metadata": {},
   "source": [
    "<p style=\"background-color:Gainsboro; padding:20px; text-align:justify; font-size: 110%\">\n",
    "The result of <strong>data[NUMERICAL_FEATURES].isnull().sum()</strong> shows there is no null values in any numerical feature.\n",
    "</p>"
   ]
  },
  {
   "cell_type": "markdown",
   "id": "5178b61c",
   "metadata": {},
   "source": [
    "### 5. Optimize Data for the Memory."
   ]
  },
  {
   "cell_type": "markdown",
   "id": "03ec6e13",
   "metadata": {},
   "source": [
    "The data is optimized for the memory usage for following advantages\n",
    "1. Reduces the complexity of the data types\n",
    "2. Reduce the size of the data\n",
    "\n",
    "This produce faster convergence in training the ML Models."
   ]
  },
  {
   "cell_type": "code",
   "execution_count": 35,
   "id": "75678de4",
   "metadata": {},
   "outputs": [
    {
     "name": "stdout",
     "output_type": "stream",
     "text": [
      "<class 'pandas.core.frame.DataFrame'>\n",
      "RangeIndex: 480 entries, 0 to 479\n",
      "Data columns (total 17 columns):\n",
      " #   Column                    Non-Null Count  Dtype \n",
      "---  ------                    --------------  ----- \n",
      " 0   Gender                    480 non-null    object\n",
      " 1   Nationality               480 non-null    object\n",
      " 2   PlaceOfBirth              480 non-null    object\n",
      " 3   StageID                   480 non-null    object\n",
      " 4   GradeID                   480 non-null    object\n",
      " 5   SectionID                 480 non-null    object\n",
      " 6   Topic                     480 non-null    object\n",
      " 7   Semester                  480 non-null    object\n",
      " 8   Relation                  480 non-null    object\n",
      " 9   RaisedHands               480 non-null    int64 \n",
      " 10  VisitedResources          480 non-null    int64 \n",
      " 11  AnnouncementsView         480 non-null    int64 \n",
      " 12  Discussion                480 non-null    int64 \n",
      " 13  ParentAnsweringSurvey     480 non-null    object\n",
      " 14  ParentSchoolSatisfaction  480 non-null    object\n",
      " 15  StudentAbsenceDays        480 non-null    object\n",
      " 16  Class                     480 non-null    object\n",
      "dtypes: int64(4), object(13)\n",
      "memory usage: 63.9+ KB\n"
     ]
    }
   ],
   "source": [
    "# Original Data\n",
    "data.info()"
   ]
  },
  {
   "cell_type": "code",
   "execution_count": 36,
   "id": "26d84010",
   "metadata": {},
   "outputs": [
    {
     "name": "stdout",
     "output_type": "stream",
     "text": [
      "Long column names detected (>25 characters). Consider renaming the following columns ['parent_school_satisfaction'].\n",
      "Shape of cleaned data: (478, 17)Remaining NAs: 0\n",
      "\n",
      "Changes:\n",
      "Dropped rows: 2\n",
      "     of which 2 duplicates. (Rows: [326, 327])\n",
      "Dropped columns: 0\n",
      "     of which 0 single valued.     Columns: []\n",
      "Dropped missing values: 0\n",
      "Reduced memory by at least: 0.05 MB (-83.33%)\n",
      "\n"
     ]
    }
   ],
   "source": [
    "optimized_data = kl.data_cleaning(data)"
   ]
  },
  {
   "cell_type": "code",
   "execution_count": 37,
   "id": "c38dafb9",
   "metadata": {},
   "outputs": [
    {
     "name": "stdout",
     "output_type": "stream",
     "text": [
      "<class 'pandas.core.frame.DataFrame'>\n",
      "RangeIndex: 478 entries, 0 to 477\n",
      "Data columns (total 17 columns):\n",
      " #   Column                      Non-Null Count  Dtype   \n",
      "---  ------                      --------------  -----   \n",
      " 0   gender                      478 non-null    category\n",
      " 1   nationality                 478 non-null    category\n",
      " 2   place_of_birth              478 non-null    category\n",
      " 3   stage_id                    478 non-null    category\n",
      " 4   grade_id                    478 non-null    category\n",
      " 5   section_id                  478 non-null    category\n",
      " 6   topic                       478 non-null    category\n",
      " 7   semester                    478 non-null    category\n",
      " 8   relation                    478 non-null    category\n",
      " 9   raised_hands                478 non-null    int8    \n",
      " 10  visited_resources           478 non-null    int8    \n",
      " 11  announcements_view          478 non-null    int8    \n",
      " 12  discussion                  478 non-null    int8    \n",
      " 13  parent_answering_survey     478 non-null    category\n",
      " 14  parent_school_satisfaction  478 non-null    category\n",
      " 15  student_absence_days        478 non-null    category\n",
      " 16  class                       478 non-null    category\n",
      "dtypes: category(13), int8(4)\n",
      "memory usage: 11.2 KB\n"
     ]
    }
   ],
   "source": [
    "# Optimized data\n",
    "optimized_data.info()"
   ]
  },
  {
   "cell_type": "code",
   "execution_count": 38,
   "id": "152c91f7",
   "metadata": {},
   "outputs": [
    {
     "data": {
      "text/html": [
       "<div>\n",
       "<style scoped>\n",
       "    .dataframe tbody tr th:only-of-type {\n",
       "        vertical-align: middle;\n",
       "    }\n",
       "\n",
       "    .dataframe tbody tr th {\n",
       "        vertical-align: top;\n",
       "    }\n",
       "\n",
       "    .dataframe thead th {\n",
       "        text-align: right;\n",
       "    }\n",
       "</style>\n",
       "<table border=\"1\" class=\"dataframe\">\n",
       "  <thead>\n",
       "    <tr style=\"text-align: right;\">\n",
       "      <th></th>\n",
       "      <th>gender</th>\n",
       "      <th>nationality</th>\n",
       "      <th>place_of_birth</th>\n",
       "      <th>stage_id</th>\n",
       "      <th>grade_id</th>\n",
       "      <th>section_id</th>\n",
       "      <th>topic</th>\n",
       "      <th>semester</th>\n",
       "      <th>relation</th>\n",
       "      <th>raised_hands</th>\n",
       "      <th>visited_resources</th>\n",
       "      <th>announcements_view</th>\n",
       "      <th>discussion</th>\n",
       "      <th>parent_answering_survey</th>\n",
       "      <th>parent_school_satisfaction</th>\n",
       "      <th>student_absence_days</th>\n",
       "      <th>class</th>\n",
       "    </tr>\n",
       "  </thead>\n",
       "  <tbody>\n",
       "    <tr>\n",
       "      <th>0</th>\n",
       "      <td>M</td>\n",
       "      <td>Kuwait</td>\n",
       "      <td>Kuwait</td>\n",
       "      <td>LowerLevel</td>\n",
       "      <td>G-04</td>\n",
       "      <td>A</td>\n",
       "      <td>IT</td>\n",
       "      <td>F</td>\n",
       "      <td>Father</td>\n",
       "      <td>15</td>\n",
       "      <td>16</td>\n",
       "      <td>2</td>\n",
       "      <td>20</td>\n",
       "      <td>Yes</td>\n",
       "      <td>Good</td>\n",
       "      <td>Under-7</td>\n",
       "      <td>M</td>\n",
       "    </tr>\n",
       "    <tr>\n",
       "      <th>1</th>\n",
       "      <td>M</td>\n",
       "      <td>Kuwait</td>\n",
       "      <td>Kuwait</td>\n",
       "      <td>LowerLevel</td>\n",
       "      <td>G-04</td>\n",
       "      <td>A</td>\n",
       "      <td>IT</td>\n",
       "      <td>F</td>\n",
       "      <td>Father</td>\n",
       "      <td>20</td>\n",
       "      <td>20</td>\n",
       "      <td>3</td>\n",
       "      <td>25</td>\n",
       "      <td>Yes</td>\n",
       "      <td>Good</td>\n",
       "      <td>Under-7</td>\n",
       "      <td>M</td>\n",
       "    </tr>\n",
       "    <tr>\n",
       "      <th>2</th>\n",
       "      <td>M</td>\n",
       "      <td>Kuwait</td>\n",
       "      <td>Kuwait</td>\n",
       "      <td>LowerLevel</td>\n",
       "      <td>G-04</td>\n",
       "      <td>A</td>\n",
       "      <td>IT</td>\n",
       "      <td>F</td>\n",
       "      <td>Father</td>\n",
       "      <td>10</td>\n",
       "      <td>7</td>\n",
       "      <td>0</td>\n",
       "      <td>30</td>\n",
       "      <td>No</td>\n",
       "      <td>Bad</td>\n",
       "      <td>Above-7</td>\n",
       "      <td>L</td>\n",
       "    </tr>\n",
       "    <tr>\n",
       "      <th>3</th>\n",
       "      <td>M</td>\n",
       "      <td>Kuwait</td>\n",
       "      <td>Kuwait</td>\n",
       "      <td>LowerLevel</td>\n",
       "      <td>G-04</td>\n",
       "      <td>A</td>\n",
       "      <td>IT</td>\n",
       "      <td>F</td>\n",
       "      <td>Father</td>\n",
       "      <td>30</td>\n",
       "      <td>25</td>\n",
       "      <td>5</td>\n",
       "      <td>35</td>\n",
       "      <td>No</td>\n",
       "      <td>Bad</td>\n",
       "      <td>Above-7</td>\n",
       "      <td>L</td>\n",
       "    </tr>\n",
       "    <tr>\n",
       "      <th>4</th>\n",
       "      <td>M</td>\n",
       "      <td>Kuwait</td>\n",
       "      <td>Kuwait</td>\n",
       "      <td>LowerLevel</td>\n",
       "      <td>G-04</td>\n",
       "      <td>A</td>\n",
       "      <td>IT</td>\n",
       "      <td>F</td>\n",
       "      <td>Father</td>\n",
       "      <td>40</td>\n",
       "      <td>50</td>\n",
       "      <td>12</td>\n",
       "      <td>50</td>\n",
       "      <td>No</td>\n",
       "      <td>Bad</td>\n",
       "      <td>Above-7</td>\n",
       "      <td>M</td>\n",
       "    </tr>\n",
       "  </tbody>\n",
       "</table>\n",
       "</div>"
      ],
      "text/plain": [
       "  gender nationality place_of_birth    stage_id grade_id section_id topic  \\\n",
       "0      M      Kuwait         Kuwait  LowerLevel     G-04          A    IT   \n",
       "1      M      Kuwait         Kuwait  LowerLevel     G-04          A    IT   \n",
       "2      M      Kuwait         Kuwait  LowerLevel     G-04          A    IT   \n",
       "3      M      Kuwait         Kuwait  LowerLevel     G-04          A    IT   \n",
       "4      M      Kuwait         Kuwait  LowerLevel     G-04          A    IT   \n",
       "\n",
       "  semester relation  raised_hands  visited_resources  announcements_view  \\\n",
       "0        F   Father            15                 16                   2   \n",
       "1        F   Father            20                 20                   3   \n",
       "2        F   Father            10                  7                   0   \n",
       "3        F   Father            30                 25                   5   \n",
       "4        F   Father            40                 50                  12   \n",
       "\n",
       "   discussion parent_answering_survey parent_school_satisfaction  \\\n",
       "0          20                     Yes                       Good   \n",
       "1          25                     Yes                       Good   \n",
       "2          30                      No                        Bad   \n",
       "3          35                      No                        Bad   \n",
       "4          50                      No                        Bad   \n",
       "\n",
       "  student_absence_days class  \n",
       "0              Under-7     M  \n",
       "1              Under-7     M  \n",
       "2              Above-7     L  \n",
       "3              Above-7     L  \n",
       "4              Above-7     M  "
      ]
     },
     "execution_count": 38,
     "metadata": {},
     "output_type": "execute_result"
    }
   ],
   "source": [
    "optimized_data.head()"
   ]
  },
  {
   "cell_type": "markdown",
   "id": "fdafb5fb",
   "metadata": {},
   "source": [
    "### 6. Save Cleaned Data."
   ]
  },
  {
   "cell_type": "code",
   "execution_count": 39,
   "id": "ddf50826",
   "metadata": {},
   "outputs": [],
   "source": [
    "# The cell will run on local stograge only.\n",
    "optimized_data.to_csv('./data/xAPI-Edu-Data_cleaned.csv',index=False)"
   ]
  },
  {
   "cell_type": "markdown",
   "id": "9a140caf",
   "metadata": {},
   "source": [
    "## Observations\n",
    "Working with the data we observe:   \n",
    "\n",
    "1. The feature name were not consistent   \n",
    "2. The categroy lables wer also not consistent\n",
    "3. The data was not optimized fro the memory usage\n",
    "4. The target class is categorical with 3 lables\n",
    "5. The predictors are mixed of categorical and numerical types."
   ]
  },
  {
   "cell_type": "markdown",
   "id": "06494312",
   "metadata": {},
   "source": [
    "## Conclusion\n",
    "Based on the obervations:    \n",
    "    \n",
    "1. The feature names are corrected for spelling mistakes and were made consistent  \n",
    "2. The categorical labels were also corrected for spelling mistakes and were made consitent\n",
    "3. The data was optimized for better memory utlization by converting data in suitable dtypes\n",
    "4. The cleaned data is stored in the file xAPI-Edu-Dat_cleaned.csv\n",
    "\n",
    "The operations performed enhance the data for futher operation like\n",
    "\n",
    "* Data visualization and plotting\n",
    "* Feature engineering\n",
    "* Dimentionality reduction etc\n"
   ]
  },
  {
   "cell_type": "code",
   "execution_count": null,
   "id": "29060853",
   "metadata": {},
   "outputs": [],
   "source": []
  }
 ],
 "metadata": {
  "kernelspec": {
   "display_name": "Python 3",
   "language": "python",
   "name": "python3"
  },
  "language_info": {
   "codemirror_mode": {
    "name": "ipython",
    "version": 3
   },
   "file_extension": ".py",
   "mimetype": "text/x-python",
   "name": "python",
   "nbconvert_exporter": "python",
   "pygments_lexer": "ipython3",
   "version": "3.8.12"
  }
 },
 "nbformat": 4,
 "nbformat_minor": 5
}
