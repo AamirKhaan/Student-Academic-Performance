{
 "cells": [
  {
   "cell_type": "markdown",
   "id": "9dbd35f3",
   "metadata": {},
   "source": [
    "<h1 style=\"color:Blue; padding:20px; text-align:center; border-radius:10px\">01. Data Cleaning </h1>"
   ]
  },
  {
   "cell_type": "markdown",
   "id": "6fa72dbe",
   "metadata": {},
   "source": [
    "<div style=\"background-color:Gainsboro; padding:20px; text-align:justify; font-size: 110%\">\n",
    "    <p>In data cleaning following operations are perfomed  </p>\n",
    "    <ol>\n",
    "        <li>Load Data.</li>\n",
    "        <li>Handle Missing Values.</li>\n",
    "        <li>Clean Categorical Data.</li>\n",
    "        <li>Clean Numerical Data.</li>\n",
    "        <li>Optimize Data for Memory.</li>\n",
    "        <li>Save Cleaned Data</li>\n",
    "    </ol>\n",
    "</div>"
   ]
  },
  {
   "cell_type": "markdown",
   "id": "2523b32a",
   "metadata": {},
   "source": [
    "### Standard Imports."
   ]
  },
  {
   "cell_type": "code",
   "execution_count": 1,
   "id": "73fdff66",
   "metadata": {},
   "outputs": [],
   "source": [
    "import numpy as np\n",
    "import pandas as pd\n",
    "import klib as kl"
   ]
  },
  {
   "cell_type": "code",
   "execution_count": 2,
   "id": "31034309",
   "metadata": {},
   "outputs": [
    {
     "name": "stdout",
     "output_type": "stream",
     "text": [
      "Pretty printing has been turned OFF\n"
     ]
    }
   ],
   "source": [
    "# Ignore warnings\n",
    "import warnings\n",
    "warnings.filterwarnings('ignore')\n",
    "%pprint"
   ]
  },
  {
   "cell_type": "markdown",
   "id": "052e6699",
   "metadata": {},
   "source": [
    "### 1. Load Data."
   ]
  },
  {
   "cell_type": "code",
   "execution_count": 3,
   "id": "6533d84e",
   "metadata": {},
   "outputs": [],
   "source": [
    "# Loading the Student's data\n",
    "data = pd.read_csv('./data/xAPI-Edu-Data.csv')"
   ]
  },
  {
   "cell_type": "code",
   "execution_count": 4,
   "id": "87f2deca",
   "metadata": {},
   "outputs": [
    {
     "data": {
      "text/html": [
       "<div>\n",
       "<style scoped>\n",
       "    .dataframe tbody tr th:only-of-type {\n",
       "        vertical-align: middle;\n",
       "    }\n",
       "\n",
       "    .dataframe tbody tr th {\n",
       "        vertical-align: top;\n",
       "    }\n",
       "\n",
       "    .dataframe thead th {\n",
       "        text-align: right;\n",
       "    }\n",
       "</style>\n",
       "<table border=\"1\" class=\"dataframe\">\n",
       "  <thead>\n",
       "    <tr style=\"text-align: right;\">\n",
       "      <th></th>\n",
       "      <th>gender</th>\n",
       "      <th>NationalITy</th>\n",
       "      <th>PlaceofBirth</th>\n",
       "      <th>StageID</th>\n",
       "      <th>GradeID</th>\n",
       "      <th>SectionID</th>\n",
       "      <th>Topic</th>\n",
       "      <th>Semester</th>\n",
       "      <th>Relation</th>\n",
       "      <th>raisedhands</th>\n",
       "      <th>VisITedResources</th>\n",
       "      <th>AnnouncementsView</th>\n",
       "      <th>Discussion</th>\n",
       "      <th>ParentAnsweringSurvey</th>\n",
       "      <th>ParentschoolSatisfaction</th>\n",
       "      <th>StudentAbsenceDays</th>\n",
       "      <th>Class</th>\n",
       "    </tr>\n",
       "  </thead>\n",
       "  <tbody>\n",
       "    <tr>\n",
       "      <th>0</th>\n",
       "      <td>M</td>\n",
       "      <td>KW</td>\n",
       "      <td>KuwaIT</td>\n",
       "      <td>lowerlevel</td>\n",
       "      <td>G-04</td>\n",
       "      <td>A</td>\n",
       "      <td>IT</td>\n",
       "      <td>F</td>\n",
       "      <td>Father</td>\n",
       "      <td>15</td>\n",
       "      <td>16</td>\n",
       "      <td>2</td>\n",
       "      <td>20</td>\n",
       "      <td>Yes</td>\n",
       "      <td>Good</td>\n",
       "      <td>Under-7</td>\n",
       "      <td>M</td>\n",
       "    </tr>\n",
       "    <tr>\n",
       "      <th>1</th>\n",
       "      <td>M</td>\n",
       "      <td>KW</td>\n",
       "      <td>KuwaIT</td>\n",
       "      <td>lowerlevel</td>\n",
       "      <td>G-04</td>\n",
       "      <td>A</td>\n",
       "      <td>IT</td>\n",
       "      <td>F</td>\n",
       "      <td>Father</td>\n",
       "      <td>20</td>\n",
       "      <td>20</td>\n",
       "      <td>3</td>\n",
       "      <td>25</td>\n",
       "      <td>Yes</td>\n",
       "      <td>Good</td>\n",
       "      <td>Under-7</td>\n",
       "      <td>M</td>\n",
       "    </tr>\n",
       "    <tr>\n",
       "      <th>2</th>\n",
       "      <td>M</td>\n",
       "      <td>KW</td>\n",
       "      <td>KuwaIT</td>\n",
       "      <td>lowerlevel</td>\n",
       "      <td>G-04</td>\n",
       "      <td>A</td>\n",
       "      <td>IT</td>\n",
       "      <td>F</td>\n",
       "      <td>Father</td>\n",
       "      <td>10</td>\n",
       "      <td>7</td>\n",
       "      <td>0</td>\n",
       "      <td>30</td>\n",
       "      <td>No</td>\n",
       "      <td>Bad</td>\n",
       "      <td>Above-7</td>\n",
       "      <td>L</td>\n",
       "    </tr>\n",
       "    <tr>\n",
       "      <th>3</th>\n",
       "      <td>M</td>\n",
       "      <td>KW</td>\n",
       "      <td>KuwaIT</td>\n",
       "      <td>lowerlevel</td>\n",
       "      <td>G-04</td>\n",
       "      <td>A</td>\n",
       "      <td>IT</td>\n",
       "      <td>F</td>\n",
       "      <td>Father</td>\n",
       "      <td>30</td>\n",
       "      <td>25</td>\n",
       "      <td>5</td>\n",
       "      <td>35</td>\n",
       "      <td>No</td>\n",
       "      <td>Bad</td>\n",
       "      <td>Above-7</td>\n",
       "      <td>L</td>\n",
       "    </tr>\n",
       "    <tr>\n",
       "      <th>4</th>\n",
       "      <td>M</td>\n",
       "      <td>KW</td>\n",
       "      <td>KuwaIT</td>\n",
       "      <td>lowerlevel</td>\n",
       "      <td>G-04</td>\n",
       "      <td>A</td>\n",
       "      <td>IT</td>\n",
       "      <td>F</td>\n",
       "      <td>Father</td>\n",
       "      <td>40</td>\n",
       "      <td>50</td>\n",
       "      <td>12</td>\n",
       "      <td>50</td>\n",
       "      <td>No</td>\n",
       "      <td>Bad</td>\n",
       "      <td>Above-7</td>\n",
       "      <td>M</td>\n",
       "    </tr>\n",
       "  </tbody>\n",
       "</table>\n",
       "</div>"
      ],
      "text/plain": [
       "  gender NationalITy PlaceofBirth     StageID GradeID SectionID Topic  \\\n",
       "0      M          KW       KuwaIT  lowerlevel    G-04         A    IT   \n",
       "1      M          KW       KuwaIT  lowerlevel    G-04         A    IT   \n",
       "2      M          KW       KuwaIT  lowerlevel    G-04         A    IT   \n",
       "3      M          KW       KuwaIT  lowerlevel    G-04         A    IT   \n",
       "4      M          KW       KuwaIT  lowerlevel    G-04         A    IT   \n",
       "\n",
       "  Semester Relation  raisedhands  VisITedResources  AnnouncementsView  \\\n",
       "0        F   Father           15                16                  2   \n",
       "1        F   Father           20                20                  3   \n",
       "2        F   Father           10                 7                  0   \n",
       "3        F   Father           30                25                  5   \n",
       "4        F   Father           40                50                 12   \n",
       "\n",
       "   Discussion ParentAnsweringSurvey ParentschoolSatisfaction  \\\n",
       "0          20                   Yes                     Good   \n",
       "1          25                   Yes                     Good   \n",
       "2          30                    No                      Bad   \n",
       "3          35                    No                      Bad   \n",
       "4          50                    No                      Bad   \n",
       "\n",
       "  StudentAbsenceDays Class  \n",
       "0            Under-7     M  \n",
       "1            Under-7     M  \n",
       "2            Above-7     L  \n",
       "3            Above-7     L  \n",
       "4            Above-7     M  "
      ]
     },
     "execution_count": 4,
     "metadata": {},
     "output_type": "execute_result"
    }
   ],
   "source": [
    "# Cheack the data is properly loaded\n",
    "data.head()"
   ]
  },
  {
   "cell_type": "code",
   "execution_count": 5,
   "id": "601bef9c",
   "metadata": {},
   "outputs": [
    {
     "name": "stdout",
     "output_type": "stream",
     "text": [
      "<class 'pandas.core.frame.DataFrame'>\n",
      "RangeIndex: 480 entries, 0 to 479\n",
      "Data columns (total 17 columns):\n",
      " #   Column                    Non-Null Count  Dtype \n",
      "---  ------                    --------------  ----- \n",
      " 0   gender                    480 non-null    object\n",
      " 1   NationalITy               480 non-null    object\n",
      " 2   PlaceofBirth              480 non-null    object\n",
      " 3   StageID                   480 non-null    object\n",
      " 4   GradeID                   480 non-null    object\n",
      " 5   SectionID                 480 non-null    object\n",
      " 6   Topic                     480 non-null    object\n",
      " 7   Semester                  480 non-null    object\n",
      " 8   Relation                  480 non-null    object\n",
      " 9   raisedhands               480 non-null    int64 \n",
      " 10  VisITedResources          480 non-null    int64 \n",
      " 11  AnnouncementsView         480 non-null    int64 \n",
      " 12  Discussion                480 non-null    int64 \n",
      " 13  ParentAnsweringSurvey     480 non-null    object\n",
      " 14  ParentschoolSatisfaction  480 non-null    object\n",
      " 15  StudentAbsenceDays        480 non-null    object\n",
      " 16  Class                     480 non-null    object\n",
      "dtypes: int64(4), object(13)\n",
      "memory usage: 63.9+ KB\n"
     ]
    }
   ],
   "source": [
    "# Data Characteristics\n",
    "data.info()"
   ]
  },
  {
   "cell_type": "markdown",
   "id": "0c7419cd",
   "metadata": {},
   "source": [
    "<p style=\"background-color:Gainsboro; padding:20px; text-align:justify; font-size: 110%\">\n",
    "The spelling of some feature names have to be adjusted for uniformaty.\n",
    "</p>"
   ]
  },
  {
   "cell_type": "code",
   "execution_count": 6,
   "id": "059f62db",
   "metadata": {},
   "outputs": [],
   "source": [
    "# Clean the feature name labels.\n",
    "data.rename(columns={\n",
    "    'gender' : 'Gender',\n",
    "    'NationalITy' :'Nationality',\n",
    "    'raisedhands' : 'RaisedHands',\n",
    "    'VisITedResources' :'VisitedResources',\n",
    "    'ParentschoolSatisfaction':'ParentSchoolSatisfaction'    \n",
    "}, inplace = True)"
   ]
  },
  {
   "cell_type": "code",
   "execution_count": 7,
   "id": "f1ff0184",
   "metadata": {},
   "outputs": [
    {
     "name": "stdout",
     "output_type": "stream",
     "text": [
      "<class 'pandas.core.frame.DataFrame'>\n",
      "RangeIndex: 480 entries, 0 to 479\n",
      "Data columns (total 17 columns):\n",
      " #   Column                    Non-Null Count  Dtype \n",
      "---  ------                    --------------  ----- \n",
      " 0   Gender                    480 non-null    object\n",
      " 1   Nationality               480 non-null    object\n",
      " 2   PlaceofBirth              480 non-null    object\n",
      " 3   StageID                   480 non-null    object\n",
      " 4   GradeID                   480 non-null    object\n",
      " 5   SectionID                 480 non-null    object\n",
      " 6   Topic                     480 non-null    object\n",
      " 7   Semester                  480 non-null    object\n",
      " 8   Relation                  480 non-null    object\n",
      " 9   RaisedHands               480 non-null    int64 \n",
      " 10  VisitedResources          480 non-null    int64 \n",
      " 11  AnnouncementsView         480 non-null    int64 \n",
      " 12  Discussion                480 non-null    int64 \n",
      " 13  ParentAnsweringSurvey     480 non-null    object\n",
      " 14  ParentSchoolSatisfaction  480 non-null    object\n",
      " 15  StudentAbsenceDays        480 non-null    object\n",
      " 16  Class                     480 non-null    object\n",
      "dtypes: int64(4), object(13)\n",
      "memory usage: 63.9+ KB\n"
     ]
    }
   ],
   "source": [
    "# Check the Data Characteristics again\n",
    "data.info()"
   ]
  },
  {
   "cell_type": "markdown",
   "id": "04eae43f",
   "metadata": {},
   "source": [
    "### 2. Handle Missing Values."
   ]
  },
  {
   "cell_type": "code",
   "execution_count": 8,
   "id": "3a888af5",
   "metadata": {},
   "outputs": [
    {
     "data": {
      "text/plain": [
       "Gender                      0\n",
       "Nationality                 0\n",
       "PlaceofBirth                0\n",
       "StageID                     0\n",
       "GradeID                     0\n",
       "SectionID                   0\n",
       "Topic                       0\n",
       "Semester                    0\n",
       "Relation                    0\n",
       "RaisedHands                 0\n",
       "VisitedResources            0\n",
       "AnnouncementsView           0\n",
       "Discussion                  0\n",
       "ParentAnsweringSurvey       0\n",
       "ParentSchoolSatisfaction    0\n",
       "StudentAbsenceDays          0\n",
       "Class                       0\n",
       "dtype: int64"
      ]
     },
     "execution_count": 8,
     "metadata": {},
     "output_type": "execute_result"
    }
   ],
   "source": [
    "# Check for missing data\n",
    "data.isna().sum()"
   ]
  },
  {
   "cell_type": "markdown",
   "id": "5d1966f2",
   "metadata": {},
   "source": [
    "<p style=\"background-color:Gainsboro; padding:20px; text-align:justify; font-size: 110%\">\n",
    "The result of <strong>data.isna().sum()</strong> shows there is no missing values in any of the columns.\n",
    "</p>"
   ]
  },
  {
   "cell_type": "markdown",
   "id": "c1926652",
   "metadata": {},
   "source": [
    "### 3. Clean Categorical Data."
   ]
  },
  {
   "cell_type": "code",
   "execution_count": 9,
   "id": "9dd1afc3",
   "metadata": {},
   "outputs": [
    {
     "data": {
      "text/plain": [
       "['Gender', 'Nationality', 'PlaceofBirth', 'StageID', 'GradeID', 'SectionID', 'Topic', 'Semester', 'Relation', 'ParentAnsweringSurvey', 'ParentSchoolSatisfaction', 'StudentAbsenceDays']"
      ]
     },
     "execution_count": 9,
     "metadata": {},
     "output_type": "execute_result"
    }
   ],
   "source": [
    "CATEGORICAL_FEATURES = list([column for column in data.columns if data.dtypes[column] == 'object'])[:-1]\n",
    "CATEGORICAL_FEATURES"
   ]
  },
  {
   "cell_type": "code",
   "execution_count": 10,
   "id": "ef868305",
   "metadata": {},
   "outputs": [],
   "source": [
    "TARGET = 'Class'"
   ]
  },
  {
   "cell_type": "code",
   "execution_count": null,
   "id": "faa77123",
   "metadata": {},
   "outputs": [],
   "source": [
    "# Categorical Featutes\n",
    "print(f'Total Number for Categorical Feature : {len(CATEGORICAL_FEATURES)}')\n",
    "for i,feature in enumerate(CATEGORICAL_FEATURES):\n",
    "    print((i+1),feature)"
   ]
  },
  {
   "cell_type": "code",
   "execution_count": null,
   "id": "fdc02dc9",
   "metadata": {},
   "outputs": [],
   "source": [
    "for i,feature in enumerate(CATEGORICAL_FEATURES):\n",
    "    print(f'{i+1}. {feature}, has {len(data[feature].unique())} unique attributes. \\n {data[feature].unique()} \\n')"
   ]
  },
  {
   "cell_type": "markdown",
   "id": "ddb625d5",
   "metadata": {},
   "source": [
    "Looking at the features:\n",
    "* **Nationality**, \n",
    "* **PlaceofBirth** and \n",
    "* **StageID** \n",
    "these require some cleaning.    "
   ]
  },
  {
   "cell_type": "markdown",
   "id": "8b30dcea",
   "metadata": {},
   "source": [
    "#### 3.1 Cleaning the Nationality feature."
   ]
  },
  {
   "cell_type": "code",
   "execution_count": null,
   "id": "84b02fcf",
   "metadata": {},
   "outputs": [],
   "source": [
    "# Categories in Nationality\n",
    "data['Nationality'].unique()"
   ]
  },
  {
   "cell_type": "markdown",
   "id": "322db00e",
   "metadata": {},
   "source": [
    "We need to make following changes\n",
    "1. Convert KW to Kuwait\n",
    "2. lebanon to Lebanon\n",
    "3. venzuela to Venezuela\n",
    "4. Lybia to Libya"
   ]
  },
  {
   "cell_type": "code",
   "execution_count": null,
   "id": "451953e3",
   "metadata": {},
   "outputs": [],
   "source": [
    "# Helper function for label conversion in a features column\n",
    "def label_converter(data, original, replacement):\n",
    "    for i, _ in enumerate(data):\n",
    "        if(data[i]==original):\n",
    "            data[i] = replacement\n",
    "        else:\n",
    "            pass\n",
    "    return"
   ]
  },
  {
   "cell_type": "code",
   "execution_count": null,
   "id": "76d32ff3",
   "metadata": {},
   "outputs": [],
   "source": [
    "label_converter(data['Nationality'],'KW','Kuwait')"
   ]
  },
  {
   "cell_type": "code",
   "execution_count": null,
   "id": "b897fdca",
   "metadata": {},
   "outputs": [],
   "source": [
    "label_converter(data['Nationality'],'lebanon','Lebanon')"
   ]
  },
  {
   "cell_type": "code",
   "execution_count": null,
   "id": "99d5ffc0",
   "metadata": {},
   "outputs": [],
   "source": [
    "label_converter(data['Nationality'],'venzuela','Venezuela')"
   ]
  },
  {
   "cell_type": "code",
   "execution_count": null,
   "id": "60e5935c",
   "metadata": {},
   "outputs": [],
   "source": [
    "label_converter(data['Nationality'],'Lybia','Libya')"
   ]
  },
  {
   "cell_type": "code",
   "execution_count": null,
   "id": "5f3dee02",
   "metadata": {},
   "outputs": [],
   "source": [
    "# Check the changes\n",
    "data['Nationality'].unique()"
   ]
  },
  {
   "cell_type": "markdown",
   "id": "e87d92e8",
   "metadata": {},
   "source": [
    "#### 3.2 Cleaning the PlaceofBirth feature."
   ]
  },
  {
   "cell_type": "code",
   "execution_count": null,
   "id": "75342ec0",
   "metadata": {},
   "outputs": [],
   "source": [
    "# Categories in PlaceofBirth\n",
    "data['PlaceofBirth'].unique()"
   ]
  },
  {
   "cell_type": "markdown",
   "id": "2d8b6eaa",
   "metadata": {},
   "source": [
    "We need to make following changes\n",
    "1. Convert KuwaIT to Kuwait\n",
    "2. lebanon to Lebanon\n",
    "3. venzuela to Venezuela\n",
    "4. Lybia to Libya"
   ]
  },
  {
   "cell_type": "code",
   "execution_count": null,
   "id": "a3a6122e",
   "metadata": {},
   "outputs": [],
   "source": [
    "label_converter(data['PlaceofBirth'],'KuwaIT','Kuwait')"
   ]
  },
  {
   "cell_type": "code",
   "execution_count": null,
   "id": "a7ca3702",
   "metadata": {},
   "outputs": [],
   "source": [
    "label_converter(data['PlaceofBirth'],'lebanon','Lebanon')"
   ]
  },
  {
   "cell_type": "code",
   "execution_count": null,
   "id": "1a0e4777",
   "metadata": {},
   "outputs": [],
   "source": [
    "label_converter(data['PlaceofBirth'],'venzuela','Venezuela')"
   ]
  },
  {
   "cell_type": "code",
   "execution_count": null,
   "id": "1e85e554",
   "metadata": {},
   "outputs": [],
   "source": [
    "# Check the changes\n",
    "data['PlaceofBirth'].unique()"
   ]
  },
  {
   "cell_type": "markdown",
   "id": "59514817",
   "metadata": {},
   "source": [
    "#### 3.2 Cleaning the StageID feature."
   ]
  },
  {
   "cell_type": "code",
   "execution_count": null,
   "id": "2967900f",
   "metadata": {},
   "outputs": [],
   "source": [
    "# Categories in StageID\n",
    "data['StageID'].unique()"
   ]
  },
  {
   "cell_type": "markdown",
   "id": "ce9ab1ec",
   "metadata": {},
   "source": [
    "For consistancy in the labels we need to change lowerlevel to LowerLevel."
   ]
  },
  {
   "cell_type": "code",
   "execution_count": null,
   "id": "eaa41ab9",
   "metadata": {},
   "outputs": [],
   "source": [
    "label_converter(data['StageID'],'lowerlevel','LowerLevel')"
   ]
  },
  {
   "cell_type": "code",
   "execution_count": null,
   "id": "8ed34880",
   "metadata": {},
   "outputs": [],
   "source": [
    "# Check the changes\n",
    "data['StageID'].unique()"
   ]
  },
  {
   "cell_type": "markdown",
   "id": "2de7aaf1",
   "metadata": {},
   "source": [
    "<p style=\"background-color:Gainsboro; padding:20px; text-align:justify; font-size: 110%\">\n",
    "1. Features with 2 unique lables can be encoded as binary features. </br>\n",
    "2. Feature with more than 2 independent lables can be coded as nominal features. (No relation exist between lables.)</br> \n",
    "3. Feature with more than 2 related lables can be coded as ordinal features. (There is ordinal relation between lables.) \n",
    "</p>"
   ]
  },
  {
   "cell_type": "code",
   "execution_count": null,
   "id": "593af3eb",
   "metadata": {},
   "outputs": [],
   "source": [
    "# Target \n",
    "print(f' TARGET, has {len(data[TARGET].unique())} unique attributes. \\n {data[TARGET].unique()} \\n')"
   ]
  },
  {
   "cell_type": "markdown",
   "id": "e9cf503f",
   "metadata": {},
   "source": [
    "<p style=\"background-color:Gainsboro; padding:20px; text-align:justify; font-size: 110%\">\n",
    "Target has three unique attributes. Can possibly be onehot encoded. \n",
    "</p>"
   ]
  },
  {
   "cell_type": "code",
   "execution_count": null,
   "id": "5235d2a2",
   "metadata": {},
   "outputs": [],
   "source": []
  },
  {
   "cell_type": "markdown",
   "id": "f6eab34f",
   "metadata": {},
   "source": [
    "<p style=\"background-color:Gainsboro; padding:20px; text-align:justify; font-size: 110%\">\n",
    "The descriptive statistical properties of continuous features are tabulated in the above output. \n",
    "</p>"
   ]
  },
  {
   "cell_type": "markdown",
   "id": "fe848c3e",
   "metadata": {},
   "source": [
    "### 4.Clean Numerical Data."
   ]
  },
  {
   "cell_type": "code",
   "execution_count": null,
   "id": "7deb25a0",
   "metadata": {},
   "outputs": [],
   "source": [
    "NUMERICAL_FEATURES = list([column for column in data.columns if data.dtypes[column] != 'object'])\n",
    "NUMERICAL_FEATURES"
   ]
  },
  {
   "cell_type": "code",
   "execution_count": null,
   "id": "4f3fbdf1",
   "metadata": {},
   "outputs": [],
   "source": [
    "print(f'Total Number for Continous Feature : {len(NUMERICAL_FEATURES)}')\n",
    "for i,feature in enumerate(NUMERICAL_FEATURES):\n",
    "    print((i+1),feature)"
   ]
  },
  {
   "cell_type": "code",
   "execution_count": null,
   "id": "45efe597",
   "metadata": {},
   "outputs": [],
   "source": [
    "stats = data.describe()\n",
    "stats.transpose()"
   ]
  },
  {
   "cell_type": "code",
   "execution_count": null,
   "id": "67f5bd95",
   "metadata": {},
   "outputs": [],
   "source": [
    "# Check for null values in the Numerical features\n",
    "data[NUMERICAL_FEATURES].isnull().sum()"
   ]
  },
  {
   "cell_type": "markdown",
   "id": "f2cabcba",
   "metadata": {},
   "source": [
    "<p style=\"background-color:Gainsboro; padding:20px; text-align:justify; font-size: 110%\">\n",
    "The result of <strong>data[NUMERICAL_FEATURES].isnull().sum()</strong> shows there is no null values in any numerical feature.\n",
    "</p>"
   ]
  },
  {
   "cell_type": "markdown",
   "id": "726e1955",
   "metadata": {},
   "source": [
    "### 5. Optimize Data for the Memory."
   ]
  },
  {
   "cell_type": "markdown",
   "id": "d40fd48a",
   "metadata": {},
   "source": [
    "The data is optimized for the memory usage for following advantages\n",
    "1. Reduces the complexity of the data types\n",
    "2. Reduce the size of the data\n",
    "\n",
    "This produce faster convergence in training the ML Models."
   ]
  },
  {
   "cell_type": "code",
   "execution_count": null,
   "id": "b16ad76a",
   "metadata": {},
   "outputs": [],
   "source": [
    "# Original Data\n",
    "data.info()"
   ]
  },
  {
   "cell_type": "code",
   "execution_count": null,
   "id": "886ae81f",
   "metadata": {},
   "outputs": [],
   "source": [
    "optimized_data = kl.data_cleaning(data)"
   ]
  },
  {
   "cell_type": "code",
   "execution_count": null,
   "id": "e603f69d",
   "metadata": {},
   "outputs": [],
   "source": [
    "# Optimized data\n",
    "optimized_data.info()"
   ]
  },
  {
   "cell_type": "code",
   "execution_count": null,
   "id": "e814fe8a",
   "metadata": {},
   "outputs": [],
   "source": [
    "optimized_data.head()"
   ]
  },
  {
   "cell_type": "markdown",
   "id": "9c3d9ecb",
   "metadata": {},
   "source": [
    "### 6. Save Cleaned Data."
   ]
  },
  {
   "cell_type": "code",
   "execution_count": null,
   "id": "6e7f82b6",
   "metadata": {},
   "outputs": [],
   "source": [
    "optimized_data.to_csv('./data/xAPI-Edu-Data_cleaned.csv')"
   ]
  },
  {
   "cell_type": "code",
   "execution_count": null,
   "id": "5eaf8167",
   "metadata": {},
   "outputs": [],
   "source": []
  }
 ],
 "metadata": {
  "kernelspec": {
   "display_name": "Python 3",
   "language": "python",
   "name": "python3"
  },
  "language_info": {
   "codemirror_mode": {
    "name": "ipython",
    "version": 3
   },
   "file_extension": ".py",
   "mimetype": "text/x-python",
   "name": "python",
   "nbconvert_exporter": "python",
   "pygments_lexer": "ipython3",
   "version": "3.8.12"
  }
 },
 "nbformat": 4,
 "nbformat_minor": 5
}
