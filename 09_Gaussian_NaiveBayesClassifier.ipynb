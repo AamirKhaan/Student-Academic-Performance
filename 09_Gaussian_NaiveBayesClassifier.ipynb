{
 "cells": [
  {
   "cell_type": "markdown",
   "id": "a8c15835",
   "metadata": {},
   "source": [
    "<a href=\"https://colab.research.google.com/github/AamirKhaan/Student-Academic-Performance/blob/master/09_Gaussian_NaiveBayesClassifier.ipynb\" target=\"_parent\"><img src=\"https://colab.research.google.com/assets/colab-badge.svg\" alt=\"Open In Colab\"/></a>"
   ]
  },
  {
   "cell_type": "markdown",
   "id": "ffe4ac41",
   "metadata": {},
   "source": [
    "<h1 style=\"background-color:Aqua; padding:20px; border-radius:10px\">Gaussian Naive Bayes Classifier</h1>"
   ]
  },
  {
   "cell_type": "markdown",
   "id": "e9a3eb38",
   "metadata": {},
   "source": [
    "## Overview      \n",
    "\n",
    "<div style=\"background-color:Gainsboro; padding:20px; text-align:justify; font-weight: bold\">\n",
    "    <p>In this section following steps are performed: </p>\n",
    "    <ol>\n",
    "        <li>Data Preparation and Encoding</li>\n",
    "        <li>Training Gaussian Naive Bayes Classifier Model</li>\n",
    "        <li>k-Fold Cross Validation</li>\n",
    "    </ol>\n",
    "</div>\n"
   ]
  },
  {
   "cell_type": "markdown",
   "id": "2523b32a",
   "metadata": {},
   "source": [
    "### Standard Imports"
   ]
  },
  {
   "cell_type": "code",
   "execution_count": 1,
   "id": "73fdff66",
   "metadata": {},
   "outputs": [],
   "source": [
    "import numpy as np\n",
    "import pandas as pd\n",
    "import seaborn as sns\n",
    "import matplotlib.pyplot as plt\n",
    "\n",
    "from sklearn.preprocessing import OrdinalEncoder\n",
    "from sklearn.preprocessing import LabelEncoder\n",
    "\n",
    "from sklearn.naive_bayes import GaussianNB\n",
    "\n",
    "from sklearn.model_selection import train_test_split\n",
    "\n",
    "from sklearn.metrics import accuracy_score, precision_score, recall_score, f1_score\n",
    "from sklearn.metrics import classification_report\n",
    "from sklearn.metrics import confusion_matrix\n",
    "\n",
    "from sklearn.model_selection import KFold\n",
    "from sklearn.model_selection import cross_val_score"
   ]
  },
  {
   "cell_type": "code",
   "execution_count": 2,
   "id": "48dfd00d",
   "metadata": {},
   "outputs": [],
   "source": [
    "# Jupyter Noteboook Configurations (personal prefrences)\n",
    "# Ignore warnings\n",
    "import warnings\n",
    "warnings.filterwarnings('ignore')\n",
    "%matplotlib inline\n",
    "pd.set_option('display.max_columns', None)\n",
    "sns.set() "
   ]
  },
  {
   "cell_type": "code",
   "execution_count": 3,
   "id": "051a7a73",
   "metadata": {},
   "outputs": [],
   "source": [
    "# Global parameters for figure\n",
    "plt.rcParams[\"figure.figsize\"] = [10.00, 8.00]\n",
    "plt.rcParams[\"figure.dpi\"] = 100\n",
    "plt.rcParams[\"figure.autolayout\"] = True"
   ]
  },
  {
   "cell_type": "markdown",
   "id": "3d736838",
   "metadata": {},
   "source": [
    "### 1. Data Preparation and Encoding"
   ]
  },
  {
   "cell_type": "markdown",
   "id": "93126247",
   "metadata": {},
   "source": [
    "#### 1.1 Import Modified Data"
   ]
  },
  {
   "cell_type": "code",
   "execution_count": 4,
   "id": "45304c3d",
   "metadata": {},
   "outputs": [],
   "source": [
    "# Import the Student's data from local storage\n",
    "# ! Dont' run the cell in colab\n",
    "data_df = pd.read_csv('./data/xAPI-Edu-Data_modified.csv')"
   ]
  },
  {
   "cell_type": "code",
   "execution_count": 5,
   "id": "fdc1a2bd",
   "metadata": {},
   "outputs": [],
   "source": [
    "# Import the Student's data from github storage\n",
    "# Run only in colab\n",
    "url = 'https://raw.githubusercontent.com/AamirKhaan/Student-Academic-Performance/main/data/xAPI-Edu-Data_modified.csv'\n",
    "data_df = pd.read_csv(url)"
   ]
  },
  {
   "cell_type": "code",
   "execution_count": 6,
   "id": "b3de80b4",
   "metadata": {},
   "outputs": [],
   "source": [
    "# Selected Features\n",
    "CATEGORICAL_FEATURES = ['stage_id','relation', 'parent_answering_survey', 'parent_school_satisfaction','student_absence_days']\n",
    "NUMERICAL_FEATURES = ['raised_hands', 'visited_resources', 'announcements_view', 'discussion']\n",
    "TARGET = ['class']"
   ]
  },
  {
   "cell_type": "code",
   "execution_count": 7,
   "id": "3bc00201",
   "metadata": {},
   "outputs": [],
   "source": [
    "# Optimize Data Type for efficent memory utilization\n",
    "for feature in CATEGORICAL_FEATURES:\n",
    "    data_df[feature] = data_df[feature].astype('category')\n",
    "    \n",
    "for feature in NUMERICAL_FEATURES:\n",
    "    data_df[feature] = data_df[feature].astype('int8')\n",
    "\n",
    "data_df[TARGET] = data_df[TARGET].astype('category')"
   ]
  },
  {
   "cell_type": "markdown",
   "id": "2b888d87",
   "metadata": {},
   "source": [
    "#### 1.2 Encode Data"
   ]
  },
  {
   "cell_type": "code",
   "execution_count": 8,
   "id": "4fe4c79e",
   "metadata": {},
   "outputs": [],
   "source": [
    "# Input Features Encoding\n",
    "categorical_encoder = OrdinalEncoder(dtype='int8')\n",
    "categorical_ds  = categorical_encoder.fit_transform(data_df[CATEGORICAL_FEATURES])\n",
    "categorical_encoded = pd.DataFrame(categorical_ds, columns=CATEGORICAL_FEATURES, dtype='int8')\n",
    "# Target Encoding\n",
    "target_encoder = LabelEncoder()\n",
    "target_ds = target_encoder.fit_transform(data_df[TARGET])\n",
    "target_encoded = pd.DataFrame(target_ds, columns=TARGET, dtype='int8')\n",
    "# Combine the Data\n",
    "encoded_df = pd.concat([categorical_encoded,data_df[NUMERICAL_FEATURES]], axis=1)"
   ]
  },
  {
   "cell_type": "markdown",
   "id": "1736a972",
   "metadata": {},
   "source": [
    "### 2.  Gaussian Naive Bayes Model"
   ]
  },
  {
   "cell_type": "code",
   "execution_count": 9,
   "id": "4676946b",
   "metadata": {},
   "outputs": [],
   "source": [
    "X = encoded_df\n",
    "y = target_encoded"
   ]
  },
  {
   "cell_type": "code",
   "execution_count": 10,
   "id": "4fb91515",
   "metadata": {},
   "outputs": [],
   "source": [
    "# Test train split\n",
    "X_train, X_test, y_train, y_test = train_test_split(X, y, test_size=0.33, random_state=42)"
   ]
  },
  {
   "cell_type": "code",
   "execution_count": 11,
   "id": "5a562956",
   "metadata": {},
   "outputs": [],
   "source": [
    "# Gaussian Naive Bayes\n",
    "clf = GaussianNB()"
   ]
  },
  {
   "cell_type": "markdown",
   "id": "6fec4549",
   "metadata": {},
   "source": [
    "#### 2.1 Model Parameters"
   ]
  },
  {
   "cell_type": "code",
   "execution_count": 12,
   "id": "0a204212",
   "metadata": {},
   "outputs": [
    {
     "data": {
      "text/plain": [
       "{'priors': None, 'var_smoothing': 1e-09}"
      ]
     },
     "execution_count": 12,
     "metadata": {},
     "output_type": "execute_result"
    }
   ],
   "source": [
    "# Model parameters\n",
    "clf.get_params()"
   ]
  },
  {
   "cell_type": "code",
   "execution_count": 13,
   "id": "0e451de6",
   "metadata": {},
   "outputs": [],
   "source": [
    "# Train the model\n",
    "clf = clf.fit(X_train, y_train)"
   ]
  },
  {
   "cell_type": "markdown",
   "id": "be4a6f08",
   "metadata": {},
   "source": [
    "#### 2.3 Model Scores"
   ]
  },
  {
   "cell_type": "code",
   "execution_count": 14,
   "id": "f9a0d13f",
   "metadata": {},
   "outputs": [
    {
     "name": "stdout",
     "output_type": "stream",
     "text": [
      "NB Test Accuracy: 74.68354430379746\n",
      "NB Train Accuracy: 73.125\n"
     ]
    }
   ],
   "source": [
    "# Test Accuracy\n",
    "y_hat = clf.predict(X_test)\n",
    "initial_test_accuracy = accuracy_score(y_test, y_hat)\n",
    "print(f'NB Test Accuracy: {initial_test_accuracy*100}')\n",
    "# Train Accuracy\n",
    "predictions_train = clf.predict(X_train)\n",
    "initial_train_accuracy = accuracy_score(y_train, predictions_train)\n",
    "print(f'NB Train Accuracy: {initial_train_accuracy*100}')"
   ]
  },
  {
   "cell_type": "markdown",
   "id": "2b21431f",
   "metadata": {},
   "source": [
    "<div style=\"background-color:Gainsboro; padding:20px; text-align:justify; \">\n",
    "<p>The accuracy of the model on Training Data (73.125%) is close to the accuracy on Test Data (74.683%), show a resonabiliy skilled model. </p>\n",
    "</div>"
   ]
  },
  {
   "cell_type": "markdown",
   "id": "23e2e77a",
   "metadata": {},
   "source": [
    "#### 2.4 Confusion Matrix"
   ]
  },
  {
   "cell_type": "code",
   "execution_count": 15,
   "id": "4438cb09",
   "metadata": {},
   "outputs": [
    {
     "data": {
      "image/png": "[encoded data removed]",
      "text/plain": [
       "<Figure size 600x600 with 1 Axes>"
      ]
     },
     "metadata": {},
     "output_type": "display_data"
    }
   ],
   "source": [
    "cm_df = pd.DataFrame(confusion_matrix(y_test, y_hat),\n",
    "                     index = ['H','L','M'], \n",
    "                     columns = ['H','L','M'])\n",
    "\n",
    "fig = plt.figure(figsize=(6,6))\n",
    "sns.heatmap(cm_df, annot=True, cmap='mako',cbar=False,linewidth=1)\n",
    "plt.title('Naive Bayes Confusion Matrix')\n",
    "plt.ylabel('Actual Values')\n",
    "plt.xlabel('Predicted Values')\n",
    "plt.show()"
   ]
  },
  {
   "cell_type": "markdown",
   "id": "c2ebe688",
   "metadata": {},
   "source": [
    "#### 2.5 Classification Report"
   ]
  },
  {
   "cell_type": "code",
   "execution_count": 16,
   "id": "8be84b67",
   "metadata": {},
   "outputs": [
    {
     "name": "stdout",
     "output_type": "stream",
     "text": [
      "Naive Bayes Classification Report\n",
      "\n",
      "              precision    recall  f1-score   support\n",
      "\n",
      "           H       0.66      0.87      0.75        38\n",
      "           L       0.76      0.89      0.82        46\n",
      "           M       0.81      0.59      0.69        74\n",
      "\n",
      "    accuracy                           0.75       158\n",
      "   macro avg       0.74      0.78      0.75       158\n",
      "weighted avg       0.76      0.75      0.74       158\n",
      "\n"
     ]
    }
   ],
   "source": [
    "print('Naive Bayes Classification Report\\n')\n",
    "print(classification_report(y_test,y_hat, target_names=['H','L','M']))"
   ]
  },
  {
   "cell_type": "markdown",
   "id": "3f74093d",
   "metadata": {},
   "source": [
    "### 3. k-Fold Cross Validation"
   ]
  },
  {
   "cell_type": "code",
   "execution_count": 17,
   "id": "d2934112",
   "metadata": {},
   "outputs": [
    {
     "name": "stdout",
     "output_type": "stream",
     "text": [
      "Mean Accuracy: 0.716 (0.051)\n"
     ]
    }
   ],
   "source": [
    "# Model\n",
    "clf_cv = GaussianNB()\n",
    "cv = KFold(n_splits=10, random_state=42, shuffle=True)\n",
    "\n",
    "scores = cross_val_score(clf_cv, X_train, y_train, scoring='accuracy', cv = cv, n_jobs=-1)\n",
    "\n",
    "# Performance\n",
    "print('Mean Accuracy: %.3f (%.3f)' % (np.mean(scores), np.std(scores)))"
   ]
  },
  {
   "cell_type": "markdown",
   "id": "e70f349d",
   "metadata": {},
   "source": [
    "## Observations\n",
    "  \n",
    "The key observations are:  \n",
    "   \n",
    "1. The performance of Gaussina Naive Bayes Classifier on the given data is acceptable.\n",
    "2. The mean accuracy of the cross validation is close to the orginal model."
   ]
  },
  {
   "cell_type": "markdown",
   "id": "f5fd9cbd",
   "metadata": {},
   "source": [
    "## Conclusion\n",
    "Based on the obervations:\n",
    "\n",
    "1. Looking at the Train and Test accuracies there is no overfitting or under fitting of the model."
   ]
  },
  {
   "cell_type": "code",
   "execution_count": null,
   "id": "bc0a2d48",
   "metadata": {},
   "outputs": [],
   "source": []
  }
 ],
 "metadata": {
  "kernelspec": {
   "display_name": "Python 3",
   "language": "python",
   "name": "python3"
  },
  "language_info": {
   "codemirror_mode": {
    "name": "ipython",
    "version": 3
   },
   "file_extension": ".py",
   "mimetype": "text/x-python",
   "name": "python",
   "nbconvert_exporter": "python",
   "pygments_lexer": "ipython3",
   "version": "3.8.12"
  }
 },
 "nbformat": 4,
 "nbformat_minor": 5
}
