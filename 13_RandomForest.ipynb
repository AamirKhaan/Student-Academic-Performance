{
 "cells": [
  {
   "cell_type": "markdown",
   "id": "a8c15835",
   "metadata": {},
   "source": [
    "<a href=\"https://colab.research.google.com/github/AamirKhaan/Student-Academic-Performance/blob/master/13_RandomForest.ipynb\" target=\"_parent\"><img src=\"https://colab.research.google.com/assets/colab-badge.svg\" alt=\"Open In Colab\"/></a>"
   ]
  },
  {
   "cell_type": "markdown",
   "id": "ffe4ac41",
   "metadata": {},
   "source": [
    "<h1 style=\"background-color:Aqua; padding:20px; border-radius:10px\">RandomForest</h1>"
   ]
  },
  {
   "cell_type": "markdown",
   "id": "e9a3eb38",
   "metadata": {},
   "source": [
    "## Overview      \n",
    "\n",
    "<div style=\"background-color:Gainsboro; padding:20px; text-align:justify; font-weight: bold\">\n",
    "    <p>In this section following steps are performed: </p>\n",
    "    <ol>\n",
    "        <li>Data Preparation and Encoding</li>\n",
    "        <li>Preliminary RandomForest</li>\n",
    "        <li>RandomForest Optimization with Minimal Cost Complexity Pruning</li>\n",
    "        <li>RandomForest with optimized with optimized Cost Complexity Pruning</li>\n",
    "        <li>Repeated Stratified k-Fold Cross Validation</li>\n",
    "        <li>Model Learning Curve</li>\n",
    "    </ol>\n",
    "</div>\n"
   ]
  },
  {
   "cell_type": "markdown",
   "id": "2523b32a",
   "metadata": {},
   "source": [
    "### Standard Imports"
   ]
  },
  {
   "cell_type": "code",
   "execution_count": 1,
   "id": "73fdff66",
   "metadata": {},
   "outputs": [],
   "source": [
    "import numpy as np\n",
    "import pandas as pd\n",
    "import seaborn as sns\n",
    "import matplotlib.pyplot as plt\n",
    "\n",
    "from sklearn.preprocessing import OrdinalEncoder\n",
    "from sklearn.preprocessing import LabelEncoder\n",
    "\n",
    "from sklearn.ensemble import RandomForestClassifier\n",
    "\n",
    "from sklearn.model_selection import train_test_split\n",
    "\n",
    "from sklearn.metrics import accuracy_score, precision_score, recall_score, f1_score\n",
    "from sklearn.metrics import classification_report\n",
    "from sklearn.metrics import confusion_matrix\n",
    "\n",
    "from sklearn.model_selection import RepeatedStratifiedKFold\n",
    "from sklearn.model_selection import cross_val_score\n",
    "\n",
    "from sklearn.model_selection import learning_curve\n",
    "from sklearn.model_selection import ShuffleSplit"
   ]
  },
  {
   "cell_type": "code",
   "execution_count": 2,
   "id": "48dfd00d",
   "metadata": {},
   "outputs": [],
   "source": [
    "# Jupyter Noteboook Configurations (personal prefrences)\n",
    "# Ignore warnings\n",
    "import warnings\n",
    "warnings.filterwarnings('ignore')\n",
    "%matplotlib inline\n",
    "pd.set_option('display.max_columns', None)\n",
    "sns.set() "
   ]
  },
  {
   "cell_type": "code",
   "execution_count": 3,
   "id": "051a7a73",
   "metadata": {},
   "outputs": [],
   "source": [
    "# Global parameters for figure\n",
    "plt.rcParams[\"figure.figsize\"] = [10.00, 8.00]\n",
    "plt.rcParams[\"figure.dpi\"] = 100\n",
    "plt.rcParams[\"figure.autolayout\"] = True"
   ]
  },
  {
   "cell_type": "markdown",
   "id": "3d736838",
   "metadata": {},
   "source": [
    "### 1. Data Preparation and Encoding"
   ]
  },
  {
   "cell_type": "markdown",
   "id": "93126247",
   "metadata": {},
   "source": [
    "#### 1.1 Import Modified Data"
   ]
  },
  {
   "cell_type": "code",
   "execution_count": 4,
   "id": "45304c3d",
   "metadata": {},
   "outputs": [],
   "source": [
    "# Import the Student's data from local storage\n",
    "# ! Dont' run the cell in colab\n",
    "data_df = pd.read_csv('./data/xAPI-Edu-Data_modified.csv')"
   ]
  },
  {
   "cell_type": "code",
   "execution_count": 5,
   "id": "fdc1a2bd",
   "metadata": {},
   "outputs": [],
   "source": [
    "# Import the Student's data from github storage\n",
    "# Run only in colab\n",
    "url = 'https://raw.githubusercontent.com/AamirKhaan/Student-Academic-Performance/main/data/xAPI-Edu-Data_modified.csv'\n",
    "data_df = pd.read_csv(url)"
   ]
  },
  {
   "cell_type": "code",
   "execution_count": 6,
   "id": "b3de80b4",
   "metadata": {},
   "outputs": [],
   "source": [
    "# Selected Features\n",
    "CATEGORICAL_FEATURES = ['stage_id','relation', 'parent_answering_survey', \n",
    "                            'parent_school_satisfaction','student_absence_days']\n",
    "NUMERICAL_FEATURES = ['raised_hands', 'visited_resources', 'announcements_view', 'discussion']\n",
    "TARGET = ['class']"
   ]
  },
  {
   "cell_type": "code",
   "execution_count": 7,
   "id": "3bc00201",
   "metadata": {},
   "outputs": [],
   "source": [
    "# Optimize Data Type for efficent memory utilization\n",
    "for feature in CATEGORICAL_FEATURES:\n",
    "    data_df[feature] = data_df[feature].astype('category')\n",
    "    \n",
    "for feature in NUMERICAL_FEATURES:\n",
    "    data_df[feature] = data_df[feature].astype('int8')\n",
    "\n",
    "data_df[TARGET] = data_df[TARGET].astype('category')"
   ]
  },
  {
   "cell_type": "markdown",
   "id": "2b888d87",
   "metadata": {},
   "source": [
    "#### 1.2 Encode Data"
   ]
  },
  {
   "cell_type": "code",
   "execution_count": 8,
   "id": "4fe4c79e",
   "metadata": {},
   "outputs": [],
   "source": [
    "# Input Features Encoding\n",
    "categorical_encoder = OrdinalEncoder(dtype='int8')\n",
    "categorical_ds  = categorical_encoder.fit_transform(data_df[CATEGORICAL_FEATURES])\n",
    "categorical_encoded = pd.DataFrame(categorical_ds, columns=CATEGORICAL_FEATURES, dtype='int8')\n",
    "# Target Encoding\n",
    "target_encoder = LabelEncoder()\n",
    "target_ds = target_encoder.fit_transform(data_df[TARGET])\n",
    "target_encoded = pd.DataFrame(target_ds, columns=TARGET, dtype='int8')\n",
    "# Combine the Data\n",
    "encoded_df = pd.concat([categorical_encoded,data_df[NUMERICAL_FEATURES]], axis=1)"
   ]
  },
  {
   "cell_type": "markdown",
   "id": "0dfe8870",
   "metadata": {},
   "source": [
    "### 2.  Preliminary RandomForest Classifier"
   ]
  },
  {
   "cell_type": "code",
   "execution_count": 9,
   "id": "03e3d018",
   "metadata": {},
   "outputs": [],
   "source": [
    "X = encoded_df\n",
    "y = target_encoded"
   ]
  },
  {
   "cell_type": "code",
   "execution_count": 10,
   "id": "4fb91515",
   "metadata": {},
   "outputs": [],
   "source": [
    "# Test train split\n",
    "X_train, X_test, y_train, y_test = train_test_split(X, y, test_size=0.33, random_state=42)"
   ]
  },
  {
   "cell_type": "code",
   "execution_count": 11,
   "id": "5a562956",
   "metadata": {},
   "outputs": [],
   "source": [
    "# RandomForest Classifier\n",
    "clf = RandomForestClassifier(random_state=42)"
   ]
  },
  {
   "cell_type": "markdown",
   "id": "6fec4549",
   "metadata": {},
   "source": [
    "#### 2.1 Model Parameters"
   ]
  },
  {
   "cell_type": "code",
   "execution_count": 12,
   "id": "0a204212",
   "metadata": {},
   "outputs": [
    {
     "data": {
      "text/plain": [
       "{'bootstrap': True,\n",
       " 'ccp_alpha': 0.0,\n",
       " 'class_weight': None,\n",
       " 'criterion': 'gini',\n",
       " 'max_depth': None,\n",
       " 'max_features': 'auto',\n",
       " 'max_leaf_nodes': None,\n",
       " 'max_samples': None,\n",
       " 'min_impurity_decrease': 0.0,\n",
       " 'min_samples_leaf': 1,\n",
       " 'min_samples_split': 2,\n",
       " 'min_weight_fraction_leaf': 0.0,\n",
       " 'n_estimators': 100,\n",
       " 'n_jobs': None,\n",
       " 'oob_score': False,\n",
       " 'random_state': 42,\n",
       " 'verbose': 0,\n",
       " 'warm_start': False}"
      ]
     },
     "execution_count": 12,
     "metadata": {},
     "output_type": "execute_result"
    }
   ],
   "source": [
    "# Model parameters\n",
    "clf.get_params()"
   ]
  },
  {
   "cell_type": "code",
   "execution_count": 13,
   "id": "2620c2a8",
   "metadata": {},
   "outputs": [],
   "source": [
    "# Train the model\n",
    "clf = clf.fit(X_train, y_train)"
   ]
  },
  {
   "cell_type": "markdown",
   "id": "be4a6f08",
   "metadata": {},
   "source": [
    "#### 2.3 Model Scores"
   ]
  },
  {
   "cell_type": "code",
   "execution_count": 14,
   "id": "f9a0d13f",
   "metadata": {},
   "outputs": [
    {
     "name": "stdout",
     "output_type": "stream",
     "text": [
      "Preliminary RandomForest Test Accuracy: 79.74683544303798\n",
      "Preliminary RandomForest Train Accuracy: 100.0\n"
     ]
    }
   ],
   "source": [
    "# Test Accuracy\n",
    "y_hat = clf.predict(X_test)\n",
    "initial_test_accuracy = accuracy_score(y_test, y_hat)\n",
    "print(f'Preliminary RandomForest Test Accuracy: {initial_test_accuracy*100}')\n",
    "# Train Accuracy\n",
    "predictions_train = clf.predict(X_train)\n",
    "initial_train_accuracy = accuracy_score(y_train, predictions_train)\n",
    "print(f'Preliminary RandomForest Train Accuracy: {initial_train_accuracy*100}')"
   ]
  },
  {
   "cell_type": "markdown",
   "id": "2b21431f",
   "metadata": {},
   "source": [
    "<div style=\"background-color:Gainsboro; padding:20px; text-align:justify; \">\n",
    "<p>The accuracy of the model on Training Data (100%) and the accuracy on Test Data (79.75%).</p>\n",
    "</div>"
   ]
  },
  {
   "cell_type": "markdown",
   "id": "23e2e77a",
   "metadata": {},
   "source": [
    "#### 2.4 Confusion Matrix"
   ]
  },
  {
   "cell_type": "code",
   "execution_count": 15,
   "id": "4438cb09",
   "metadata": {},
   "outputs": [
    {
     "data": {
      "image/png": "[encoded data removed]",
      "text/plain": [
       "<Figure size 600x600 with 1 Axes>"
      ]
     },
     "metadata": {},
     "output_type": "display_data"
    }
   ],
   "source": [
    "cm_df = pd.DataFrame(confusion_matrix(y_test, y_hat),\n",
    "                     index = ['H','L','M'], \n",
    "                     columns = ['H','L','M'])\n",
    "\n",
    "fig = plt.figure(figsize=(6,6))\n",
    "sns.heatmap(cm_df, annot=True, cmap='mako',cbar=False,linewidth=1)\n",
    "plt.title('RandomForest Confusion Matrix')\n",
    "plt.ylabel('Actual Values')\n",
    "plt.xlabel('Predicted Values')\n",
    "plt.show()"
   ]
  },
  {
   "cell_type": "markdown",
   "id": "c2ebe688",
   "metadata": {},
   "source": [
    "#### 2.5 Classification Report"
   ]
  },
  {
   "cell_type": "code",
   "execution_count": 16,
   "id": "8be84b67",
   "metadata": {},
   "outputs": [
    {
     "name": "stdout",
     "output_type": "stream",
     "text": [
      "RandomForest Classification Report\n",
      "\n",
      "              precision    recall  f1-score   support\n",
      "\n",
      "           H       0.75      0.79      0.77        38\n",
      "           L       0.83      0.87      0.85        46\n",
      "           M       0.80      0.76      0.78        74\n",
      "\n",
      "    accuracy                           0.80       158\n",
      "   macro avg       0.79      0.81      0.80       158\n",
      "weighted avg       0.80      0.80      0.80       158\n",
      "\n"
     ]
    }
   ],
   "source": [
    "print('RandomForest Classification Report\\n')\n",
    "print(classification_report(y_test,y_hat, target_names=['H','L','M']))"
   ]
  },
  {
   "cell_type": "markdown",
   "id": "0c52e25a",
   "metadata": {},
   "source": [
    "### 3. RandomForest Classifier Optimization with Minimal Cost Complexity Pruning"
   ]
  },
  {
   "cell_type": "code",
   "execution_count": 17,
   "id": "716197eb",
   "metadata": {},
   "outputs": [],
   "source": [
    "# Taken from the base DT model.\n",
    "ccp_alphas = [0.00267857, 0.00273437, 0.00286458,\n",
    "       0.00288462, 0.00294118, 0.00297325, 0.00301535, 0.003125  ,\n",
    "       0.003125  , 0.003125  , 0.003125  , 0.00340909, 0.0036655 ,\n",
    "       0.00385417, 0.00416667, 0.00429036, 0.0046875 , 0.00474314,\n",
    "       0.00476678, 0.005]"
   ]
  },
  {
   "cell_type": "code",
   "execution_count": 18,
   "id": "ae1b5336",
   "metadata": {},
   "outputs": [],
   "source": [
    "clf_rf = []\n",
    "for n in ccp_alphas:\n",
    "    clf = RandomForestClassifier(random_state=42,ccp_alpha = n)\n",
    "    clf.fit(X_train, y_train)\n",
    "    clf_rf.append(clf)\n",
    "\n",
    "train_scores = [clf.score(X_train,y_train) for clf in clf_rf]\n",
    "test_scores = [clf.score(X_test,y_test) for clf in clf_rf]"
   ]
  },
  {
   "cell_type": "code",
   "execution_count": 19,
   "id": "27960299",
   "metadata": {},
   "outputs": [
    {
     "data": {
      "image/png": "[encoded data removed]",
      "text/plain": [
       "<Figure size 1200x800 with 1 Axes>"
      ]
     },
     "metadata": {},
     "output_type": "display_data"
    }
   ],
   "source": [
    "plt.rcParams[\"figure.figsize\"] = [12.00, 8.00]\n",
    "fig, ax = plt.subplots()\n",
    "ax.set_xlabel('ccp_alpha')\n",
    "ax.set_ylabel('accuracy')\n",
    "ax.set_title('Accuracy vs ccp_alpha for trainig and testing sets')\n",
    "ax.plot(ccp_alphas , train_scores, marker='o', label='train', drawstyle='steps-post')\n",
    "ax.plot(ccp_alphas , test_scores, marker='o', label='test', drawstyle='steps-post')\n",
    "ax.legend()\n",
    "plt.show()"
   ]
  },
  {
   "cell_type": "markdown",
   "id": "8e1ebc04",
   "metadata": {},
   "source": [
    "<div style=\"background-color:Gainsboro; padding:20px; text-align:justify;\">\n",
    "<p>The graph of accuracy vs ccp_alpha show the variation in the accuracy with respect to ccp_alpha values in Training and Test data. The peak accuracy is around ccp_alpha value of 0.00286458.</p>\n",
    "</div>"
   ]
  },
  {
   "cell_type": "code",
   "execution_count": 20,
   "id": "3af93791",
   "metadata": {},
   "outputs": [],
   "source": [
    "# Get the index of the peak accuracy on the test data\n",
    "index_max = test_scores.index(max(test_scores))"
   ]
  },
  {
   "cell_type": "markdown",
   "id": "f0a4c843",
   "metadata": {},
   "source": [
    "### 4. RandomForest with optimized Minimal Cost Complexity Pruning"
   ]
  },
  {
   "cell_type": "markdown",
   "id": "805465a4",
   "metadata": {},
   "source": [
    "#### 4.1 Optimized RandomForest Parameters"
   ]
  },
  {
   "cell_type": "code",
   "execution_count": 21,
   "id": "6eeeefd8",
   "metadata": {},
   "outputs": [
    {
     "data": {
      "text/plain": [
       "{'bootstrap': True,\n",
       " 'ccp_alpha': 0.00286458,\n",
       " 'class_weight': None,\n",
       " 'criterion': 'gini',\n",
       " 'max_depth': None,\n",
       " 'max_features': 'auto',\n",
       " 'max_leaf_nodes': None,\n",
       " 'max_samples': None,\n",
       " 'min_impurity_decrease': 0.0,\n",
       " 'min_samples_leaf': 1,\n",
       " 'min_samples_split': 2,\n",
       " 'min_weight_fraction_leaf': 0.0,\n",
       " 'n_estimators': 100,\n",
       " 'n_jobs': None,\n",
       " 'oob_score': False,\n",
       " 'random_state': 42,\n",
       " 'verbose': 0,\n",
       " 'warm_start': False}"
      ]
     },
     "execution_count": 21,
     "metadata": {},
     "output_type": "execute_result"
    }
   ],
   "source": [
    "clf_rf[index_max].get_params()"
   ]
  },
  {
   "cell_type": "markdown",
   "id": "0ac5ea71",
   "metadata": {},
   "source": [
    "#### 4.2 Optimized RandomForest Scores"
   ]
  },
  {
   "cell_type": "code",
   "execution_count": 22,
   "id": "f0e9bf13",
   "metadata": {},
   "outputs": [
    {
     "name": "stdout",
     "output_type": "stream",
     "text": [
      "Optimized RandomForest Test Accuracy: 79.74683544303798\n",
      "Optimized RandomForest Train Accuracy: 99.375\n"
     ]
    }
   ],
   "source": [
    "# Test Accuracy\n",
    "opt_y_test = clf_rf[index_max].predict(X_test)\n",
    "opt_test_accuracy = accuracy_score(y_test, opt_y_test)\n",
    "print(f'Optimized RandomForest Test Accuracy: {opt_test_accuracy*100}')\n",
    "# Train Accuracy\n",
    "opt_y_train = clf_rf[index_max].predict(X_train)\n",
    "opt_train_accuracy = accuracy_score(y_train, opt_y_train)\n",
    "print(f'Optimized RandomForest Train Accuracy: {opt_train_accuracy*100}')"
   ]
  },
  {
   "cell_type": "markdown",
   "id": "4a2c52cb",
   "metadata": {},
   "source": [
    "<div style=\"background-color:Gainsboro; padding:20px; text-align:justify; \">\n",
    "<p>The accuracy of the optimized model on Training Data (99.37%) greater than the accuracy on Test Data (79.746%). The model shows acceptable performance. </p>\n",
    "</div>"
   ]
  },
  {
   "cell_type": "markdown",
   "id": "8ce4c3cf",
   "metadata": {},
   "source": [
    "#### 4.3 Optimized RandomForest Confusion Matrix"
   ]
  },
  {
   "cell_type": "code",
   "execution_count": 23,
   "id": "cec3d239",
   "metadata": {},
   "outputs": [
    {
     "data": {
      "image/png": "[encoded data removed]",
      "text/plain": [
       "<Figure size 600x600 with 1 Axes>"
      ]
     },
     "metadata": {},
     "output_type": "display_data"
    }
   ],
   "source": [
    "ocm_df = pd.DataFrame(confusion_matrix(y_test, opt_y_test),\n",
    "                     index = ['H','L','M'], \n",
    "                     columns = ['H','L','M'])\n",
    "\n",
    "fig = plt.figure(figsize=(6,6))\n",
    "sns.heatmap(ocm_df, annot=True, cmap='mako',cbar=False,linewidth=1)\n",
    "plt.title('Optimized RandomForest Confusion Matrix')\n",
    "plt.ylabel('Actual Values')\n",
    "plt.xlabel('Predicted Values')\n",
    "plt.show()"
   ]
  },
  {
   "cell_type": "markdown",
   "id": "5df7acd4",
   "metadata": {},
   "source": [
    "#### 4.4 Optimized RandomForest Classification report"
   ]
  },
  {
   "cell_type": "code",
   "execution_count": 24,
   "id": "f9322d1a",
   "metadata": {},
   "outputs": [
    {
     "name": "stdout",
     "output_type": "stream",
     "text": [
      "Optimized RandomForest Classifier Report\n",
      "\n",
      "              precision    recall  f1-score   support\n",
      "\n",
      "           H       0.78      0.74      0.76        38\n",
      "           L       0.83      0.87      0.85        46\n",
      "           M       0.78      0.78      0.78        74\n",
      "\n",
      "    accuracy                           0.80       158\n",
      "   macro avg       0.80      0.80      0.80       158\n",
      "weighted avg       0.80      0.80      0.80       158\n",
      "\n"
     ]
    }
   ],
   "source": [
    "print('Optimized RandomForest Classifier Report\\n')\n",
    "print(classification_report(y_test,opt_y_test, target_names=['H','L','M']))"
   ]
  },
  {
   "cell_type": "markdown",
   "id": "3f74093d",
   "metadata": {},
   "source": [
    "### 5. Repeated Stratified k-Fold Cross Validation"
   ]
  },
  {
   "cell_type": "code",
   "execution_count": 25,
   "id": "d2934112",
   "metadata": {},
   "outputs": [
    {
     "name": "stdout",
     "output_type": "stream",
     "text": [
      "Mean Accuracy: 0.760 (0.054)\n"
     ]
    }
   ],
   "source": [
    "# Model\n",
    "clf_cv = RandomForestClassifier(random_state=42,ccp_alpha = 0.00286458)\n",
    "cv = RepeatedStratifiedKFold(n_splits=10, n_repeats=3, random_state=1)\n",
    "\n",
    "scores = cross_val_score(clf_cv, X_train, y_train, scoring='accuracy', cv = cv, n_jobs=-1)\n",
    "\n",
    "# Performance\n",
    "print('Mean Accuracy: %.3f (%.3f)' % (np.mean(scores), np.std(scores)))"
   ]
  },
  {
   "cell_type": "markdown",
   "id": "5323420a",
   "metadata": {},
   "source": [
    "### 6. Model Learning Curve"
   ]
  },
  {
   "cell_type": "code",
   "execution_count": 26,
   "id": "6ce5cd68",
   "metadata": {},
   "outputs": [],
   "source": [
    "cv = ShuffleSplit(n_splits=50, test_size=0.2, random_state=42)\n",
    "estimator = RandomForestClassifier(random_state=42,ccp_alpha = 0.00286458)\n",
    "\n",
    "train_sizes=np.linspace(0.1, 1.0, 5)\n",
    "\n",
    "train_sizes, train_scores, test_scores, fit_times, score_times = learning_curve(\n",
    "        estimator,\n",
    "        X,\n",
    "        y,\n",
    "        cv=cv,\n",
    "        n_jobs=-1,\n",
    "        train_sizes=train_sizes,\n",
    "        return_times=True,\n",
    "    )\n",
    "\n",
    "train_scores_mean = np.mean(train_scores, axis=1)\n",
    "train_scores_std = np.std(train_scores, axis=1)\n",
    "test_scores_mean = np.mean(test_scores, axis=1)\n",
    "test_scores_std = np.std(test_scores, axis=1)"
   ]
  },
  {
   "cell_type": "code",
   "execution_count": 27,
   "id": "cf2a771d",
   "metadata": {},
   "outputs": [
    {
     "data": {
      "image/png": "[encoded data removed]",
      "text/plain": [
       "<Figure size 1000x500 with 1 Axes>"
      ]
     },
     "metadata": {},
     "output_type": "display_data"
    }
   ],
   "source": [
    "fig, ax = plt.subplots(figsize=(10, 5))\n",
    "ax.set_title('RandomForest Learning Curve')\n",
    "ax.set_xlabel(\"Training examples\")\n",
    "ax.set_ylabel(\"Score\")\n",
    "# Plot learning curve\n",
    "ax.grid()\n",
    "ax.fill_between(\n",
    "        train_sizes,\n",
    "        train_scores_mean - train_scores_std,\n",
    "        train_scores_mean + train_scores_std,\n",
    "        alpha=0.1,\n",
    "        color=\"r\",)\n",
    "\n",
    "ax.fill_between(\n",
    "        train_sizes,\n",
    "        test_scores_mean - test_scores_std,\n",
    "        test_scores_mean + test_scores_std,\n",
    "        alpha=0.1,\n",
    "        color=\"g\",)\n",
    "    \n",
    "ax.plot(train_sizes, train_scores_mean, \"o-\", color=\"r\", label=\"Training score\")   \n",
    "ax.plot(train_sizes, test_scores_mean, \"o-\", color=\"g\", label=\"Cross-validation score\")   \n",
    "ax.legend(loc=\"best\");"
   ]
  },
  {
   "cell_type": "markdown",
   "id": "e70f349d",
   "metadata": {},
   "source": [
    "## Observations\n",
    "  \n",
    "The key observations are:  \n",
    "     \n",
    "1. The Initial RandomForest has:     \n",
    "    a. Test Accuracy of 79.75%     \n",
    "    b. Train Accuracy of 100%     \n",
    "2. Minimal Cost Complexity Pruning at ccp_alph of approximately 0.00286458 results in highest accuracy of 79.75%.\n",
    "3. The Optimized RandomForest has:   \n",
    "    a. Test Accuracy of 79.75%     \n",
    "    b. Train Accuracy of 99.38%    \n",
    "4. The 10 Fold Cross Validation for the RandomForest in Mean Accuracy of 76%."
   ]
  },
  {
   "cell_type": "markdown",
   "id": "f5fd9cbd",
   "metadata": {},
   "source": [
    "## Conclusion\n",
    "Based on the obervations:\n",
    "\n",
    "1. The RandomForest with Minimal Cost Complexity Prunning produced the maximum test accuracy of 79.75%.\n",
    "2. The Cross Validation produced mean accuracy of76 % that show the model quite well trained and generalized over the given data. "
   ]
  },
  {
   "cell_type": "code",
   "execution_count": null,
   "id": "bc0a2d48",
   "metadata": {},
   "outputs": [],
   "source": []
  }
 ],
 "metadata": {
  "kernelspec": {
   "display_name": "Python 3",
   "language": "python",
   "name": "python3"
  },
  "language_info": {
   "codemirror_mode": {
    "name": "ipython",
    "version": 3
   },
   "file_extension": ".py",
   "mimetype": "text/x-python",
   "name": "python",
   "nbconvert_exporter": "python",
   "pygments_lexer": "ipython3",
   "version": "3.8.12"
  }
 },
 "nbformat": 4,
 "nbformat_minor": 5
}
